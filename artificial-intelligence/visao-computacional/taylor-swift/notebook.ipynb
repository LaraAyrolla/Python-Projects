{
  "nbformat": 4,
  "nbformat_minor": 0,
  "metadata": {
    "colab": {
      "provenance": [],
      "authorship_tag": "ABX9TyNbCuZMd9cO7Y7bGjzWN4en",
      "include_colab_link": true
    },
    "kernelspec": {
      "name": "python3",
      "display_name": "Python 3"
    },
    "language_info": {
      "name": "python"
    }
  },
  "cells": [
    {
      "cell_type": "markdown",
      "metadata": {
        "id": "view-in-github",
        "colab_type": "text"
      },
      "source": [
        "<a href=\"https://colab.research.google.com/github/LaraAyrolla/Python-Projects/blob/main/artificial-intelligence/visao-computacional/taylor-swift/notebook.ipynb\" target=\"_parent\"><img src=\"https://colab.research.google.com/assets/colab-badge.svg\" alt=\"Open In Colab\"/></a>"
      ]
    },
    {
      "cell_type": "markdown",
      "source": [
        "## **Visão Computacional - \"É a Taylor Swift?\"**\n",
        "\n",
        "*   Taylor Swift (1)\n",
        "*   Outra pessoa (0)\n",
        "\n",
        "\n",
        "\n"
      ],
      "metadata": {
        "id": "ipBgeHnOiRUr"
      }
    },
    {
      "cell_type": "code",
      "metadata": {
        "id": "FrnWvfOm0YBY"
      },
      "source": [
        "import cv2\n",
        "from tensorflow.keras import regularizers\n",
        "from tensorflow.keras.layers import Conv2D, MaxPooling2D, Flatten, Dense, Dropout\n",
        "from tensorflow.keras.models import Sequential\n",
        "from tensorflow.keras.preprocessing.image import ImageDataGenerator, img_to_array\n",
        "import matplotlib.pyplot as plt\n",
        "import numpy as np\n",
        "import os\n",
        "from sklearn.metrics import accuracy_score, precision_score, recall_score, f1_score, confusion_matrix, cohen_kappa_score, roc_auc_score\n",
        "from sklearn.model_selection import train_test_split"
      ],
      "execution_count": null,
      "outputs": []
    },
    {
      "cell_type": "code",
      "source": [
        "# Função para carregar as imagens e ajustar o tamanho delas\n",
        "def load_images_from_folder(folder):\n",
        "    images = []\n",
        "    for filename in os.listdir(folder):\n",
        "        img = cv2.imread(os.path.join(folder, filename))\n",
        "        if img is not None:\n",
        "            img = cv2.resize(img, (224, 224))\n",
        "            img = img_to_array(img)\n",
        "            img = img / 255.0\n",
        "            images.append(img)\n",
        "    return np.array(images)"
      ],
      "metadata": {
        "id": "Rz8hhrwuFBej"
      },
      "execution_count": null,
      "outputs": []
    },
    {
      "cell_type": "code",
      "source": [
        "# Carregar as imagens e definir o valor atribuído a elas para o modelo (0 ou 1)\n",
        "taylor_swift_dir = '/content/taylor_swift'\n",
        "taylor_swift_images = load_images_from_folder(taylor_swift_dir)\n",
        "taylor_swift_labels = np.ones(len(taylor_swift_images))\n",
        "\n",
        "outras_pessoas_dir = '/content/outras_pessoas'\n",
        "outras_pessoas_images = load_images_from_folder(outras_pessoas_dir)\n",
        "outras_pessoas_labels = np.zeros(len(outras_pessoas_images))"
      ],
      "metadata": {
        "id": "KzjfBuHzFBoe"
      },
      "execution_count": null,
      "outputs": []
    },
    {
      "cell_type": "code",
      "source": [
        "# Juntar as imagens e valores atribuídos das duas metades da base de dados\n",
        "X = np.concatenate((taylor_swift_images, outras_pessoas_images))\n",
        "Y = np.concatenate((taylor_swift_labels, outras_pessoas_labels))"
      ],
      "metadata": {
        "id": "nWBVyG7CF2k7"
      },
      "execution_count": null,
      "outputs": []
    },
    {
      "cell_type": "code",
      "source": [
        "# Separar os dados para treino e para teste\n",
        "xtrain, xtest, ytrain, ytest = train_test_split(X, Y, test_size=0.2)"
      ],
      "metadata": {
        "id": "4S_NxaZDF2o6"
      },
      "execution_count": null,
      "outputs": []
    },
    {
      "cell_type": "code",
      "source": [
        "# Arquitetura do modelo\n",
        "model = Sequential()\n",
        "model.add(Conv2D(32, (3, 3), activation='relu', input_shape=(224, 224, 3)))\n",
        "model.add(MaxPooling2D((2, 2)))\n",
        "model.add(Flatten())\n",
        "model.add(Dense(30, activation='relu'))\n",
        "model.add(Dropout(0.2))\n",
        "model.add(Dense(1, activation='sigmoid'))"
      ],
      "metadata": {
        "id": "gtAwpuIIFtmo"
      },
      "execution_count": null,
      "outputs": []
    },
    {
      "cell_type": "code",
      "source": [
        "# Compilação do modelo\n",
        "model.compile(optimizer='adam', loss='binary_crossentropy', metrics=['accuracy'])"
      ],
      "metadata": {
        "id": "pA1wcdzMGxsl"
      },
      "execution_count": null,
      "outputs": []
    },
    {
      "cell_type": "code",
      "source": [
        "# Alterar as imagens para aumentar e diversificar a base e aplicar aos dados de treino\n",
        "datagen = ImageDataGenerator(\n",
        "    rotation_range=20,\n",
        "    width_shift_range=0.2,\n",
        "    height_shift_range=0.2,\n",
        "    horizontal_flip=False\n",
        ")\n",
        "\n",
        "datagen.fit(xtrain)"
      ],
      "metadata": {
        "id": "XyWMDVlUG2Oo"
      },
      "execution_count": null,
      "outputs": []
    },
    {
      "cell_type": "code",
      "source": [
        "# Treino do modelo\n",
        "history = model.fit(datagen.flow(xtrain, ytrain, batch_size=32), validation_data=(xtest, ytest), epochs=25, verbose=1)"
      ],
      "metadata": {
        "colab": {
          "base_uri": "https://localhost:8080/"
        },
        "id": "nAA8B02SHRc6",
        "outputId": "4cb47688-8c30-4604-a167-9593a7ad935d"
      },
      "execution_count": null,
      "outputs": [
        {
          "output_type": "stream",
          "name": "stdout",
          "text": [
            "Epoch 1/25\n",
            "15/15 [==============================] - 23s 1s/step - loss: 3.2975 - accuracy: 0.5208 - val_loss: 0.7848 - val_accuracy: 0.5583\n",
            "Epoch 2/25\n",
            "15/15 [==============================] - 18s 1s/step - loss: 0.7158 - accuracy: 0.5167 - val_loss: 0.6839 - val_accuracy: 0.5333\n",
            "Epoch 3/25\n",
            "15/15 [==============================] - 18s 1s/step - loss: 0.6874 - accuracy: 0.5312 - val_loss: 0.6831 - val_accuracy: 0.5333\n",
            "Epoch 4/25\n",
            "15/15 [==============================] - 18s 1s/step - loss: 0.6930 - accuracy: 0.5146 - val_loss: 0.6820 - val_accuracy: 0.5500\n",
            "Epoch 5/25\n",
            "15/15 [==============================] - 18s 1s/step - loss: 0.6899 - accuracy: 0.5188 - val_loss: 0.6822 - val_accuracy: 0.5500\n",
            "Epoch 6/25\n",
            "15/15 [==============================] - 19s 1s/step - loss: 0.6902 - accuracy: 0.5208 - val_loss: 0.6816 - val_accuracy: 0.5417\n",
            "Epoch 7/25\n",
            "15/15 [==============================] - 17s 1s/step - loss: 0.6879 - accuracy: 0.5250 - val_loss: 0.6817 - val_accuracy: 0.5500\n",
            "Epoch 8/25\n",
            "15/15 [==============================] - 18s 1s/step - loss: 0.6805 - accuracy: 0.5354 - val_loss: 0.6803 - val_accuracy: 0.5500\n",
            "Epoch 9/25\n",
            "15/15 [==============================] - 17s 1s/step - loss: 0.6904 - accuracy: 0.5458 - val_loss: 0.6811 - val_accuracy: 0.5500\n",
            "Epoch 10/25\n",
            "15/15 [==============================] - 18s 1s/step - loss: 0.6805 - accuracy: 0.5437 - val_loss: 0.6820 - val_accuracy: 0.5917\n",
            "Epoch 11/25\n",
            "15/15 [==============================] - 18s 1s/step - loss: 0.6883 - accuracy: 0.5417 - val_loss: 0.6794 - val_accuracy: 0.6250\n",
            "Epoch 12/25\n",
            "15/15 [==============================] - 18s 1s/step - loss: 0.6820 - accuracy: 0.5458 - val_loss: 0.6813 - val_accuracy: 0.5583\n",
            "Epoch 13/25\n",
            "15/15 [==============================] - 18s 1s/step - loss: 0.6743 - accuracy: 0.5500 - val_loss: 0.6568 - val_accuracy: 0.5333\n",
            "Epoch 14/25\n",
            "15/15 [==============================] - 19s 1s/step - loss: 0.6920 - accuracy: 0.5562 - val_loss: 0.6780 - val_accuracy: 0.6333\n",
            "Epoch 15/25\n",
            "15/15 [==============================] - 17s 1s/step - loss: 0.6728 - accuracy: 0.5542 - val_loss: 0.6728 - val_accuracy: 0.5917\n",
            "Epoch 16/25\n",
            "15/15 [==============================] - 18s 1s/step - loss: 0.6892 - accuracy: 0.5312 - val_loss: 0.6816 - val_accuracy: 0.5750\n",
            "Epoch 17/25\n",
            "15/15 [==============================] - 17s 1s/step - loss: 0.6735 - accuracy: 0.5771 - val_loss: 0.6808 - val_accuracy: 0.5750\n",
            "Epoch 18/25\n",
            "15/15 [==============================] - 19s 1s/step - loss: 0.6795 - accuracy: 0.5271 - val_loss: 0.6826 - val_accuracy: 0.5667\n",
            "Epoch 19/25\n",
            "15/15 [==============================] - 18s 1s/step - loss: 0.6695 - accuracy: 0.5479 - val_loss: 0.6652 - val_accuracy: 0.6333\n",
            "Epoch 20/25\n",
            "15/15 [==============================] - 17s 1s/step - loss: 0.6777 - accuracy: 0.5437 - val_loss: 0.6683 - val_accuracy: 0.6333\n",
            "Epoch 21/25\n",
            "15/15 [==============================] - 18s 1s/step - loss: 0.6656 - accuracy: 0.5583 - val_loss: 0.6634 - val_accuracy: 0.6083\n",
            "Epoch 22/25\n",
            "15/15 [==============================] - 17s 1s/step - loss: 0.6694 - accuracy: 0.5437 - val_loss: 0.6699 - val_accuracy: 0.5750\n",
            "Epoch 23/25\n",
            "15/15 [==============================] - 17s 1s/step - loss: 0.6802 - accuracy: 0.5458 - val_loss: 0.6791 - val_accuracy: 0.5833\n",
            "Epoch 24/25\n",
            "15/15 [==============================] - 18s 1s/step - loss: 0.6673 - accuracy: 0.5562 - val_loss: 0.6523 - val_accuracy: 0.6417\n",
            "Epoch 25/25\n",
            "15/15 [==============================] - 18s 1s/step - loss: 0.6755 - accuracy: 0.5437 - val_loss: 0.6658 - val_accuracy: 0.5833\n"
          ]
        }
      ]
    },
    {
      "cell_type": "code",
      "metadata": {
        "id": "lPnFHWdLApXQ",
        "colab": {
          "base_uri": "https://localhost:8080/"
        },
        "outputId": "dc57b0de-a495-469e-a948-d28bb2895466"
      },
      "source": [
        "plt.subplot(211)\n",
        "plt.title('Grafico de Custo')\n",
        "plt.plot(history.history['loss'],label= 'Perdas durante o treinamento')\n",
        "plt.plot(history.history['val_loss'],label= 'Perdas durante os testes')\n",
        "plt.xlabel('Epocas')\n",
        "plt.ylabel('Perdas')\n",
        "plt.legend()\n",
        "plt.show()"
      ],
      "execution_count": null,
      "outputs": [
        {
          "output_type": "display_data",
          "data": {
            "text/plain": [
              "<Figure size 640x480 with 1 Axes>"
            ],
            "image/png": "[encoded data removed]"
          },
          "metadata": {}
        }
      ]
    },
    {
      "cell_type": "code",
      "source": [
        "plt.subplot(212)\n",
        "plt.title('Grafico de Desempenho')\n",
        "plt.plot(history.history['accuracy'],label= 'Desempenho durante o treinamento')\n",
        "plt.plot(history.history['val_accuracy'],label= 'Desempenho durante os testes')\n",
        "plt.xlabel('Epocas')\n",
        "plt.ylabel('Perdas')\n",
        "plt.legend()\n",
        "plt.show()"
      ],
      "metadata": {
        "id": "dFRbBWUNmptq",
        "colab": {
          "base_uri": "https://localhost:8080/"
        },
        "outputId": "bb1bc2c5-7ea7-44be-9c4a-49fae047d89e"
      },
      "execution_count": null,
      "outputs": [
        {
          "output_type": "display_data",
          "data": {
            "text/plain": [
              "<Figure size 640x480 with 1 Axes>"
            ],
            "image/png": "[encoded data removed]"
          },
          "metadata": {}
        }
      ]
    },
    {
      "cell_type": "code",
      "source": [
        "ytest"
      ],
      "metadata": {
        "id": "O9JnhQzbWVJ_",
        "colab": {
          "base_uri": "https://localhost:8080/"
        },
        "outputId": "9c2f8f39-ee8f-47ee-d5d3-fa19a86471af"
      },
      "execution_count": null,
      "outputs": [
        {
          "output_type": "execute_result",
          "data": {
            "text/plain": [
              "array([0., 1., 1., 0., 1., 1., 0., 1., 0., 0., 1., 0., 1., 0., 1., 1., 1.,\n",
              "       1., 0., 1., 1., 1., 1., 0., 0., 0., 1., 1., 1., 1., 0., 1., 0., 0.,\n",
              "       0., 1., 1., 1., 1., 1., 1., 0., 1., 0., 1., 0., 1., 0., 0., 0., 0.,\n",
              "       0., 0., 0., 1., 0., 1., 1., 0., 1., 0., 1., 0., 1., 0., 1., 0., 1.,\n",
              "       1., 0., 0., 0., 1., 1., 1., 1., 1., 1., 1., 0., 1., 1., 0., 0., 1.,\n",
              "       0., 0., 1., 0., 0., 0., 0., 1., 0., 1., 0., 1., 0., 1., 0., 1., 1.,\n",
              "       0., 1., 0., 1., 1., 1., 0., 0., 0., 0., 0., 0., 1., 0., 1., 1., 1.,\n",
              "       0.])"
            ]
          },
          "metadata": {},
          "execution_count": 12
        }
      ]
    },
    {
      "cell_type": "code",
      "source": [
        "# predict probabilities for test set\n",
        "previsto = model.predict(xtest, verbose=0)\n"
      ],
      "metadata": {
        "id": "UeX3vKD2xJX9"
      },
      "execution_count": null,
      "outputs": []
    },
    {
      "cell_type": "code",
      "source": [
        "previsto\n"
      ],
      "metadata": {
        "id": "hPBL5rdhT4fO",
        "colab": {
          "base_uri": "https://localhost:8080/"
        },
        "outputId": "a184d382-7927-4aa6-a457-885b321ea538"
      },
      "execution_count": null,
      "outputs": [
        {
          "output_type": "execute_result",
          "data": {
            "text/plain": [
              "array([[0.5064832 ],\n",
              "       [0.5064832 ],\n",
              "       [0.5064832 ],\n",
              "       [0.5064832 ],\n",
              "       [0.5064832 ],\n",
              "       [0.5064832 ],\n",
              "       [0.5064832 ],\n",
              "       [0.5064832 ],\n",
              "       [0.5064832 ],\n",
              "       [0.5064832 ],\n",
              "       [0.5064832 ],\n",
              "       [0.5064832 ],\n",
              "       [0.5064832 ],\n",
              "       [0.5064832 ],\n",
              "       [0.5064832 ],\n",
              "       [0.5064832 ],\n",
              "       [0.5064832 ],\n",
              "       [0.5064832 ],\n",
              "       [0.4916009 ],\n",
              "       [0.4959038 ],\n",
              "       [0.513055  ],\n",
              "       [0.5064832 ],\n",
              "       [0.5064832 ],\n",
              "       [0.5064832 ],\n",
              "       [0.5064832 ],\n",
              "       [0.5064832 ],\n",
              "       [0.5064832 ],\n",
              "       [0.5064832 ],\n",
              "       [0.5064832 ],\n",
              "       [0.5484881 ],\n",
              "       [0.5064832 ],\n",
              "       [0.5064832 ],\n",
              "       [0.5064832 ],\n",
              "       [0.38643953],\n",
              "       [0.5064832 ],\n",
              "       [0.5064832 ],\n",
              "       [0.79941046],\n",
              "       [0.5064832 ],\n",
              "       [0.5064832 ],\n",
              "       [0.5064832 ],\n",
              "       [0.69169325],\n",
              "       [0.5064832 ],\n",
              "       [0.5064832 ],\n",
              "       [0.08005536],\n",
              "       [0.5064832 ],\n",
              "       [0.5064832 ],\n",
              "       [0.590103  ],\n",
              "       [0.5064832 ],\n",
              "       [0.5064832 ],\n",
              "       [0.13093404],\n",
              "       [0.5064832 ],\n",
              "       [0.5064832 ],\n",
              "       [0.5064832 ],\n",
              "       [0.5064832 ],\n",
              "       [0.5064832 ],\n",
              "       [0.5064832 ],\n",
              "       [0.5064832 ],\n",
              "       [0.5064832 ],\n",
              "       [0.5064832 ],\n",
              "       [0.5064832 ],\n",
              "       [0.5064832 ],\n",
              "       [0.5064832 ],\n",
              "       [0.5064832 ],\n",
              "       [0.5064832 ],\n",
              "       [0.5064832 ],\n",
              "       [0.5064832 ],\n",
              "       [0.5064832 ],\n",
              "       [0.5064832 ],\n",
              "       [0.53183883],\n",
              "       [0.5064832 ],\n",
              "       [0.46912137],\n",
              "       [0.5064832 ],\n",
              "       [0.5064832 ],\n",
              "       [0.5064832 ],\n",
              "       [0.5064832 ],\n",
              "       [0.5064832 ],\n",
              "       [0.5064832 ],\n",
              "       [0.5064832 ],\n",
              "       [0.5064832 ],\n",
              "       [0.5064832 ],\n",
              "       [0.5064832 ],\n",
              "       [0.5064832 ],\n",
              "       [0.3948889 ],\n",
              "       [0.5064832 ],\n",
              "       [0.5064832 ],\n",
              "       [0.4259148 ],\n",
              "       [0.5064832 ],\n",
              "       [0.5064832 ],\n",
              "       [0.5064832 ],\n",
              "       [0.5064832 ],\n",
              "       [0.39625323],\n",
              "       [0.5064832 ],\n",
              "       [0.5064832 ],\n",
              "       [0.5064832 ],\n",
              "       [0.5064832 ],\n",
              "       [0.4740314 ],\n",
              "       [0.5064832 ],\n",
              "       [0.5064832 ],\n",
              "       [0.48920563],\n",
              "       [0.5064832 ],\n",
              "       [0.5064832 ],\n",
              "       [0.5064832 ],\n",
              "       [0.5064832 ],\n",
              "       [0.5064832 ],\n",
              "       [0.5064832 ],\n",
              "       [0.5064832 ],\n",
              "       [0.4959038 ],\n",
              "       [0.5064832 ],\n",
              "       [0.5064832 ],\n",
              "       [0.5064832 ],\n",
              "       [0.4813194 ],\n",
              "       [0.5064832 ],\n",
              "       [0.5064832 ],\n",
              "       [0.5064832 ],\n",
              "       [0.5321739 ],\n",
              "       [0.5064832 ],\n",
              "       [0.5064832 ],\n",
              "       [0.5064832 ],\n",
              "       [0.5064832 ],\n",
              "       [0.5064832 ]], dtype=float32)"
            ]
          },
          "metadata": {},
          "execution_count": 14
        }
      ]
    },
    {
      "cell_type": "code",
      "source": [
        "print(confusion_matrix(ytest.astype(int), previsto.round().astype(int)))"
      ],
      "metadata": {
        "id": "Wb76LoIXzZoC",
        "colab": {
          "base_uri": "https://localhost:8080/"
        },
        "outputId": "ffb48f5b-c896-4af2-f168-473ba28fd088"
      },
      "execution_count": null,
      "outputs": [
        {
          "output_type": "stream",
          "name": "stdout",
          "text": [
            "[[10 47]\n",
            " [ 3 60]]\n"
          ]
        }
      ]
    },
    {
      "cell_type": "code",
      "source": [
        "# ROC AUC\n",
        "auc = roc_auc_score(ytest, previsto)\n",
        "print('ROC AUC: %f' % auc)\n"
      ],
      "metadata": {
        "id": "4gx2zX71xGFi",
        "colab": {
          "base_uri": "https://localhost:8080/"
        },
        "outputId": "c760a29a-f11b-4345-b326-461339e278d2"
      },
      "execution_count": null,
      "outputs": [
        {
          "output_type": "stream",
          "name": "stdout",
          "text": [
            "ROC AUC: 0.613617\n"
          ]
        }
      ]
    },
    {
      "cell_type": "code",
      "source": [
        "previsto = previsto.round()"
      ],
      "metadata": {
        "id": "SZSfnsuKWbqF"
      },
      "execution_count": null,
      "outputs": []
    },
    {
      "cell_type": "code",
      "source": [
        "#print(\"Valores reais: \", ytest)\n",
        "#print(\"Valores previsto pela RNA: \", previsto)\n",
        "\n",
        "print('\\nAccuracy: {:.2f}\\n'.format(accuracy_score(ytest, previsto)))\n",
        "\n",
        "print('Precision: {:.2f}'.format(precision_score(ytest, previsto, average='micro')))\n",
        "print('Recall: {:.2f}'.format(recall_score(ytest, previsto, average='micro')))\n",
        "print('F1-score: {:.2f}\\n'.format(f1_score(ytest, previsto, average='micro')))\n",
        "\n",
        "#relatório com métricas de testes do modelo\n",
        "from sklearn.metrics import classification_report\n",
        "print('\\nRelatório de classificação\\n')\n",
        "print(classification_report(ytest, previsto, target_names=['Taylor Swift', 'Outras Pessoas']))"
      ],
      "metadata": {
        "id": "zH2TFrl5VYs2",
        "colab": {
          "base_uri": "https://localhost:8080/"
        },
        "outputId": "116d974a-b9ae-44e4-99ca-1272639172b0"
      },
      "execution_count": null,
      "outputs": [
        {
          "output_type": "stream",
          "name": "stdout",
          "text": [
            "\n",
            "Accuracy: 0.58\n",
            "\n",
            "Precision: 0.58\n",
            "Recall: 0.58\n",
            "F1-score: 0.58\n",
            "\n",
            "\n",
            "Relatório de classificação\n",
            "\n",
            "                precision    recall  f1-score   support\n",
            "\n",
            "  Taylor Swift       0.77      0.18      0.29        57\n",
            "Outras Pessoas       0.56      0.95      0.71        63\n",
            "\n",
            "      accuracy                           0.58       120\n",
            "     macro avg       0.66      0.56      0.50       120\n",
            "  weighted avg       0.66      0.58      0.51       120\n",
            "\n"
          ]
        }
      ]
    }
  ]
}