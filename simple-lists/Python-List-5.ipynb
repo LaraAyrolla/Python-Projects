{
  "nbformat": 4,
  "nbformat_minor": 0,
  "metadata": {
    "colab": {
      "provenance": [],
      "authorship_tag": "ABX9TyN4O9fkEtHSQV91EuwcZzZi",
      "include_colab_link": true
    },
    "kernelspec": {
      "name": "python3",
      "display_name": "Python 3"
    },
    "language_info": {
      "name": "python"
    }
  },
  "cells": [
    {
      "cell_type": "markdown",
      "metadata": {
        "id": "view-in-github",
        "colab_type": "text"
      },
      "source": [
        "<a href=\"https://colab.research.google.com/github/LaraAyrolla/Python-Projects/blob/main/simple-lists/Python-List-5.ipynb\" target=\"_parent\"><img src=\"https://colab.research.google.com/assets/colab-badge.svg\" alt=\"Open In Colab\"/></a>"
      ]
    },
    {
      "cell_type": "markdown",
      "source": [
        "**Programação de Soluções Computacionais**\n",
        "\n",
        "\n",
        "5ª LISTA DE EXERCÍCIOS - POO - PYTHON\n"
      ],
      "metadata": {
        "id": "iPKpwOS4q1OB"
      }
    },
    {
      "cell_type": "code",
      "execution_count": 4,
      "metadata": {
        "colab": {
          "base_uri": "https://localhost:8080/"
        },
        "id": "Ex5f197AqQsb",
        "outputId": "c07d13db-e155-4127-a3b8-c73e5694646b"
      },
      "outputs": [
        {
          "output_type": "stream",
          "name": "stdout",
          "text": [
            "Digite a altura de um retângulo: 2\n",
            "Digite a largura: 3\n",
            "\n",
            "Área: 6.0\n",
            "Perímetro: 10.0\n"
          ]
        }
      ],
      "source": [
        "# 1 - Crie uma classe chamada \"Retangulo\" que\n",
        "# tenha os atributos \"largura\" e \"altura\". Crie\n",
        "# métodos para calcular a área e o perímetro do\n",
        "# retângulo.\n",
        "\n",
        "class Retangulo:\n",
        "  altura: float\n",
        "  largura: float\n",
        "\n",
        "  def __init__(self, altura, largura):\n",
        "    self.altura = altura\n",
        "    self.largura = largura\n",
        "\n",
        "  def calculaArea(self):\n",
        "      return self.altura * self.largura\n",
        "\n",
        "  def calculaPerimetro(self):\n",
        "      return (self.altura * 2) + (self.largura * 2)\n",
        "\n",
        "altura = float(input(\"Digite a altura de um retângulo: \"))\n",
        "largura = float(input(\"Digite a largura: \"))\n",
        "\n",
        "retangulo = Retangulo(altura, largura)\n",
        "\n",
        "print(\"\\nÁrea: {0}\".format(retangulo.calculaArea()))\n",
        "print(\"Perímetro: {0}\".format(retangulo.calculaPerimetro()))"
      ]
    },
    {
      "cell_type": "code",
      "source": [
        "# 2 - Crie uma classe chamada \"ContaBancaria\"\n",
        "# que tenha os atributos \"titular\" e \"saldo\". Crie\n",
        "# métodos para depositar, sacar e exibir o saldo da\n",
        "# conta.\n",
        "\n",
        "class ContaBancaria:\n",
        "  titular: str\n",
        "  saldo: float\n",
        "\n",
        "  def __init__(self, titular, saldo):\n",
        "    self.titular = titular\n",
        "    self.saldo = saldo\n",
        "\n",
        "  def deposito(self, valor):\n",
        "      self.saldo += valor\n",
        "\n",
        "  def saque(self, valor):\n",
        "      self.saldo -= valor\n",
        "\n",
        "  def imprime_saldo(self):\n",
        "    print(\"\\nSaldo de {0}: \".format(self.titular))\n",
        "    print(\"R$ {:.2f}\".format(self.saldo).replace(\".\", \",\"))\n",
        "\n",
        "conta = ContaBancaria(\"Lara Ayrolla\", 0)\n",
        "conta.deposito(1000.99)\n",
        "conta.saque(1.99)\n",
        "conta.imprime_saldo()"
      ],
      "metadata": {
        "colab": {
          "base_uri": "https://localhost:8080/"
        },
        "id": "zMhiS-m-vrbN",
        "outputId": "d407097c-79f0-45ad-f1e8-a172a6365cd5"
      },
      "execution_count": 8,
      "outputs": [
        {
          "output_type": "stream",
          "name": "stdout",
          "text": [
            "\n",
            "Saldo de Lara Ayrolla: \n",
            "R$ 999,00\n"
          ]
        }
      ]
    },
    {
      "cell_type": "code",
      "source": [
        "# 3 - Crie uma classe chamada \"Carro\" que tenha\n",
        "# os atributos \"marca\", \"modelo\" e \"ano\". Crie um\n",
        "# método para exibir as informações completas do\n",
        "# carro.\n",
        "\n",
        "class Carro:\n",
        "  ano: str\n",
        "  marca: str\n",
        "  modelo: str\n",
        "\n",
        "  def __init__(self, ano, marca, modelo):\n",
        "    self.ano = ano\n",
        "    self.marca = marca\n",
        "    self.modelo = modelo\n",
        "\n",
        "  def informacoes(self):\n",
        "      print(\"\\nDados do carro:\")\n",
        "      print(\"Ano: {0}\".format(self.ano))\n",
        "      print(\"Marca: {0}\".format(self.marca))\n",
        "      print(\"Modelo: {0}\".format(self.modelo))\n",
        "\n",
        "carro = Carro(\"2021\", \"Fiat\", \"Uno\")\n",
        "carro.informacoes()"
      ],
      "metadata": {
        "colab": {
          "base_uri": "https://localhost:8080/"
        },
        "id": "jlQ7NoG-xcCC",
        "outputId": "571ff681-3b02-4c75-cc34-70ef8b0c7486"
      },
      "execution_count": 9,
      "outputs": [
        {
          "output_type": "stream",
          "name": "stdout",
          "text": [
            "\n",
            "Dados do carro:\n",
            "Ano: 2021\n",
            "Marca: Fiat\n",
            "Modelo: Uno\n"
          ]
        }
      ]
    },
    {
      "cell_type": "code",
      "source": [
        "# 4 - Crie uma classe chamada \"Cachorro\" que\n",
        "# tenha os atributos \"nome\" e \"idade\". Crie um\n",
        "# método para exibir o nome e a idade do cachorro\n",
        "# e um método para latir.\n",
        "\n",
        "class Cachorro:\n",
        "  nome: str\n",
        "  idade: int\n",
        "\n",
        "  def __init__(self, nome, idade):\n",
        "    self.nome = nome\n",
        "    self.idade = idade\n",
        "\n",
        "  def informacoes(self):\n",
        "      print(\"\\nDados do cachorro:\")\n",
        "      print(\"Nome: {0}\".format(self.nome))\n",
        "      print(\"Idade: {0} anos\".format(self.idade))\n",
        "\n",
        "  def latir(self):\n",
        "      print(\"\\nau au au au au\")\n",
        "\n",
        "cachorro = Cachorro(\"Lupita\", 5)\n",
        "cachorro.informacoes()\n",
        "cachorro.latir()"
      ],
      "metadata": {
        "colab": {
          "base_uri": "https://localhost:8080/"
        },
        "id": "yvk98ww-yIfo",
        "outputId": "7ff5f41a-2d60-4d58-8593-99bc3fc2755c"
      },
      "execution_count": 11,
      "outputs": [
        {
          "output_type": "stream",
          "name": "stdout",
          "text": [
            "\n",
            "Dados do cachorro:\n",
            "Nome: Lupita\n",
            "Idade: 5 anos\n",
            "\n",
            "au au au au au\n"
          ]
        }
      ]
    },
    {
      "cell_type": "code",
      "source": [
        "# 5 - Observe o código a seguir e faça:\n",
        "\n",
        "class Produto:\n",
        "  def __init__(self, codigo, nome, preco):\n",
        "    self.codigo = codigo\n",
        "    self.nome = nome\n",
        "    self.preco = preco\n",
        "\n",
        "# 1. A sobrecarga do método str para retornar a instância do objeto\n",
        "# \"Produto\" com seus atributos Exemplo:\n",
        "# print(produto2)\n",
        "# Código: 2, Nome: Calça Jeans, Preço: R$ 99.90\n",
        "\n",
        "  def __str__(self):\n",
        "    return \"\\nCódigo: {}, Nome: {}, Preco: R$ {:.2f}\".format(self.codigo, self.nome, self.preco)\n",
        "\n",
        "# 2. A sobrecarga dos métodos necessários para comparar o preço de dois produtos\n",
        "# Exemplo:\n",
        "# print(produto1 >= produto2)\n",
        "# Deve retornar Sim se o preço do produto1 for maior ou igual ao preço do produto2\n",
        "# O preço do produto 1 é maior ou igual ao preço do produto 2? Sim\n",
        "\n",
        "  def __lt__(self, produto2):\n",
        "    returnString = \"\\nO preço de {0} é menor que o preço de {1}?\".format(self.nome, produto2.nome)\n",
        "    if self.preco < produto2.preco:\n",
        "      return returnString + \" Sim\"\n",
        "    else:\n",
        "      return returnString + \" Não\"\n",
        "\n",
        "  def __le__(self, produto2):\n",
        "    returnString = \"\\nO preço de {0} é menor ou igual ao preço de {1}?\".format(self.nome, produto2.nome)\n",
        "    if self.preco <= produto2.preco:\n",
        "      return returnString + \" Sim\"\n",
        "    else:\n",
        "      return returnString + \" Não\"\n",
        "\n",
        "  def __eq__(self, produto2):\n",
        "    returnString = \"\\nO preço de {0} é igual ao preço de {1}?\".format(self.nome, produto2.nome)\n",
        "    if self.preco == produto2.preco:\n",
        "      return returnString + \" Sim\"\n",
        "    else:\n",
        "      return returnString + \" Não\"\n",
        "\n",
        "  def __ne__(self, produto2):\n",
        "    returnString = \"\\nO preço de {0} é diferente do preço de {1}?\".format(self.nome, produto2.nome)\n",
        "    if self.preco != produto2.preco:\n",
        "      return returnString + \" Sim\"\n",
        "    else:\n",
        "      return returnString + \" Não\"\n",
        "\n",
        "  def __gt__(self, produto2):\n",
        "    returnString = \"\\nO preço de {0} é maior que o preço de {1}?\".format(self.nome, produto2.nome)\n",
        "    if self.preco > produto2.preco:\n",
        "      return returnString + \" Sim\"\n",
        "    else:\n",
        "      return returnString + \" Não\"\n",
        "\n",
        "  def __ge__(self, produto2):\n",
        "    returnString = \"\\nO preço de {0} é maior ou igual ao preço de {1}?\".format(self.nome, produto2.nome)\n",
        "    if self.preco >= produto2.preco:\n",
        "      return returnString + \" Sim\"\n",
        "    else:\n",
        "      return returnString + \" Não\"\n",
        "\n",
        "produto = Produto(\"123\", \"Manteiga de cacau\", 1.50)\n",
        "print(produto)\n",
        "\n",
        "produto2 = Produto(\"321\", \"iPad\", 3699)\n",
        "print(produto2)\n",
        "\n",
        "print(produto < produto2)\n",
        "print(produto <= produto2)\n",
        "print(produto == produto2)\n",
        "print(produto != produto2)\n",
        "print(produto > produto2)\n",
        "print(produto >= produto2)"
      ],
      "metadata": {
        "colab": {
          "base_uri": "https://localhost:8080/"
        },
        "id": "ZBMWgadwzJ72",
        "outputId": "b9684920-9e8a-436b-c87e-afc0f43d784d"
      },
      "execution_count": 19,
      "outputs": [
        {
          "output_type": "stream",
          "name": "stdout",
          "text": [
            "\n",
            "Código: 123, Nome: Manteiga de cacau, Preco: R$ 1.50\n",
            "\n",
            "Código: 321, Nome: iPad, Preco: R$ 3699.00\n",
            "\n",
            "O preço de Manteiga de cacau é menor que o preço de iPad? Sim\n",
            "\n",
            "O preço de Manteiga de cacau é menor ou igual ao preço de iPad? Sim\n",
            "\n",
            "O preço de Manteiga de cacau é igual ao preço de iPad? Não\n",
            "\n",
            "O preço de Manteiga de cacau é diferente do preço de iPad? Sim\n",
            "\n",
            "O preço de Manteiga de cacau é maior que o preço de iPad? Não\n",
            "\n",
            "O preço de Manteiga de cacau é maior ou igual ao preço de iPad? Não\n"
          ]
        }
      ]
    },
    {
      "cell_type": "code",
      "source": [
        "# 6 - Altere o código do exercício 1 para que seja possível:\n",
        "\n",
        "# 1. Identificar se a figura é um quadrado (crie um método)\n",
        "# 2. Testar se um retângulo é maior ou menor que outro retângulo\n",
        "# (sobrecarga de operadores)\n",
        "\n",
        "class Retangulo:\n",
        "  altura: float\n",
        "  largura: float\n",
        "\n",
        "  def __init__(self, altura, largura):\n",
        "    self.altura = altura\n",
        "    self.largura = largura\n",
        "\n",
        "  def calculaArea(self):\n",
        "      return self.altura * self.largura\n",
        "\n",
        "  def calculaPerimetro(self):\n",
        "      return (self.altura * 2) + (self.largura * 2)\n",
        "\n",
        "  def ehQuadrado(self):\n",
        "      if altura == largura:\n",
        "        return (\"\\nÉ um quadrado\")\n",
        "      else:\n",
        "        return (\"\\nNão é um quadrado\")\n",
        "\n",
        "  def __gt__(self, retangulo2):\n",
        "    returnString = \"\\nO retângulo 1 é maior que o retângulo 2?\"\n",
        "    if self.calculaArea() > retangulo2.calculaArea():\n",
        "      return returnString + \" Sim\"\n",
        "    else:\n",
        "      return returnString + \" Não\"\n",
        "\n",
        "  def __lt__(self, retangulo2):\n",
        "    returnString = \"\\nO retângulo 1 é menor que o retângulo 2?\"\n",
        "    if self.calculaArea() < retangulo2.calculaArea():\n",
        "      return returnString + \" Sim\"\n",
        "    else:\n",
        "      return returnString + \" Não\"\n",
        "\n",
        "altura = float(input(\"Digite a altura de um retângulo: \"))\n",
        "largura = float(input(\"Digite a largura: \"))\n",
        "\n",
        "retangulo = Retangulo(altura, largura)\n",
        "\n",
        "print(\"\\nRetângulo 1: \")\n",
        "print(\"Área: {0}\".format(retangulo.calculaArea()))\n",
        "print(\"Perímetro: {0}\".format(retangulo.calculaPerimetro()))\n",
        "print(retangulo.ehQuadrado())\n",
        "\n",
        "altura = float(input(\"\\nDigite a altura de um retângulo: \"))\n",
        "largura = float(input(\"Digite a largura: \"))\n",
        "\n",
        "retangulo2 = Retangulo(altura, largura)\n",
        "\n",
        "print(\"\\nRetângulo 2: \")\n",
        "print(\"Área: {0}\".format(retangulo2.calculaArea()))\n",
        "print(\"Perímetro: {0}\".format(retangulo2.calculaPerimetro()))\n",
        "print(retangulo2.ehQuadrado())\n",
        "\n",
        "print(retangulo > retangulo2)\n",
        "print(retangulo < retangulo2)"
      ],
      "metadata": {
        "colab": {
          "base_uri": "https://localhost:8080/"
        },
        "id": "H3JV51us4xN3",
        "outputId": "ab9b3351-bee1-484a-9660-64c10e64a2d7"
      },
      "execution_count": 24,
      "outputs": [
        {
          "output_type": "stream",
          "name": "stdout",
          "text": [
            "Digite a altura de um retângulo: 2\n",
            "Digite a largura: 3\n",
            "\n",
            "Retângulo 1: \n",
            "Área: 6.0\n",
            "Perímetro: 10.0\n",
            "\n",
            "Não é um quadrado\n",
            "\n",
            "Digite a altura de um retângulo: 4\n",
            "Digite a largura: 4\n",
            "\n",
            "Retângulo 2: \n",
            "Área: 16.0\n",
            "Perímetro: 16.0\n",
            "\n",
            "É um quadrado\n",
            "\n",
            "O retângulo 1 é maior que o retângulo 2? Não\n",
            "\n",
            "O retângulo 1 é menor que o retângulo 2? Sim\n"
          ]
        }
      ]
    }
  ]
}