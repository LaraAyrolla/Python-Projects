{
  "nbformat": 4,
  "nbformat_minor": 0,
  "metadata": {
    "colab": {
      "provenance": [],
      "authorship_tag": "ABX9TyNNvIQFBzbhz2Ak0YWB9jEu",
      "include_colab_link": true
    },
    "kernelspec": {
      "name": "python3",
      "display_name": "Python 3"
    },
    "language_info": {
      "name": "python"
    }
  },
  "cells": [
    {
      "cell_type": "markdown",
      "metadata": {
        "id": "view-in-github",
        "colab_type": "text"
      },
      "source": [
        "<a href=\"https://colab.research.google.com/github/LaraAyrolla/Python-Projects/blob/main/simple-lists/Python-List-1.ipynb\" target=\"_parent\"><img src=\"https://colab.research.google.com/assets/colab-badge.svg\" alt=\"Open In Colab\"/></a>"
      ]
    },
    {
      "cell_type": "markdown",
      "source": [
        "**Programação de Soluções Computacionais**\n",
        "\n",
        "\n",
        "1ª LISTA DE EXERCÍCIOS - PYTHON"
      ],
      "metadata": {
        "id": "NnTNS831quES"
      }
    },
    {
      "cell_type": "code",
      "execution_count": null,
      "metadata": {
        "colab": {
          "base_uri": "https://localhost:8080/"
        },
        "id": "dxNohZIXqpnu",
        "outputId": "cb97fea2-3350-4a9d-d565-c75593a1193c"
      },
      "outputs": [
        {
          "output_type": "stream",
          "name": "stdout",
          "text": [
            "Sua idade em número: 21\n",
            "Seu peso em quilogramas(kg): 65\n",
            "Sua altura em centímetros (cm): 180\n",
            "Você está apto a servir o exército\n"
          ]
        }
      ],
      "source": [
        "#1\n",
        "# Faça um programa que pergunte o nome, idade, peso e altura de uma pessoa e decide ser ela está apta a entrar no exercito.\n",
        "# Obs: Para entrar no exercito é preciso ter mais de 18 anos, pesar igual ou mais que 60 kg e medir mais ou igual que 1,70\n",
        "\n",
        "# Saida:\n",
        "# 'Você está apto a servir o exercito'\n",
        "# OU\n",
        "# 'Você não está apto a servir o exercito'\n",
        "\n",
        "age=int(input(\"Sua idade em número: \"))\n",
        "weight=float(input(\"Seu peso em quilogramas(kg): \"))\n",
        "height=int(input(\"Sua altura em centímetros (cm): \"))\n",
        "\n",
        "if age>18 and weight>=60 and height>=170:\n",
        "  print(\"Você está apto a servir o exército\")\n",
        "else:\n",
        "  print(\"Você não está apto a servir o exército\")"
      ]
    },
    {
      "cell_type": "code",
      "source": [
        "#2\n",
        "# Faça um programa que imprima a frase de tras para frente e veja o que está escrito. Palindromo - Anotaram a data da maratona\n",
        "\n",
        "frase = input(\"Digite uma frase: \")\n",
        "frase2 = \"\"\n",
        "\n",
        "for i in range(len(frase)):\n",
        "  frase2 += frase[(len(frase)-1)-i]\n",
        "print(\"Sua frase ao contrário: '{0}'\".format(frase2))"
      ],
      "metadata": {
        "colab": {
          "base_uri": "https://localhost:8080/"
        },
        "id": "463xasp6rlzG",
        "outputId": "fa04fa36-83a6-4ff8-d83e-8657b819c5ff"
      },
      "execution_count": null,
      "outputs": [
        {
          "output_type": "stream",
          "name": "stdout",
          "text": [
            "Digite uma frase: Anotaram a data da maratona\n",
            "Sua frase ao contrário: 'anotaram ad atad a maratonA'\n"
          ]
        }
      ]
    },
    {
      "cell_type": "code",
      "source": [
        "#3\n",
        "# Faça um programa que calcule quantos segundos tem:\n",
        "\n",
        "# Entrada:\n",
        "# dias = int(input(\"Dias: \"))\n",
        "# horas = int(input(\"Horas: \"))\n",
        "# minutos = int(input(\"Minutos: \"))\n",
        "\n",
        "dias = int(input(\"Dias: \"))\n",
        "horas = int(input(\"Horas: \"))\n",
        "minutos = int(input(\"Minutos: \"))\n",
        "segundos = (dias*24*60*60) + (horas*60*60) + (minutos*60)\n",
        "print(segundos, \" segundos\")"
      ],
      "metadata": {
        "colab": {
          "base_uri": "https://localhost:8080/"
        },
        "id": "mxp_M_4fsgOH",
        "outputId": "67359f3f-7417-4ee3-cd9f-3225ad64b020"
      },
      "execution_count": null,
      "outputs": [
        {
          "output_type": "stream",
          "name": "stdout",
          "text": [
            "Dias: 15\n",
            "Horas: 12\n",
            "Minutos: 35\n",
            "1341300  segundos\n"
          ]
        }
      ]
    },
    {
      "cell_type": "code",
      "source": [
        "#4\n",
        "# Faça um programa que calcule o tempo de uma viagem de carro.\n",
        "# Entrada:\n",
        "# distância a percorrer e a velocidade média esperada para a viagem.\n",
        "\n",
        "distancia = float(input(\"Distância em quilômetros(km): \"))\n",
        "velocidade = float(input(\"Velocidade média em quilômetros por hora (km/h): \"))\n",
        "tempo = distancia/velocidade\n",
        "print(\"Você gastará {0} horas para chegar ao seu destino\".format(tempo))"
      ],
      "metadata": {
        "colab": {
          "base_uri": "https://localhost:8080/"
        },
        "id": "xx3R18z4suy7",
        "outputId": "3c8a1cb2-c4a1-4b20-f958-53fa30be8cb1"
      },
      "execution_count": null,
      "outputs": [
        {
          "output_type": "stream",
          "name": "stdout",
          "text": [
            "Distância em quilômetros(km): 120\n",
            "Velocidade média em quilômetros por hora (km/h): 60\n",
            "Você gastará 2.0 horas para chegar ao seu destino\n"
          ]
        }
      ]
    },
    {
      "cell_type": "code",
      "source": [
        "#5\n",
        "# Faça um programa que recebe a velocidade do carro e, caso ultrapasse 80 km/h, exiba uma mensagem dizendo que o usuário foi multado.\n",
        "# Nesse caso, exiba o valor da multa, cobrando R$ 5 por km acima de 80 km/h.\n",
        "\n",
        "velocidade = float(input(\"Velocidade média em quilômetros por hora (km/h): \"))\n",
        "diferenca = velocidade-80\n",
        "if diferenca > 0:\n",
        "  print(\"Você foi multado! Valor da multa: R$\", diferenca*5)\n",
        "else:\n",
        "  print(\"Você não foi multado!\")"
      ],
      "metadata": {
        "colab": {
          "base_uri": "https://localhost:8080/"
        },
        "id": "2z3AxumQtBQh",
        "outputId": "f061100c-195b-424f-e8a8-947bddc31284"
      },
      "execution_count": null,
      "outputs": [
        {
          "output_type": "stream",
          "name": "stdout",
          "text": [
            "Velocidade média em quilômetros por hora (km/h): 90\n",
            "Você foi multado! Valor da multa: R$ 50.0\n"
          ]
        }
      ]
    },
    {
      "cell_type": "code",
      "source": [
        "#6\n",
        "# Faça um programa para aprovar o empréstimo bancário para compra de uma casa.\n",
        "# O programa deve perguntar o valor da casa a comprar, o salário e a quantidade de anos a pagar.\n",
        "# O valor da prestação mensal não pode ser superior a 30% do salário.\n",
        "# Calcule o valor da prestação como sendo o valor da casa a comprar dividido pelo número de meses a pagar.\n",
        "\n",
        "valor = float(input(\"Valor da casa em reais (R$): \"))\n",
        "salario = float(input(\"Valor do salario em reais (R$): \"))\n",
        "anos = float(input(\"Quantidade de anos a pagar: \"))\n",
        "prestacao = valor / (anos*12)\n",
        "if prestacao > (salario*0.3):\n",
        "  print(\"O empréstimo não foi aprovado.\")\n",
        "else:\n",
        "  print(\"O empréstimo foi aprovado!\")"
      ],
      "metadata": {
        "colab": {
          "base_uri": "https://localhost:8080/"
        },
        "id": "PwK39mASuGbr",
        "outputId": "13bced37-4696-4d5e-998f-900e25480990"
      },
      "execution_count": null,
      "outputs": [
        {
          "output_type": "stream",
          "name": "stdout",
          "text": [
            "Valor da casa em reais (R$): 200000\n",
            "Valor do salario em reais (R$): 4000\n",
            "Quantidade de anos a pagar: 13\n",
            "O empréstimo não foi aprovado.\n"
          ]
        }
      ]
    },
    {
      "cell_type": "code",
      "source": [
        "#7\n",
        "# Faça um programa para imprimir a tabuada (operação multiplicação) de um determinado número:\n",
        "\n",
        "# Saída:\n",
        "# Ex.\n",
        "# Tabuada do 5 de 0 a 9\n",
        "# 5 X 0 = 0\n",
        "# 5 X 1 = 5\n",
        "# .\n",
        "# .\n",
        "# 5 X 9 = 45\n",
        "\n",
        "numero = int(input(\"Número: \"))\n",
        "print(\"\\nTabuada do\", numero)\n",
        "print(\"{0} X 0 = {1}\".format(numero, numero*0))\n",
        "print(\"{0} X 1 = {1}\".format(numero, numero*1))\n",
        "print(\"{0} X 2 = {1}\".format(numero, numero*2))\n",
        "print(\"{0} X 3 = {1}\".format(numero, numero*3))\n",
        "print(\"{0} X 4 = {1}\".format(numero, numero*4))\n",
        "print(\"{0} X 5 = {1}\".format(numero, numero*5))\n",
        "print(\"{0} X 6 = {1}\".format(numero, numero*6))\n",
        "print(\"{0} X 7 = {1}\".format(numero, numero*7))\n",
        "print(\"{0} X 8 = {1}\".format(numero, numero*8))\n",
        "print(\"{0} X 9 = {1}\".format(numero, numero*9))"
      ],
      "metadata": {
        "colab": {
          "base_uri": "https://localhost:8080/"
        },
        "id": "K9H-d1WmvGIl",
        "outputId": "0aeca249-2b20-4f50-e3f3-32e9eb4aa71f"
      },
      "execution_count": null,
      "outputs": [
        {
          "output_type": "stream",
          "name": "stdout",
          "text": [
            "Número: 5\n",
            "\n",
            "Tabuada do 5\n",
            "5 X 0 = 0\n",
            "5 X 1 = 5\n",
            "5 X 2 = 10\n",
            "5 X 3 = 15\n",
            "5 X 4 = 20\n",
            "5 X 5 = 25\n",
            "5 X 6 = 30\n",
            "5 X 7 = 35\n",
            "5 X 8 = 40\n",
            "5 X 9 = 45\n"
          ]
        }
      ]
    },
    {
      "cell_type": "code",
      "source": [
        "#8\n",
        "# Faça um programa que calcule o resto da divisão inteira entre dois números.\n",
        "# Utilize apenas as operações de soma e subtração para calcular o resultado.\n",
        "\n",
        "dividendo = int(input(\"Dividendo: \"))\n",
        "divisor = int(input(\"Divisor: \"))\n",
        "contador = 0\n",
        "\n",
        "while contador < dividendo:\n",
        "    contador += divisor\n",
        "\n",
        "if contador > dividendo:\n",
        "    contador -= divisor\n",
        "\n",
        "resto = dividendo - contador\n",
        "\n",
        "print(\"\\nO resto da divisão é \", resto)"
      ],
      "metadata": {
        "colab": {
          "base_uri": "https://localhost:8080/"
        },
        "id": "jTyZ583RvdZV",
        "outputId": "f74bc744-09b0-48b1-8f0c-e5b3ceae99a3"
      },
      "execution_count": null,
      "outputs": [
        {
          "output_type": "stream",
          "name": "stdout",
          "text": [
            "Dividendo: 200\n",
            "Divisor: 3\n",
            "\n",
            "O resto da divisão é  2\n"
          ]
        }
      ]
    },
    {
      "cell_type": "code",
      "source": [
        "#9\n",
        "# Escreva um programa que leia 3 números inteiros referentes ao comprimento dos lados de um triângulo e classifique-o como:\n",
        "# triângulo equilátero, isósceles ou escaleno.\n",
        "\n",
        "print(\"Insira o comprimento dos três lados de um triângulo em cm\")\n",
        "lado1 = int(input(\"Lado 1: \"))\n",
        "lado2 = int(input(\"Lado 2: \"))\n",
        "lado3 = int(input(\"Lado 3: \"))\n",
        "\n",
        "if lado1 == lado2 and lado2 == lado3:\n",
        "  print(\"\\nO triângulo é equilátero\")\n",
        "elif lado1 == lado2 or lado2 == lado3 or lado1 == lado3:\n",
        "  print(\"\\nO triângulo é isósceles\")\n",
        "else:\n",
        "  print(\"\\nO triângulo é escaleno\")\n"
      ],
      "metadata": {
        "colab": {
          "base_uri": "https://localhost:8080/"
        },
        "id": "Qa739jSDvn6s",
        "outputId": "7479ff8b-62ce-4610-fac2-aa81e1ae2ce8"
      },
      "execution_count": null,
      "outputs": [
        {
          "output_type": "stream",
          "name": "stdout",
          "text": [
            "Insira o comprimento dos três lados de um triângulo em cm\n",
            "Lado 1: 5\n",
            "Lado 2: 2\n",
            "Lado 3: 5\n",
            "\n",
            "O triângulo é isósceles\n"
          ]
        }
      ]
    },
    {
      "cell_type": "code",
      "source": [
        "#10\n",
        "# Escreva uma função que receba um número inteiro como entrada (px.: 32243) e retorne o número invertido (px.: 34223).\n",
        "\n",
        "numero=int(input(\"Insira um número inteiro: \"))\n",
        "numero = str(numero)\n",
        "numero2 = \"\"\n",
        "\n",
        "for i in range(len(numero)):\n",
        "  numero2 += numero[(len(numero)-1)-i]\n",
        "print(\"Seu numero ao contrário: '{0}'\".format(numero2))"
      ],
      "metadata": {
        "colab": {
          "base_uri": "https://localhost:8080/"
        },
        "id": "FEuJIR5bvqp8",
        "outputId": "4a0bcfdb-c47a-4f0a-c879-834bacba9fa4"
      },
      "execution_count": null,
      "outputs": [
        {
          "output_type": "stream",
          "name": "stdout",
          "text": [
            "Insira um número inteiro 32243\n",
            "Seu numero ao contrário: '34223'\n"
          ]
        }
      ]
    },
    {
      "cell_type": "code",
      "source": [
        "#11\n",
        "# Escreva uma função que receba uma string e conte o número de vogais dentro dela, por exemplo:\n",
        "# Entrada: 'Ciência de Dados'\n",
        "# Saida: 'A palavra tem 7 vogais'\n",
        "\n",
        "import unicodedata\n",
        "\n",
        "texto = input(\"Insira um texto: \").lower()\n",
        "texto = unicodedata.normalize('NFD', texto).encode('ascii', 'ignore').decode(\"utf-8\")\n",
        "\n",
        "vogais = [\"a\", \"e\", \"i\", \"o\", \"u\"]\n",
        "contador = 0\n",
        "\n",
        "for i in range(len(texto)):\n",
        "  if texto[i] in vogais:\n",
        "    contador += 1\n",
        "\n",
        "print(\"O texto tem {0} vogais\".format(contador))"
      ],
      "metadata": {
        "colab": {
          "base_uri": "https://localhost:8080/"
        },
        "id": "aPdhYd_gvvOV",
        "outputId": "a5ca7db4-bf7f-41bf-a7e3-4b9eab94150b"
      },
      "execution_count": null,
      "outputs": [
        {
          "output_type": "stream",
          "name": "stdout",
          "text": [
            "Insira um texto: Ciência de Dados\n",
            "O texto tem 7 vogais\n"
          ]
        }
      ]
    },
    {
      "cell_type": "code",
      "source": [
        "#12\n",
        "# Escreva um programa que encontre o item mais frequente de uma lista.\n",
        "# Exemplo: [2, 7, 7, 7, '#', '#', '#', '@', 3, '#', 6]\n",
        "# Saída: O caractere mais frequente é '#' e aparece 4 vezes\n",
        "\n",
        "n = int(input(\"Insira o número de elementos da lista : \"))\n",
        "\n",
        "lista = []\n",
        "for i in range(0, n):\n",
        "    lista.append(input(\"Elemento {0}: \".format(i+1)))\n",
        "\n",
        "lista_contador = []\n",
        "for i in range(len(lista)):\n",
        "  lista_contador.append(0)\n",
        "  for j in range(len(lista)):\n",
        "    if lista[i] == lista[j]:\n",
        "      lista_contador[i] += 1\n",
        "\n",
        "for i in range(len(lista)):\n",
        "  if lista_contador[i] == max(lista_contador):\n",
        "    print(\"\\nO caractere mais frequente é '{0}' e aparece {1} vezes\".format(lista[i], lista_contador[i]))\n",
        "    break"
      ],
      "metadata": {
        "colab": {
          "base_uri": "https://localhost:8080/"
        },
        "id": "RWwCK4FPvzQ_",
        "outputId": "41fdc861-2a17-4d2b-9a7b-8643dd68176f"
      },
      "execution_count": null,
      "outputs": [
        {
          "output_type": "stream",
          "name": "stdout",
          "text": [
            "Insira o número de elementos da lista : 11\n",
            "Elemento 1: 2\n",
            "Elemento 2: 7\n",
            "Elemento 3: 7\n",
            "Elemento 4: 7\n",
            "Elemento 5: #\n",
            "Elemento 6: #\n",
            "Elemento 7: #\n",
            "Elemento 8: @\n",
            "Elemento 9: 3\n",
            "Elemento 10: #\n",
            "Elemento 11: 6\n",
            "\n",
            "O caractere mais frequente é '#' e aparece 4 vezes\n"
          ]
        }
      ]
    },
    {
      "cell_type": "code",
      "source": [
        "#13\n",
        "# Escreva um programa para verificar se uma palavra é ou não um palíndromo.\n",
        "# Ex:\n",
        "# Digite uma palavra: ovo\n",
        "# ovo é um palindromo\n",
        "\n",
        "palavra = input(\"Digite uma palavra: \")\n",
        "palavra2 = \"\"\n",
        "\n",
        "for i in range(len(palavra)):\n",
        "  palavra2 += palavra[(len(palavra)-1)-i]\n",
        "\n",
        "if palavra == palavra2:\n",
        "  print(\"'{0}' é um palíndromo\".format(palavra2))\n",
        "else:\n",
        "  print(\"'{0}' não é um palíndromo\".format(palavra))"
      ],
      "metadata": {
        "colab": {
          "base_uri": "https://localhost:8080/"
        },
        "id": "bkRvmGn5v43s",
        "outputId": "68147f52-1b02-4258-d3a2-925d3801488e"
      },
      "execution_count": null,
      "outputs": [
        {
          "output_type": "stream",
          "name": "stdout",
          "text": [
            "Digite uma palavra: ovo\n",
            "'ovo' é um palíndromo\n"
          ]
        }
      ]
    }
  ]
}