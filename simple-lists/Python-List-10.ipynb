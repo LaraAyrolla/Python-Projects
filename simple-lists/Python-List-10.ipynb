{
  "nbformat": 4,
  "nbformat_minor": 0,
  "metadata": {
    "colab": {
      "provenance": [],
      "authorship_tag": "ABX9TyOywpybrHR3tw1KGQ4saIbc",
      "include_colab_link": true
    },
    "kernelspec": {
      "name": "python3",
      "display_name": "Python 3"
    },
    "language_info": {
      "name": "python"
    }
  },
  "cells": [
    {
      "cell_type": "markdown",
      "metadata": {
        "id": "view-in-github",
        "colab_type": "text"
      },
      "source": [
        "<a href=\"https://colab.research.google.com/github/LaraAyrolla/Python-Projects/blob/main/simple-lists/Python-List-10.ipynb\" target=\"_parent\"><img src=\"https://colab.research.google.com/assets/colab-badge.svg\" alt=\"Open In Colab\"/></a>"
      ]
    },
    {
      "cell_type": "markdown",
      "source": [
        "**Programação de Soluções Computacionais**\n",
        "\n",
        "\n",
        "10ª LISTA DE EXERCÍCIOS - SQL - PYTHON"
      ],
      "metadata": {
        "id": "uN0mxitVD-H_"
      }
    },
    {
      "cell_type": "code",
      "source": [
        "import sqlite3"
      ],
      "metadata": {
        "id": "vPK6i93YmY62"
      },
      "execution_count": 1,
      "outputs": []
    },
    {
      "cell_type": "code",
      "source": [
        "conn = sqlite3.connect('lista.db')\n",
        "cursor = conn.cursor()"
      ],
      "metadata": {
        "id": "MkoS0iwOeqG1"
      },
      "execution_count": 2,
      "outputs": []
    },
    {
      "cell_type": "code",
      "source": [
        "# 1 - Criar tabela Usuario com duas colunas:\n",
        "# matricula e nome, sendo a primeira a chave primária\n",
        "\n",
        "sql = '''CREATE TABLE usuario(\n",
        "  matricula VARCHAR(100) PRIMARY KEY,\n",
        "  nome VARCHAR(100) NOT NULL\n",
        ")'''\n",
        "\n",
        "cursor.execute(sql)"
      ],
      "metadata": {
        "colab": {
          "base_uri": "https://localhost:8080/"
        },
        "id": "OPHqCiFHhDnG",
        "outputId": "816d3789-be56-4902-c351-7cc5ce0b6c33"
      },
      "execution_count": 3,
      "outputs": [
        {
          "output_type": "execute_result",
          "data": {
            "text/plain": [
              "<sqlite3.Cursor at 0x7f29800bd240>"
            ]
          },
          "metadata": {},
          "execution_count": 3
        }
      ]
    },
    {
      "cell_type": "code",
      "source": [
        "# 2 - Verificar se existe algum empregado que recebe mais que 4000\n",
        "\n",
        "sql = '''ALTER TABLE usuario ADD empregado TINYINT(1) NOT NULL DEFAULT 0'''\n",
        "\n",
        "cursor.execute(sql)\n",
        "\n",
        "sql = '''ALTER TABLE usuario ADD salario FLOAT'''\n",
        "\n",
        "cursor.execute(sql)\n",
        "\n",
        "sql = 'INSERT INTO usuario (matricula, nome, empregado, salario) VALUES(?, ?, ?, ?)'\n",
        "\n",
        "usuarios = [['123', 'Marina', '1', '4050'], ['456', 'Helena', '1', '4000'],\\\n",
        "['654', 'Caio', '0', '0'], ['321', 'Igor', '0', '0']]\n",
        "\n",
        "for usuario in usuarios:\n",
        "    cursor.execute(sql, usuario)\n",
        "    print(usuario)"
      ],
      "metadata": {
        "colab": {
          "base_uri": "https://localhost:8080/"
        },
        "id": "NsHqezmdh1hO",
        "outputId": "e4e3ab42-9f9a-4422-fd57-793d08af88d3"
      },
      "execution_count": 4,
      "outputs": [
        {
          "output_type": "stream",
          "name": "stdout",
          "text": [
            "['123', 'Marina', '1', '4050']\n",
            "['456', 'Helena', '1', '4000']\n",
            "['654', 'Caio', '0', '0']\n",
            "['321', 'Igor', '0', '0']\n"
          ]
        }
      ]
    },
    {
      "cell_type": "code",
      "source": [
        "sql = '''SELECT\n",
        "    u.salario\n",
        "  FROM usuario u\n",
        "  WHERE u.empregado = 1 AND u.salario > 4000\n",
        "'''\n",
        "\n",
        "cursor.execute(sql)\n",
        "\n",
        "usuarios = cursor.fetchall()\n",
        "\n",
        "if len(usuarios) > 0:\n",
        "  print(\"Há %d usuários com o salário maior que R$ 4000,00\" % len(usuarios))\n",
        "else:\n",
        "  print(\"Não há usuários com o salário maior que R$ 4000,00\")"
      ],
      "metadata": {
        "colab": {
          "base_uri": "https://localhost:8080/"
        },
        "id": "cLmhCaaD70NA",
        "outputId": "c48e01f0-c0c7-4328-c420-46a9fb0ede2e"
      },
      "execution_count": 5,
      "outputs": [
        {
          "output_type": "stream",
          "name": "stdout",
          "text": [
            "Há 1 usuários com o salário maior que R$ 4000,00\n"
          ]
        }
      ]
    },
    {
      "cell_type": "code",
      "source": [
        "# 3 - Qual a média salarial, o maior e menor salário dos empregados?\n",
        "\n",
        "sql = '''SELECT\n",
        "    AVG(u.salario),\n",
        "    MAX(u.salario),\n",
        "    MIN(u.salario)\n",
        "  FROM usuario u\n",
        "  WHERE u.empregado = 1\n",
        "'''\n",
        "\n",
        "salarios = cursor.execute(sql)\n",
        "\n",
        "for salario in salarios:\n",
        "    print(salario)"
      ],
      "metadata": {
        "colab": {
          "base_uri": "https://localhost:8080/"
        },
        "id": "ogl8CV0jigy4",
        "outputId": "20c4f174-7345-4c45-9c3a-e6335eb3f2cc"
      },
      "execution_count": 6,
      "outputs": [
        {
          "output_type": "stream",
          "name": "stdout",
          "text": [
            "(4025.0, 4050.0, 4000.0)\n"
          ]
        }
      ]
    },
    {
      "cell_type": "code",
      "source": [
        "# 4 - Calcular o valor total recebido por cada empregado, considerando também a comissão\n",
        "# (sal + comm)\n",
        "\n",
        "sql = '''ALTER TABLE usuario ADD comissao FLOAT'''\n",
        "\n",
        "cursor.execute(sql)\n",
        "\n",
        "sql = '''UPDATE usuario SET comissao = 50 WHERE matricula = \\'123\\''''\n",
        "\n",
        "cursor.execute(sql)\n",
        "\n",
        "sql = '''UPDATE usuario SET comissao = 200 WHERE matricula = \\'456\\''''\n",
        "\n",
        "cursor.execute(sql)\n",
        "\n",
        "sql = '''SELECT\n",
        "    u.nome,\n",
        "    u.salario,\n",
        "    u.comissao,\n",
        "    u.salario + u.comissao AS valor_total\n",
        "  FROM usuario u\n",
        "  WHERE u.empregado = 1\n",
        "'''\n",
        "\n",
        "usuarios = cursor.execute(sql)\n",
        "\n",
        "for usuario in usuarios:\n",
        "    print(usuario)"
      ],
      "metadata": {
        "colab": {
          "base_uri": "https://localhost:8080/"
        },
        "id": "KrsuGZMojJeL",
        "outputId": "ba4e5512-8083-40f1-a04a-6cd3a999b9fa"
      },
      "execution_count": 7,
      "outputs": [
        {
          "output_type": "stream",
          "name": "stdout",
          "text": [
            "('Marina', 4050.0, 50.0, 4100.0)\n",
            "('Helena', 4000.0, 200.0, 4200.0)\n"
          ]
        }
      ]
    },
    {
      "cell_type": "code",
      "source": [
        "# 5 - Exibir a data atual\n",
        "\n",
        "sql = '''SELECT DATE('now')'''\n",
        "\n",
        "dates = cursor.execute(sql)\n",
        "\n",
        "for date in dates:\n",
        "    print(date)"
      ],
      "metadata": {
        "colab": {
          "base_uri": "https://localhost:8080/"
        },
        "id": "obP6hdtg_wUI",
        "outputId": "de622e65-6b99-4c12-af5e-74ac716baeef"
      },
      "execution_count": 8,
      "outputs": [
        {
          "output_type": "stream",
          "name": "stdout",
          "text": [
            "('2023-12-06',)\n"
          ]
        }
      ]
    },
    {
      "cell_type": "code",
      "source": [
        "# 6 - Calcular o gasto total com salário por departamento\n",
        "\n",
        "sql = '''ALTER TABLE usuario ADD departamento VARCHAR(100)'''\n",
        "\n",
        "cursor.execute(sql)\n",
        "\n",
        "sql = '''UPDATE usuario SET departamento = \\'TI\\' WHERE matricula = \\'123\\''''\n",
        "\n",
        "cursor.execute(sql)\n",
        "\n",
        "sql = '''UPDATE usuario SET departamento = \\'comercial\\' WHERE matricula = \\'456\\''''\n",
        "\n",
        "cursor.execute(sql)\n",
        "\n",
        "sql = '''SELECT\n",
        "    u.departamento,\n",
        "    SUM(u.salario),\n",
        "    SUM(u.comissao),\n",
        "    SUM(u.salario + u.comissao) AS valor_total\n",
        "  FROM usuario u\n",
        "  WHERE u.empregado = 1\n",
        "  GROUP BY u.departamento\n",
        "'''\n",
        "\n",
        "departamentos = cursor.execute(sql)\n",
        "\n",
        "for departamento in departamentos:\n",
        "    print(departamento)"
      ],
      "metadata": {
        "colab": {
          "base_uri": "https://localhost:8080/"
        },
        "id": "RIVZunm1_wgO",
        "outputId": "1772012a-89b8-437c-fcb8-b52046799ea2"
      },
      "execution_count": 9,
      "outputs": [
        {
          "output_type": "stream",
          "name": "stdout",
          "text": [
            "('TI', 4050.0, 50.0, 4100.0)\n",
            "('comercial', 4000.0, 200.0, 4200.0)\n"
          ]
        }
      ]
    },
    {
      "cell_type": "code",
      "source": [
        "# 7 - Calcular o número de dias de trabalho de cada empregado a partir\n",
        "# da contratação (hiredate) até hoje\n",
        "\n",
        "sql = '''ALTER TABLE usuario ADD hiredate DATE'''\n",
        "\n",
        "cursor.execute(sql)\n",
        "\n",
        "sql = '''UPDATE usuario SET hiredate = \\'2023-12-04\\' WHERE matricula = \\'123\\''''\n",
        "\n",
        "cursor.execute(sql)\n",
        "\n",
        "sql = '''UPDATE usuario SET hiredate = \\'2022-12-05\\' WHERE matricula = \\'456\\''''\n",
        "\n",
        "cursor.execute(sql)\n",
        "\n",
        "sql = '''SELECT\n",
        "    u.matricula,\n",
        "    u.nome,\n",
        "    u.hiredate,\n",
        "    CAST(julianday('now') - julianday(u.hiredate) AS INTEGER) AS dias_trabalhados\n",
        "  FROM usuario u\n",
        "  WHERE u.empregado = 1\n",
        "'''\n",
        "\n",
        "usuarios = cursor.execute(sql)\n",
        "\n",
        "for usuario in usuarios:\n",
        "    print(usuario)"
      ],
      "metadata": {
        "colab": {
          "base_uri": "https://localhost:8080/"
        },
        "id": "A3rEs4-h_wnb",
        "outputId": "914acb8d-6786-49c4-8c12-937ff7589a71"
      },
      "execution_count": 10,
      "outputs": [
        {
          "output_type": "stream",
          "name": "stdout",
          "text": [
            "('123', 'Marina', '2023-12-04', 2)\n",
            "('456', 'Helena', '2022-12-05', 366)\n"
          ]
        }
      ]
    },
    {
      "cell_type": "code",
      "source": [
        "# 8 - Exibir todos os funcionários com nomes iniciados com a letra M\n",
        "\n",
        "sql = '''SELECT\n",
        "    u.nome\n",
        "  FROM usuario u\n",
        "  WHERE u.nome LIKE \\'M%\\'\n",
        "'''\n",
        "\n",
        "usuarios = cursor.execute(sql)\n",
        "\n",
        "for usuario in usuarios:\n",
        "    print(usuario)"
      ],
      "metadata": {
        "colab": {
          "base_uri": "https://localhost:8080/"
        },
        "id": "OaSKF7qkD3b6",
        "outputId": "ed03c530-79ff-4c2c-8fae-4833535b3573"
      },
      "execution_count": 11,
      "outputs": [
        {
          "output_type": "stream",
          "name": "stdout",
          "text": [
            "('Marina',)\n"
          ]
        }
      ]
    },
    {
      "cell_type": "code",
      "source": [
        "# 9 - Exibir o nome dos empregados e o nome de seu respectivo departamento\n",
        " # (ordenar por departamento)\n",
        "\n",
        "sql = '''SELECT\n",
        "    u.nome,\n",
        "    u.departamento\n",
        "  FROM usuario u\n",
        "  WHERE u.empregado = 1\n",
        "  ORDER BY u.departamento ASC\n",
        "'''\n",
        "\n",
        "usuarios = cursor.execute(sql)\n",
        "\n",
        "for usuario in usuarios:\n",
        "    print(usuario)"
      ],
      "metadata": {
        "colab": {
          "base_uri": "https://localhost:8080/"
        },
        "id": "atyxiFPkD3fb",
        "outputId": "493c2530-71ea-40eb-b3f5-5e973921e783"
      },
      "execution_count": 12,
      "outputs": [
        {
          "output_type": "stream",
          "name": "stdout",
          "text": [
            "('Marina', 'TI')\n",
            "('Helena', 'comercial')\n"
          ]
        }
      ]
    },
    {
      "cell_type": "code",
      "source": [
        "# 10 - Exibir o nome dos empregados e o nome do seu respectivo gerente\n",
        "# (ordenar por gerente)\n",
        "\n",
        "sql = '''ALTER TABLE usuario ADD COLUMN gerente VARCHAR(100)'''\n",
        "\n",
        "cursor.execute(sql)\n",
        "\n",
        "sql = '''UPDATE usuario SET gerente = \\'456\\' WHERE matricula = \\'123\\''''\n",
        "\n",
        "cursor.execute(sql)\n",
        "\n",
        "sql = '''UPDATE usuario SET gerente = \\'123\\' WHERE matricula = \\'456\\''''\n",
        "\n",
        "cursor.execute(sql)\n",
        "\n",
        "sql = '''SELECT\n",
        "    u.nome,\n",
        "    g.nome\n",
        "  FROM usuario u\n",
        "  INNER JOIN usuario g ON g.matricula = u.gerente\n",
        "  WHERE u.empregado = 1\n",
        "  ORDER BY g.nome ASC\n",
        "'''\n",
        "\n",
        "usuarios = cursor.execute(sql)\n",
        "\n",
        "for usuario in usuarios:\n",
        "    print(usuario)"
      ],
      "metadata": {
        "colab": {
          "base_uri": "https://localhost:8080/"
        },
        "id": "jGoHGTpUD3jM",
        "outputId": "a4d493cd-b880-4256-cdc5-309b9b5ea203"
      },
      "execution_count": 14,
      "outputs": [
        {
          "output_type": "stream",
          "name": "stdout",
          "text": [
            "('Marina', 'Helena')\n",
            "('Helena', 'Marina')\n"
          ]
        }
      ]
    }
  ]
}