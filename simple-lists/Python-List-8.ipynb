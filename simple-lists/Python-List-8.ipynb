{
  "nbformat": 4,
  "nbformat_minor": 0,
  "metadata": {
    "colab": {
      "provenance": [],
      "authorship_tag": "ABX9TyNgypIsfDVyipYJTE/IMzH6",
      "include_colab_link": true
    },
    "kernelspec": {
      "name": "python3",
      "display_name": "Python 3"
    },
    "language_info": {
      "name": "python"
    }
  },
  "cells": [
    {
      "cell_type": "markdown",
      "metadata": {
        "id": "view-in-github",
        "colab_type": "text"
      },
      "source": [
        "<a href=\"https://colab.research.google.com/github/LaraAyrolla/Python-Projects/blob/main/simple-lists/Python-List-8.ipynb\" target=\"_parent\"><img src=\"https://colab.research.google.com/assets/colab-badge.svg\" alt=\"Open In Colab\"/></a>"
      ]
    },
    {
      "cell_type": "markdown",
      "source": [
        "**Programação de Soluções Computacionais**\n",
        "\n",
        "\n",
        "7ª LISTA DE EXERCÍCIOS - CONVERSÃO DE BASES NUMÉRICAS - PYTHON"
      ],
      "metadata": {
        "id": "uN0mxitVD-H_"
      }
    },
    {
      "cell_type": "code",
      "source": [
        "# Nessa atividade, você deve criar um programa que recebe como entrada:\n",
        "# um número, base original e base final.\n",
        "\n",
        "# 1. Esse programa deve validar o número de entrada garantindo que ele está na base\n",
        "# original, ou seja, cada dígito do número é menor que a base original.\n",
        "# 2. Criar uma função para converter um número de qualquer base numérica para decimal\n",
        "# 3. Criar uma função para converter um número em decimal para qualquer base.\n",
        "\n",
        "import sys\n",
        "\n",
        "def converter_decimal(numeroOriginal, baseFinal):\n",
        "  tamanho = len(numeroOriginal)\n",
        "  conversao = \"\"\n",
        "  resultado = numeroOriginal\n",
        "\n",
        "  while resultado != 0:\n",
        "    resto = int(resultado) % baseFinal\n",
        "    if resto > 9:\n",
        "      match resto:\n",
        "        case 10:\n",
        "          charAtual = \"A\"\n",
        "        case 11:\n",
        "          charAtual = \"B\"\n",
        "        case 12:\n",
        "          charAtual = \"C\"\n",
        "        case 13:\n",
        "          charAtual = \"D\"\n",
        "        case 14:\n",
        "          charAtual = \"E\"\n",
        "        case 15:\n",
        "          charAtual = \"F\"\n",
        "        case _:\n",
        "          print(\"\\nO número não está na base informada. \\\n",
        "            Números nessa base somente podem conter dígitos entre '0' e '9' ou letras entre 'A' e 'F'. \\n\"\n",
        "          )\n",
        "          sys.exit()\n",
        "    else:\n",
        "      charAtual = str(resto)\n",
        "    conversao = charAtual + conversao\n",
        "    resultado = int(resultado) // baseFinal\n",
        "\n",
        "  return conversao\n",
        "\n",
        "def converter_para_decimal(numeroOriginal, baseOriginal):\n",
        "  tamanho = len(numeroOriginal)\n",
        "  decimal = 0\n",
        "  for i in range(tamanho):\n",
        "    charAtual = numeroOriginal[tamanho - i - 1]\n",
        "    if not charAtual.isdigit():\n",
        "      match charAtual:\n",
        "        case \"A\":\n",
        "          charAtual = \"10\"\n",
        "        case \"B\":\n",
        "          charAtual = \"11\"\n",
        "        case \"C\":\n",
        "          charAtual = \"12\"\n",
        "        case \"D\":\n",
        "          charAtual = \"13\"\n",
        "        case \"E\":\n",
        "          charAtual = \"14\"\n",
        "        case \"F\":\n",
        "          charAtual = \"15\"\n",
        "        case _:\n",
        "          print(\"\\nO número não está na base informada. \\\n",
        "            Números nessa base somente podem conter dígitos entre '0' e '9' ou letras entre 'A' e 'F'. \\n\"\n",
        "          )\n",
        "          sys.exit()\n",
        "    decimal += int(charAtual) * baseOriginal**i\n",
        "  return decimal\n",
        "\n",
        "numeroOriginal = input(\"Insira um número: \")\n",
        "baseOriginal = int(input(\"Base original do número (binária, octal, hexadecimal): \"))\n",
        "baseFinal = int(input(\"Base final para conversão (binária, octal, hexadecimal): \"))\n",
        "\n",
        "letras_permitidas = [\"A\", \"B\", \"C\", \"D\", \"E\", \"F\"]\n",
        "tamanho = len(numeroOriginal)\n",
        "for i in range(tamanho):\n",
        "  if baseOriginal == 16:\n",
        "    if not numeroOriginal[i].isdigit():\n",
        "      if numeroOriginal[i] not in letras_permitidas:\n",
        "        print(\"\\nO número não está na base informada. \\\n",
        "          Números nessa base somente podem conter dígitos entre '0' e '9' ou letras entre 'A' e 'F'. \\n\"\n",
        "        )\n",
        "        sys.exit()\n",
        "    elif int(numeroOriginal[i]) < 0 or int(numeroOriginal[i]) > 9:\n",
        "        print(\"\\nO número não está na base informada. \\\n",
        "          Números nessa base somente podem conter dígitos entre '0' e '9' ou letras entre 'A' e 'F'. \\n\"\n",
        "        )\n",
        "        sys.exit()\n",
        "  elif not numeroOriginal[i].isdigit() or int(numeroOriginal[i]) < 0 or int(numeroOriginal[i]) > baseOriginal-1:\n",
        "    print(\"\\nO número não está na base informada. \\\n",
        "      Números nessa base somente podem conter dígitos entre '0' e '{0}'. \\n\".format(baseOriginal-1))\n",
        "    sys.exit()\n",
        "\n",
        "if baseOriginal == baseFinal:\n",
        "  print(\"\\nAs bases são iguais! Insira bases diferentes para fazer uma conversão.\")\n",
        "  sys.exit()\n",
        "\n",
        "if baseOriginal == 10:\n",
        "  numeroFinal = converter_decimal(numeroOriginal, baseFinal)\n",
        "elif baseFinal == 10:\n",
        "  numeroFinal = converter_para_decimal(numeroOriginal, baseOriginal)\n",
        "else:\n",
        "  decimal = converter_para_decimal(numeroOriginal, baseOriginal)\n",
        "  numeroFinal = converter_decimal(str(decimal), baseFinal)\n",
        "\n",
        "print(\"\\nA conversão do número para base {0} é '{1}'\".format(baseFinal, numeroFinal))"
      ],
      "metadata": {
        "colab": {
          "base_uri": "https://localhost:8080/"
        },
        "id": "OnepiqzPG9lE",
        "outputId": "b48972e8-2366-43ab-fa68-c8dd6e8fba5a"
      },
      "execution_count": 54,
      "outputs": [
        {
          "output_type": "stream",
          "name": "stdout",
          "text": [
            "Insira um número: 1657\n",
            "Base original do número (binária, octal, hexadecimal): 8\n",
            "Base final para conversão (binária, octal, hexadecimal): 16\n",
            "\n",
            "A conversão do número para base 16 é '3AF'\n"
          ]
        }
      ]
    }
  ]
}