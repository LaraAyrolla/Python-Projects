{
  "nbformat": 4,
  "nbformat_minor": 0,
  "metadata": {
    "colab": {
      "provenance": [],
      "authorship_tag": "ABX9TyPhceZ4kRrfARE7uyuWmOdr",
      "include_colab_link": true
    },
    "kernelspec": {
      "name": "python3",
      "display_name": "Python 3"
    },
    "language_info": {
      "name": "python"
    }
  },
  "cells": [
    {
      "cell_type": "markdown",
      "metadata": {
        "id": "view-in-github",
        "colab_type": "text"
      },
      "source": [
        "<a href=\"https://colab.research.google.com/github/LaraAyrolla/Python-Projects/blob/main/simple-lists/Python-List-8.2.ipynb\" target=\"_parent\"><img src=\"https://colab.research.google.com/assets/colab-badge.svg\" alt=\"Open In Colab\"/></a>"
      ]
    },
    {
      "cell_type": "markdown",
      "source": [
        "**Programação de Soluções Computacionais**\n",
        "\n",
        "\n",
        "8.2ª LISTA DE EXERCÍCIOS - SQL - PYTHON"
      ],
      "metadata": {
        "id": "uN0mxitVD-H_"
      }
    },
    {
      "cell_type": "code",
      "source": [
        "import sqlite3"
      ],
      "metadata": {
        "id": "vPK6i93YmY62"
      },
      "execution_count": 135,
      "outputs": []
    },
    {
      "cell_type": "code",
      "source": [
        "# 1 - Crie um banco de dados chamado exercicio1.db\n",
        "\n",
        "conn = sqlite3.connect('exercicio.db')\n",
        "cursor = conn.cursor()"
      ],
      "metadata": {
        "id": "MkoS0iwOeqG1"
      },
      "execution_count": 136,
      "outputs": []
    },
    {
      "cell_type": "code",
      "source": [
        "# 2 - Crie uma tabela chamada 'cursos' para armazenar informações sobre os cursos.\n",
        "# A tabela deve ter uma coluna id que será a chave primária e outra com o nome do curso.\n",
        "\n",
        "sql = '''CREATE TABLE cursos(\n",
        "  id INTEGER PRIMARY KEY AUTOINCREMENT,\n",
        "  nome VARCHAR(100) NOT NULL\n",
        ")'''\n",
        "\n",
        "cursor.execute(sql)"
      ],
      "metadata": {
        "colab": {
          "base_uri": "https://localhost:8080/"
        },
        "id": "OPHqCiFHhDnG",
        "outputId": "dfef2ad2-26e1-40e9-9bf9-375d61999f6c"
      },
      "execution_count": 137,
      "outputs": [
        {
          "output_type": "execute_result",
          "data": {
            "text/plain": [
              "<sqlite3.Cursor at 0x7eabb06ed1c0>"
            ]
          },
          "metadata": {},
          "execution_count": 137
        }
      ]
    },
    {
      "cell_type": "code",
      "source": [
        "# 3 - Crie uma tabela chamada 'alunos' com as seguintes colunas:\n",
        "# id, nome, nota e curso_id\n",
        "\n",
        "sql = '''CREATE TABLE alunos(\n",
        "  id INTEGER PRIMARY KEY AUTOINCREMENT,\n",
        "  nome VARCHAR(100) NOT NULL,\n",
        "  nota FLOAT NOT NULL,\n",
        "  curso_id INTEGER,\n",
        "  FOREIGN KEY(curso_id) REFERENCES cursos(id)\n",
        ")'''\n",
        "\n",
        "cursor.execute(sql)"
      ],
      "metadata": {
        "colab": {
          "base_uri": "https://localhost:8080/"
        },
        "id": "NsHqezmdh1hO",
        "outputId": "9eac3d05-834c-4107-9873-332792a18838"
      },
      "execution_count": 138,
      "outputs": [
        {
          "output_type": "execute_result",
          "data": {
            "text/plain": [
              "<sqlite3.Cursor at 0x7eabb06ed1c0>"
            ]
          },
          "metadata": {},
          "execution_count": 138
        }
      ]
    },
    {
      "cell_type": "code",
      "source": [
        "# 4 - Insira os cursos:\n",
        "# (1, 'Matemática'),\n",
        "# (2, 'História'),\n",
        "# (3, 'Ciências'),\n",
        "# (4, 'Inglês'),\n",
        "# (5, 'Programação')\n",
        "\n",
        "sql = 'INSERT INTO cursos (nome) VALUES(?)'\n",
        "\n",
        "cursos = [['Matemática'],['História'],['Ciências'],['Inglês'],['Programação']]\n",
        "\n",
        "for curso in cursos:\n",
        "    cursor.execute(sql, curso)\n",
        "    print(curso)\n",
        "\n",
        "conn.commit()"
      ],
      "metadata": {
        "colab": {
          "base_uri": "https://localhost:8080/"
        },
        "id": "ogl8CV0jigy4",
        "outputId": "95494c9c-29f1-4d9d-a8e2-b9a3fc4d7b09"
      },
      "execution_count": 139,
      "outputs": [
        {
          "output_type": "stream",
          "name": "stdout",
          "text": [
            "['Matemática']\n",
            "['História']\n",
            "['Ciências']\n",
            "['Inglês']\n",
            "['Programação']\n"
          ]
        }
      ]
    },
    {
      "cell_type": "code",
      "source": [
        "# 5 - Insira alguns registros na tabela 'alunos' com referência aos cursos\n",
        "\n",
        "# (1, 'Alice', 20, 9.5, 1), # Matemática\n",
        "# (2, 'Bob', 22, 8.0, 2), # História\n",
        "# (3, 'Carol', 21, 7.5, 1), # Matemática\n",
        "# (4, 'David', 23, 8.8, 3), # Ciências\n",
        "# (5, 'Eve', 19, 9.0, 2) # História\n",
        "# (6, 'Frank', 24, 8.7, 1), # Matemática\n",
        "# (6, 'Frank', 24, 8.7, 4) # Inglês\n",
        "\n",
        "sql = 'INSERT INTO alunos (nome, nota, curso_id) VALUES(?,?,?)'\n",
        "\n",
        "alunos = [\n",
        "  ['Alice', '9.5', '1'],['Bob', '8', '2'],\\\n",
        "  ['Carol', '7.5', '1'],['David', '8.8', '3'],\\\n",
        "  ['Eve', '9', '2'],['Frank', '8.7', '1'],['Frank', '8.7', '4']\\\n",
        "]\n",
        "\n",
        "for aluno in alunos:\n",
        "    cursor.execute(sql, aluno)\n",
        "    print(aluno)\n",
        "\n",
        "conn.commit()"
      ],
      "metadata": {
        "colab": {
          "base_uri": "https://localhost:8080/"
        },
        "id": "KrsuGZMojJeL",
        "outputId": "5307efe7-c154-4bd5-9579-706129274a94"
      },
      "execution_count": 140,
      "outputs": [
        {
          "output_type": "stream",
          "name": "stdout",
          "text": [
            "['Alice', '9.5', '1']\n",
            "['Bob', '8', '2']\n",
            "['Carol', '7.5', '1']\n",
            "['David', '8.8', '3']\n",
            "['Eve', '9', '2']\n",
            "['Frank', '8.7', '1']\n",
            "['Frank', '8.7', '4']\n"
          ]
        }
      ]
    },
    {
      "cell_type": "code",
      "source": [
        "# 6 - Faça consultas SQL para recuperar informações dos alunos e seus cursos\n",
        "\n",
        "# a. Selecione todos os alunos e seus cursos\n",
        "\n",
        "sql = '''SELECT\n",
        "    a.id,\n",
        "    a.nome,\n",
        "    a.nota,\n",
        "    c.nome as curso,\n",
        "    c.id as curso_id\n",
        "  FROM alunos a\n",
        "  INNER JOIN cursos c ON c.id = a.curso_id\n",
        "'''\n",
        "\n",
        "alunos = cursor.execute(sql)\n",
        "\n",
        "for aluno in alunos:\n",
        "    print(aluno)"
      ],
      "metadata": {
        "colab": {
          "base_uri": "https://localhost:8080/"
        },
        "id": "Z5fctDQ_kg5d",
        "outputId": "cd394d47-cb8e-441e-e1ef-f4f73360930e"
      },
      "execution_count": 141,
      "outputs": [
        {
          "output_type": "stream",
          "name": "stdout",
          "text": [
            "(1, 'Alice', 9.5, 'Matemática', 1)\n",
            "(2, 'Bob', 8.0, 'História', 2)\n",
            "(3, 'Carol', 7.5, 'Matemática', 1)\n",
            "(4, 'David', 8.8, 'Ciências', 3)\n",
            "(5, 'Eve', 9.0, 'História', 2)\n",
            "(6, 'Frank', 8.7, 'Matemática', 1)\n",
            "(7, 'Frank', 8.7, 'Inglês', 4)\n"
          ]
        }
      ]
    },
    {
      "cell_type": "code",
      "source": [
        "# b. Selecione os alunos com notas acima de 7\n",
        "\n",
        "sql = '''SELECT\n",
        "    a.id,\n",
        "    a.nome,\n",
        "    a.nota\n",
        "  FROM alunos a\n",
        "  WHERE a.nota > 7\n",
        "'''\n",
        "alunos = cursor.execute(sql)\n",
        "\n",
        "for aluno in alunos:\n",
        "    print(aluno)"
      ],
      "metadata": {
        "colab": {
          "base_uri": "https://localhost:8080/"
        },
        "id": "u_qBLv6ZlzAJ",
        "outputId": "00fbc72c-a811-47c0-ce62-7b0774199d14"
      },
      "execution_count": 142,
      "outputs": [
        {
          "output_type": "stream",
          "name": "stdout",
          "text": [
            "(1, 'Alice', 9.5)\n",
            "(2, 'Bob', 8.0)\n",
            "(3, 'Carol', 7.5)\n",
            "(4, 'David', 8.8)\n",
            "(5, 'Eve', 9.0)\n",
            "(6, 'Frank', 8.7)\n",
            "(7, 'Frank', 8.7)\n"
          ]
        }
      ]
    },
    {
      "cell_type": "code",
      "source": [
        "# c. Selecione os alunos com nota acima de 7 e seus respectivos cursos\n",
        "\n",
        "sql = '''SELECT\n",
        "    a.id,\n",
        "    a.nome,\n",
        "    a.nota,\n",
        "    c.nome as curso,\n",
        "    c.id as curso_id\n",
        "  FROM alunos a\n",
        "  INNER JOIN cursos c ON c.id = a.curso_id\n",
        "  WHERE a.nota > 7\n",
        "'''\n",
        "alunos = cursor.execute(sql)\n",
        "\n",
        "for aluno in alunos:\n",
        "    print(aluno)"
      ],
      "metadata": {
        "colab": {
          "base_uri": "https://localhost:8080/"
        },
        "id": "lQx75rHHmCPm",
        "outputId": "4894d518-3ea0-4e6b-8e8d-d41b28e2df0c"
      },
      "execution_count": 143,
      "outputs": [
        {
          "output_type": "stream",
          "name": "stdout",
          "text": [
            "(1, 'Alice', 9.5, 'Matemática', 1)\n",
            "(2, 'Bob', 8.0, 'História', 2)\n",
            "(3, 'Carol', 7.5, 'Matemática', 1)\n",
            "(4, 'David', 8.8, 'Ciências', 3)\n",
            "(5, 'Eve', 9.0, 'História', 2)\n",
            "(6, 'Frank', 8.7, 'Matemática', 1)\n",
            "(7, 'Frank', 8.7, 'Inglês', 4)\n"
          ]
        }
      ]
    },
    {
      "cell_type": "code",
      "source": [
        "# 7 - Crie um script para alterar a tabela de 'alunos' retirando as colunas nota e curso_id\n",
        "\n",
        "createNewAlunosTable = 'CREATE TABLE new_alunos AS SELECT id, nome FROM alunos'\n",
        "dropOldAlunosTable = 'DROP TABLE alunos'\n",
        "renameNewAlunosTable = 'ALTER TABLE new_alunos RENAME TO alunos'"
      ],
      "metadata": {
        "id": "5v9RX4fsEt7_"
      },
      "execution_count": 144,
      "outputs": []
    },
    {
      "cell_type": "code",
      "source": [
        "# 8 - Crie uma tabela 'Disciplinas' para receber as colunas nota e curso_id que\n",
        "# devem ser retiradas da tabela alunos e os dados respectivos e adicione uma chave\n",
        "# estrangeira para o aluno_id\n",
        "\n",
        "sql = '''CREATE TABLE disciplinas(\n",
        "  id INTEGER PRIMARY KEY AUTOINCREMENT,\n",
        "  nota FLOAT NOT NULL,\n",
        "  aluno_id INTEGER,\n",
        "  curso_id INTEGER,\n",
        "  FOREIGN KEY(aluno_id) REFERENCES alunos(id),\n",
        "  FOREIGN KEY(curso_id) REFERENCES cursos(id)\n",
        ")'''\n",
        "\n",
        "cursor.execute(sql)\n",
        "\n",
        "sql = '''INSERT INTO disciplinas\n",
        "  (nota, aluno_id, curso_id)\n",
        "  SELECT a.nota, a.id, a.curso_id FROM alunos a\n",
        "'''\n",
        "\n",
        "cursor.execute(sql)"
      ],
      "metadata": {
        "colab": {
          "base_uri": "https://localhost:8080/"
        },
        "id": "xqG38jjVK_XA",
        "outputId": "01682d78-d2b3-4f69-b8e1-cd3383fdce96"
      },
      "execution_count": 145,
      "outputs": [
        {
          "output_type": "execute_result",
          "data": {
            "text/plain": [
              "<sqlite3.Cursor at 0x7eabb06ed1c0>"
            ]
          },
          "metadata": {},
          "execution_count": 145
        }
      ]
    },
    {
      "cell_type": "code",
      "source": [
        "cursor.execute(createNewAlunosTable)\n",
        "cursor.execute(dropOldAlunosTable)\n",
        "cursor.execute(renameNewAlunosTable)\n",
        "\n",
        "sql = '''SELECT\n",
        "    a.id,\n",
        "    a.nome\n",
        "  FROM alunos a\n",
        "'''\n",
        "\n",
        "alunos = cursor.execute(sql)\n",
        "\n",
        "for aluno in alunos:\n",
        "    print(aluno)"
      ],
      "metadata": {
        "colab": {
          "base_uri": "https://localhost:8080/"
        },
        "id": "D3FFb4yxLQBd",
        "outputId": "eac6e46d-4138-4c63-810a-f7815a09df0d"
      },
      "execution_count": 148,
      "outputs": [
        {
          "output_type": "stream",
          "name": "stdout",
          "text": [
            "(1, 'Alice')\n",
            "(2, 'Bob')\n",
            "(3, 'Carol')\n",
            "(4, 'David')\n",
            "(5, 'Eve')\n",
            "(6, 'Frank')\n",
            "(7, 'Frank')\n"
          ]
        }
      ]
    },
    {
      "cell_type": "code",
      "source": [
        "sql = '''SELECT\n",
        "    d.id,\n",
        "    d.nota,\n",
        "    a.nome as aluno,\n",
        "    a.id as alunos_id,\n",
        "    c.nome as curso,\n",
        "    c.id as curso_id\n",
        "  FROM disciplinas d\n",
        "  INNER JOIN cursos c ON c.id = d.curso_id\n",
        "  INNER JOIN alunos a ON a.id = d.aluno_id\n",
        "'''\n",
        "\n",
        "disciplinas = cursor.execute(sql)\n",
        "\n",
        "for disciplina in disciplinas:\n",
        "    print(disciplina)"
      ],
      "metadata": {
        "colab": {
          "base_uri": "https://localhost:8080/"
        },
        "id": "r9sMpnc0E1Io",
        "outputId": "2fcee732-69b2-4f85-a3b3-c201518577b7"
      },
      "execution_count": 150,
      "outputs": [
        {
          "output_type": "stream",
          "name": "stdout",
          "text": [
            "(1, 9.5, 'Alice', 1, 'Matemática', 1)\n",
            "(2, 8.0, 'Bob', 2, 'História', 2)\n",
            "(3, 7.5, 'Carol', 3, 'Matemática', 1)\n",
            "(4, 8.8, 'David', 4, 'Ciências', 3)\n",
            "(5, 9.0, 'Eve', 5, 'História', 2)\n",
            "(6, 8.7, 'Frank', 6, 'Matemática', 1)\n",
            "(7, 8.7, 'Frank', 7, 'Inglês', 4)\n"
          ]
        }
      ]
    }
  ]
}