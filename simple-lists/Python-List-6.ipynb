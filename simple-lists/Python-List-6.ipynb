{
  "nbformat": 4,
  "nbformat_minor": 0,
  "metadata": {
    "colab": {
      "provenance": [],
      "authorship_tag": "ABX9TyOMgkEx5K/d9NY4SWjWwIYg",
      "include_colab_link": true
    },
    "kernelspec": {
      "name": "python3",
      "display_name": "Python 3"
    },
    "language_info": {
      "name": "python"
    }
  },
  "cells": [
    {
      "cell_type": "markdown",
      "metadata": {
        "id": "view-in-github",
        "colab_type": "text"
      },
      "source": [
        "<a href=\"https://colab.research.google.com/github/LaraAyrolla/Python-Projects/blob/main/simple-lists/Python-List-6.ipynb\" target=\"_parent\"><img src=\"https://colab.research.google.com/assets/colab-badge.svg\" alt=\"Open In Colab\"/></a>"
      ]
    },
    {
      "cell_type": "markdown",
      "source": [
        "**Programação de Soluções Computacionais**\n",
        "\n",
        "\n",
        "6ª LISTA DE EXERCÍCIOS - POO - PYTHON\n"
      ],
      "metadata": {
        "id": "iPKpwOS4q1OB"
      }
    },
    {
      "cell_type": "code",
      "execution_count": 6,
      "metadata": {
        "colab": {
          "base_uri": "https://localhost:8080/"
        },
        "id": "Ex5f197AqQsb",
        "outputId": "a5d727a5-168f-4b00-bf61-2ca84b60681d"
      },
      "outputs": [
        {
          "output_type": "stream",
          "name": "stdout",
          "text": [
            "\n",
            "Extrato de Lara Ayrolla: \n",
            "- Depósito\n",
            "- Saque\n",
            "- Depósito\n",
            "\n",
            "Saldo de Lara Ayrolla: \n",
            "R$ 1199,37\n"
          ]
        }
      ],
      "source": [
        "# 1 - Altere a classe ContaBancaria adicionando uma lista operacoes\n",
        "# (como atributo da classe) para registrar todas as operações de depósito\n",
        "# e saque. Crie um método extrato para listar todas as operações realizadas.\n",
        "\n",
        "class ContaBancaria:\n",
        "  titular: str\n",
        "  saldo: float\n",
        "  operacoes: list\n",
        "\n",
        "  def __init__(self, titular, saldo):\n",
        "    self.titular = titular\n",
        "    self.saldo = saldo\n",
        "    self.operacoes = []\n",
        "\n",
        "  def deposito(self, valor):\n",
        "      self.saldo += valor\n",
        "      self.operacoes.append(\"Depósito\")\n",
        "\n",
        "  def saque(self, valor):\n",
        "      self.saldo -= valor\n",
        "      self.operacoes.append(\"Saque\")\n",
        "\n",
        "  def imprime_saldo(self):\n",
        "    print(\"\\nSaldo de {0}: \".format(self.titular))\n",
        "    print(\"R$ {:.2f}\".format(self.saldo).replace(\".\", \",\"))\n",
        "\n",
        "  def imprime_extrato(self):\n",
        "      print(\"\\nExtrato de {0}: \".format(self.titular))\n",
        "      for i in range(len(self.operacoes)):\n",
        "        print(\"- \" + self.operacoes[i])\n",
        "\n",
        "conta = ContaBancaria(\"Lara Ayrolla\", 0)\n",
        "conta.deposito(1000.99)\n",
        "conta.saque(1.99)\n",
        "conta.deposito(200.37)\n",
        "conta.imprime_extrato()\n",
        "conta.imprime_saldo()"
      ]
    },
    {
      "cell_type": "code",
      "source": [
        "# 2 - Altere o método extrato de ContaBancaria de forma que o saldo\n",
        "# seja impresso após cada operação (saque / depósito)\n",
        "\n",
        "class ContaBancaria:\n",
        "  titular: str\n",
        "  saldo: float\n",
        "  operacoes: list\n",
        "  saldos: dict\n",
        "\n",
        "  def __init__(self, titular, saldo):\n",
        "    self.titular = titular\n",
        "    self.saldo = saldo\n",
        "    self.operacoes = []\n",
        "    self.saldos = []\n",
        "\n",
        "  def deposito(self, valor):\n",
        "      self.saldo += valor\n",
        "      self.operacoes.append(\"Depósito\")\n",
        "      self.saldos.append(self.saldo)\n",
        "\n",
        "  def saque(self, valor):\n",
        "      self.saldo -= valor\n",
        "      self.operacoes.append(\"Saque\")\n",
        "      self.saldos.append(self.saldo)\n",
        "\n",
        "  def imprime_saldo(self):\n",
        "    print(\"\\nSaldo de {0}: \".format(self.titular))\n",
        "    print(\"R$ {:.2f}\".format(self.saldo).replace(\".\", \",\"))\n",
        "\n",
        "  def imprime_extrato(self):\n",
        "      print(\"\\nExtrato de {0}: \".format(self.titular))\n",
        "      for i in range(len(self.operacoes)):\n",
        "        print(\"- \" + self.operacoes[i] + \"\\n  Saldo: R$ {:.2f}\".format(self.saldos[i]).replace(\".\", \",\"))\n",
        "      self.imprime_saldo()\n",
        "\n",
        "conta = ContaBancaria(\"Lara Ayrolla\", 0)\n",
        "conta.deposito(1000.99)\n",
        "conta.saque(1.99)\n",
        "conta.deposito(200.37)\n",
        "conta.imprime_extrato()"
      ],
      "metadata": {
        "colab": {
          "base_uri": "https://localhost:8080/"
        },
        "id": "zMhiS-m-vrbN",
        "outputId": "9388e802-0ee6-47ea-f15a-a5237b3aae69"
      },
      "execution_count": 24,
      "outputs": [
        {
          "output_type": "stream",
          "name": "stdout",
          "text": [
            "\n",
            "Extrato de Lara Ayrolla: \n",
            "- Depósito\n",
            "  Saldo: R$ 1000,99\n",
            "- Saque\n",
            "  Saldo: R$ 999,00\n",
            "- Depósito\n",
            "  Saldo: R$ 1199,37\n",
            "\n",
            "Saldo de Lara Ayrolla: \n",
            "R$ 1199,37\n"
          ]
        }
      ]
    },
    {
      "cell_type": "code",
      "source": [
        "# 3 - Crie uma classe Banco que tem como atributos o nome do banco, uma lista\n",
        "# com os nomes dos clientes e uma lista com os respectivos números das contas.\n",
        "\n",
        "class Banco:\n",
        "  nome: str\n",
        "  clientes: list\n",
        "  contas: list\n",
        "\n",
        "  def __init__(self, nome):\n",
        "    self.nome = nome\n",
        "    self.clientes = []\n",
        "    self.contas = []\n",
        "\n",
        "# 4 - Crie um método para classe Banco chamado abrir_conta que faz append nas\n",
        "# listas e cria uma nova instância de ContaBancaria.\n",
        "\n",
        "  def abrir_conta(self, titular):\n",
        "    self.clientes.append(titular)\n",
        "    self.contas.append(ContaBancaria(titular, 0))\n",
        "\n",
        "# 5 - Crie um método para o Banco chamado lista_contas para imprimir as contas\n",
        "# e respectivo saldo.\n",
        "\n",
        "  def listar_contas(self):\n",
        "    print(\"\\nContas de '{}':\".format(self.nome))\n",
        "    for i in range(len(self.contas)):\n",
        "      print(\"Conta {} - Titular: {} - Saldo: R$ {:.2f}\".format(\n",
        "          i+1, self.contas[i].titular, self.contas[i].saldo\n",
        "      ).replace(\".\", \",\"))\n",
        "\n",
        "# 6 - Crie um método para o Banco para listar as contas com saldo superior\n",
        "# a 10000.\n",
        "\n",
        "  def listar_contas_dez_mil(self):\n",
        "      print(\"\\nContas de '{}' com saldo superior a R$ 10000,00:\".format(self.nome))\n",
        "      for i in range(len(self.contas)):\n",
        "        if self.contas[i].saldo > 10000:\n",
        "          print(\"Conta {} - Titular: {} - Saldo: R$ {:.2f}\".format(\n",
        "              i+1, self.contas[i].titular, self.contas[i].saldo\n",
        "          ).replace(\".\", \",\"))"
      ],
      "metadata": {
        "id": "jlQ7NoG-xcCC"
      },
      "execution_count": 52,
      "outputs": []
    },
    {
      "cell_type": "code",
      "source": [
        "meuBanco = Banco(\"Meu Banco\")\n",
        "meuBanco.abrir_conta(\"Lara Ayrolla\")\n",
        "meuBanco.contas[0].deposito(20000)\n",
        "meuBanco.abrir_conta(\"Luísa Abreu\")\n",
        "meuBanco.contas[1].deposito(2000)\n",
        "meuBanco.listar_contas()\n",
        "meuBanco.listar_contas_dez_mil()"
      ],
      "metadata": {
        "colab": {
          "base_uri": "https://localhost:8080/"
        },
        "id": "yvk98ww-yIfo",
        "outputId": "eff64fe4-d64a-4023-ac94-ae2fe968df32"
      },
      "execution_count": 53,
      "outputs": [
        {
          "output_type": "stream",
          "name": "stdout",
          "text": [
            "\n",
            "Contas de 'Meu Banco':\n",
            "Conta 1 - Titular: Lara Ayrolla - Saldo: R$ 20000,00\n",
            "Conta 2 - Titular: Luísa Abreu - Saldo: R$ 2000,00\n",
            "\n",
            "Contas de 'Meu Banco' com saldo superior a R$ 10000,00:\n",
            "Conta 1 - Titular: Lara Ayrolla - Saldo: R$ 20000,00\n"
          ]
        }
      ]
    }
  ]
}