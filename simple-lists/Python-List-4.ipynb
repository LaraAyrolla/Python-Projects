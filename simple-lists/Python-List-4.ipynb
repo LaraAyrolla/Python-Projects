{
  "nbformat": 4,
  "nbformat_minor": 0,
  "metadata": {
    "colab": {
      "provenance": [],
      "authorship_tag": "ABX9TyPk0vR2tvuMsynZ6juXnlDm",
      "include_colab_link": true
    },
    "kernelspec": {
      "name": "python3",
      "display_name": "Python 3"
    },
    "language_info": {
      "name": "python"
    }
  },
  "cells": [
    {
      "cell_type": "markdown",
      "metadata": {
        "id": "view-in-github",
        "colab_type": "text"
      },
      "source": [
        "<a href=\"https://colab.research.google.com/github/LaraAyrolla/Python-Projects/blob/main/simple-lists/Python-List-4.ipynb\" target=\"_parent\"><img src=\"https://colab.research.google.com/assets/colab-badge.svg\" alt=\"Open In Colab\"/></a>"
      ]
    },
    {
      "cell_type": "markdown",
      "source": [
        "**Programação de Soluções Computacionais**\n",
        "\n",
        "\n",
        "4ª LISTA DE EXERCÍCIOS - PYTHON"
      ],
      "metadata": {
        "id": "NnTNS831quES"
      }
    },
    {
      "cell_type": "code",
      "source": [
        "# 1\n",
        "# Escreva uma função que receba uma lista de strings como argumento e\n",
        "# retorne uma nova lista contendo apenas as strings que começam com a letra \"a\".\n",
        "\n",
        "def strings_starting_with_a(text):\n",
        "  accepted_beginnings = [\"a\", \"ã\", \"á\", \"â\", \"A\", \"Ã\", \"Á\", \"Â\"]\n",
        "  new_list = []\n",
        "  for i in range(len(list)):\n",
        "    if list[i][0] in accepted_beginnings:\n",
        "      new_list.append(list[i])\n",
        "  return new_list\n",
        "\n",
        "n = int(input(\"Insira o número de strings: \"))\n",
        "\n",
        "list = []\n",
        "for i in range(0, n):\n",
        "    list.append(input(\"String {0}: \".format(i+1)))\n",
        "\n",
        "print(\"\\nStrings que começam com a letra 'a':\\n\")\n",
        "\n",
        "new_list = strings_starting_with_a(list)\n",
        "\n",
        "for item in new_list:\n",
        "  print(item)"
      ],
      "metadata": {
        "colab": {
          "base_uri": "https://localhost:8080/"
        },
        "id": "oLznOwhI4tse",
        "outputId": "8edd10dc-cc0e-4e40-b0cb-dd9da0ec3040"
      },
      "execution_count": null,
      "outputs": [
        {
          "output_type": "stream",
          "name": "stdout",
          "text": [
            "Insira o número de strings: 10\n",
            "String 1: ácido\n",
            "String 2: Ânimo\n",
            "String 3: Acerola\n",
            "String 4: acetona\n",
            "String 5: batata\n",
            "String 6: maçã\n",
            "String 7: computador\n",
            "String 8: Ávido\n",
            "String 9: ânsia\n",
            "String 10: Purê\n",
            "\n",
            "Strings que começam com a letra 'a':\n",
            "\n",
            "ácido\n",
            "Ânimo\n",
            "Acerola\n",
            "acetona\n",
            "Ávido\n",
            "ânsia\n"
          ]
        }
      ]
    },
    {
      "cell_type": "code",
      "source": [
        "# 2\n",
        "# Escreva uma função que receba uma lista de números como argumento\n",
        "# e retorne o maior número da lista.\n",
        "\n",
        "def biggest_number(numbers):\n",
        "  biggest_number = numbers[0]\n",
        "  for i in range(1, len(numbers)):\n",
        "    if numbers[i] > biggest_number:\n",
        "      biggest_number = numbers[i]\n",
        "  return biggest_number\n",
        "\n",
        "n = int(input(\"Insira a quantidade de números: \"))\n",
        "\n",
        "numbers = []\n",
        "for i in range(0, n):\n",
        "    numbers.append(float(input(\"Número {0}: \".format(i+1))))\n",
        "\n",
        "print(\"\\nO maior número da lista é {0}\".format(biggest_number(numbers)))"
      ],
      "metadata": {
        "colab": {
          "base_uri": "https://localhost:8080/"
        },
        "id": "9tshSqQU6PIB",
        "outputId": "3be65516-bf6a-418e-e7ce-ad377fe17b72"
      },
      "execution_count": null,
      "outputs": [
        {
          "output_type": "stream",
          "name": "stdout",
          "text": [
            "Insira a quantidade de números: 5\n",
            "Número 1: 4\n",
            "Número 2: 9\n",
            "Número 3: 3\n",
            "Número 4: 2\n",
            "Número 5: 6\n",
            "\n",
            "O maior número da lista é 9.0\n"
          ]
        }
      ]
    },
    {
      "cell_type": "code",
      "source": [
        "# 3\n",
        "# Escreva uma função que recebe uma lista de números como parâmetro\n",
        "# e retorna a soma total dos elementos da lista\n",
        "\n",
        "def list_sum(numbers):\n",
        "  sum = numbers[0]\n",
        "  for i in range(1, len(numbers)):\n",
        "    sum += numbers[i]\n",
        "  return sum\n",
        "\n",
        "n = int(input(\"Insira a quantidade de números: \"))\n",
        "\n",
        "numbers = []\n",
        "for i in range(0, n):\n",
        "    numbers.append(float(input(\"Número {0}: \".format(i+1))))\n",
        "\n",
        "print(\"\\nA soma total dos elementos da lista é {0}\".format(list_sum(numbers)))"
      ],
      "metadata": {
        "colab": {
          "base_uri": "https://localhost:8080/"
        },
        "id": "YB_u-LkQ6yiY",
        "outputId": "ddc6e707-1121-4f2d-8119-b133633b0aad"
      },
      "execution_count": null,
      "outputs": [
        {
          "output_type": "stream",
          "name": "stdout",
          "text": [
            "Insira a quantidade de números: 5\n",
            "Número 1: 4\n",
            "Número 2: -9\n",
            "Número 3: 3\n",
            "Número 4: -2\n",
            "Número 5: 6\n",
            "\n",
            "A soma total dos elementos da lista é 2.0\n"
          ]
        }
      ]
    },
    {
      "cell_type": "code",
      "source": [
        "# 4\n",
        "# Escreva uma função que recebe uma lista de números como parâmetro\n",
        "# e retorna o produto total dos elementos da lista\n",
        "\n",
        "def list_multiplication(numbers):\n",
        "  multiplication = numbers[0]\n",
        "  for i in range(1, len(numbers)):\n",
        "    multiplication *= numbers[i]\n",
        "  return multiplication\n",
        "\n",
        "n = int(input(\"Insira a quantidade de números: \"))\n",
        "\n",
        "numbers = []\n",
        "for i in range(0, n):\n",
        "    numbers.append(float(input(\"Número {0}: \".format(i+1))))\n",
        "\n",
        "print(\"\\nA produto dos elementos da lista é {0}\".format(list_multiplication(numbers)))"
      ],
      "metadata": {
        "colab": {
          "base_uri": "https://localhost:8080/"
        },
        "id": "Ax4vru-eCNFs",
        "outputId": "b2416151-94d5-4ea7-ebe4-50eb71572d70"
      },
      "execution_count": null,
      "outputs": [
        {
          "output_type": "stream",
          "name": "stdout",
          "text": [
            "Insira a quantidade de números: 4\n",
            "Número 1: 8\n",
            "Número 2: 0\n",
            "Número 3: 2\n",
            "Número 4: 3\n",
            "\n",
            "A produto dos elementos da lista é 0.0\n"
          ]
        }
      ]
    },
    {
      "cell_type": "code",
      "source": [
        "# 5\n",
        "# Escreva uma função que recebe uma lista de números como parâmetro\n",
        "# e retorna outra lista apenas com os números pares\n",
        "\n",
        "def even_numbers(numbers):\n",
        "  new_list = []\n",
        "  for i in range(len(numbers)):\n",
        "    if numbers[i] % 2 == 0:\n",
        "      new_list.append(numbers[i])\n",
        "  return new_list\n",
        "\n",
        "n = int(input(\"Insira a quantidade de números: \"))\n",
        "\n",
        "numbers = []\n",
        "for i in range(0, n):\n",
        "    numbers.append(float(input(\"Número {0}: \".format(i+1))))\n",
        "\n",
        "even_numbers_list = even_numbers(numbers)\n",
        "\n",
        "print(\"\\nOs números pares da lista são:\\n\")\n",
        "for number in even_numbers_list:\n",
        "  print(number)"
      ],
      "metadata": {
        "colab": {
          "base_uri": "https://localhost:8080/"
        },
        "id": "aGEFOvxYEFMd",
        "outputId": "a060218b-d174-4758-b067-e38ba0255902"
      },
      "execution_count": null,
      "outputs": [
        {
          "output_type": "stream",
          "name": "stdout",
          "text": [
            "Insira a quantidade de números: 5\n",
            "Número 1: 2\n",
            "Número 2: 3\n",
            "Número 3: 4\n",
            "Número 4: -12\n",
            "Número 5: 5\n",
            "\n",
            "Os números pares da lista são:\n",
            "\n",
            "2.0\n",
            "4.0\n",
            "-12.0\n"
          ]
        }
      ]
    },
    {
      "cell_type": "code",
      "source": [
        "# 6\n",
        "# Escreva uma função que recebe uma string como parâmetro\n",
        "# e retorna outra string onde substitui as vogais por x\n",
        "\n",
        "import unicodedata\n",
        "\n",
        "def x_instead_of_vowels(text):\n",
        "  vowels = [\"a\", \"A\", \"e\", \"E\", \"i\", \"I\", \"o\", \"O\", \"u\", \"U\"]\n",
        "  for i in range(len(text)):\n",
        "    if text[i] in vowels:\n",
        "      text = text[:i] + \"x\" + text[i + 1:]\n",
        "  return text\n",
        "\n",
        "text = input(\"Insira um texto: \")\n",
        "text = unicodedata.normalize('NFD', text).encode('ascii', 'ignore').decode(\"utf-8\")\n",
        "\n",
        "new_text = x_instead_of_vowels(text)\n",
        "\n",
        "print(\"\\nLetra 'x' no lugar das vogais:\\n\")\n",
        "print(new_text)"
      ],
      "metadata": {
        "colab": {
          "base_uri": "https://localhost:8080/"
        },
        "id": "Bmp0OX5mF5OH",
        "outputId": "48cc8795-a40c-4485-b183-6e99dbe308fb"
      },
      "execution_count": null,
      "outputs": [
        {
          "output_type": "stream",
          "name": "stdout",
          "text": [
            "Insira um texto: Ciência de dados\n",
            "\n",
            "Letra 'x' no lugar das vogais:\n",
            "\n",
            "Cxxncxx dx dxdxs\n"
          ]
        }
      ]
    },
    {
      "cell_type": "code",
      "source": [
        "# 7\n",
        "# Definir uma função que testa um caracter e retorna se é vogal ou não\n",
        "\n",
        "def is_vowel(character):\n",
        "  vowels = [\"a\", \"e\", \"i\", \"o\", \"u\"]\n",
        "  return (unicodedata.normalize('NFD', character).encode('ascii', 'ignore').decode(\"utf-8\")).lower() in vowels\n",
        "\n",
        "character = (input(\"Insira um caracter: \")[0])\n",
        "\n",
        "if is_vowel(character):\n",
        "  print(\"\\nO caracter é uma vogal\")\n",
        "else:\n",
        "  print(\"\\nO caracter não é uma vogal\")"
      ],
      "metadata": {
        "colab": {
          "base_uri": "https://localhost:8080/"
        },
        "id": "oVmnejj7IGq-",
        "outputId": "189376d1-3373-496a-982e-8fb0941f1312"
      },
      "execution_count": null,
      "outputs": [
        {
          "output_type": "stream",
          "name": "stdout",
          "text": [
            "Insira um caracter: Á\n",
            "\n",
            "O caracter é uma vogal\n"
          ]
        }
      ]
    },
    {
      "cell_type": "code",
      "source": [
        "# 8\n",
        "# Reescreva o exercício 6 usando a função reduce\n",
        "# e a função definida no exercício anterior\n",
        "\n",
        "import functools\n",
        "\n",
        "def x_instead_of_vowels_with_reduce(text):\n",
        "  def consonant_or_x(character):\n",
        "    if is_vowel(character):\n",
        "      return \"x\"\n",
        "    else:\n",
        "      return character\n",
        "  text = functools.reduce(lambda acc, character: acc + consonant_or_x(character), text)\n",
        "  return text\n",
        "\n",
        "text = input(\"Insira um texto: \")\n",
        "\n",
        "new_text = x_instead_of_vowels_with_reduce(text)\n",
        "\n",
        "print(\"\\nLetra 'x' no lugar das vogais:\\n\")\n",
        "print(new_text)"
      ],
      "metadata": {
        "colab": {
          "base_uri": "https://localhost:8080/"
        },
        "id": "7C-RTlBuIVCt",
        "outputId": "11b8ae34-20bf-4cfc-c1f8-dc26621e84e3"
      },
      "execution_count": null,
      "outputs": [
        {
          "output_type": "stream",
          "name": "stdout",
          "text": [
            "Insira um texto: Ciência de dados\n",
            "\n",
            "Letra 'x' no lugar das vogais:\n",
            "\n",
            "Cxxncxx dx dxdxs\n"
          ]
        }
      ]
    },
    {
      "cell_type": "code",
      "source": [
        "# 9\n",
        "# Crie uma função para percorrer uma string informando\n",
        "# se o caracter é acentuado ou não\n",
        "\n",
        "def is_character_in_string_accentuated(text):\n",
        "  for character in text:\n",
        "    if (unicodedata.normalize('NFD', character).encode('ascii', 'ignore').decode(\"utf-8\")) == character:\n",
        "      print(\"'{0}' não é acentuado\".format(character))\n",
        "    else:\n",
        "      print(\"'{0}' é acentuado\".format(character))\n",
        "\n",
        "text = input(\"Insira um texto: \")\n",
        "\n",
        "print(\"\\n\")\n",
        "is_character_in_string_accentuated(text)"
      ],
      "metadata": {
        "colab": {
          "base_uri": "https://localhost:8080/"
        },
        "id": "eBIemxrxrLqo",
        "outputId": "4e57d816-33d9-4e8f-fabf-d399ac505c2a"
      },
      "execution_count": null,
      "outputs": [
        {
          "output_type": "stream",
          "name": "stdout",
          "text": [
            "Insira um texto: Ciência\n",
            "\n",
            "\n",
            "'C' não é acentuado\n",
            "'i' não é acentuado\n",
            "'ê' é acentuado\n",
            "'n' não é acentuado\n",
            "'c' não é acentuado\n",
            "'i' não é acentuado\n",
            "'a' não é acentuado\n"
          ]
        }
      ]
    }
  ]
}