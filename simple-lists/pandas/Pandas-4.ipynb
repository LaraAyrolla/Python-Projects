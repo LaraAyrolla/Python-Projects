{
  "nbformat": 4,
  "nbformat_minor": 0,
  "metadata": {
    "colab": {
      "provenance": [],
      "authorship_tag": "ABX9TyPpczcc6UyNlyXDYjrjSGKc",
      "include_colab_link": true
    },
    "kernelspec": {
      "name": "python3",
      "display_name": "Python 3"
    },
    "language_info": {
      "name": "python"
    }
  },
  "cells": [
    {
      "cell_type": "markdown",
      "metadata": {
        "id": "view-in-github",
        "colab_type": "text"
      },
      "source": [
        "<a href=\"https://colab.research.google.com/github/LaraAyrolla/Python-Projects/blob/main/simple-lists/pandas/Pandas-5.ipynb\" target=\"_parent\"><img src=\"https://colab.research.google.com/assets/colab-badge.svg\" alt=\"Open In Colab\"/></a>"
      ]
    },
    {
      "cell_type": "markdown",
      "source": [
        "## **Trabalhando com o SQLite e Pandas** - Exercício 1\n",
        "\n",
        "##### **Aluna: Lara Luísa Ayrolla Abreu**"
      ],
      "metadata": {
        "id": "fHlklOanbKaR"
      }
    },
    {
      "cell_type": "code",
      "source": [
        "import pandas as pd\n",
        "import sqlite3"
      ],
      "metadata": {
        "id": "MdRr98WbbD4p"
      },
      "execution_count": null,
      "outputs": []
    },
    {
      "cell_type": "code",
      "source": [
        "# Implemente um código Python para:\n",
        "# Criar um banco de dados, DBProdutos.db\n",
        "\n",
        "conexao = sqlite3.connect('DBProdutos.db')"
      ],
      "metadata": {
        "id": "oUMps78Kc2T7"
      },
      "execution_count": null,
      "outputs": []
    },
    {
      "cell_type": "code",
      "source": [
        "# Criar a tabela produto, com os seguintes campos:\n",
        "# - idProduto: integer\n",
        "# - nome: varchar(100)\n",
        "# - preco: numeric\n",
        "\n",
        "cursor = conexao.cursor()\n",
        "\n",
        "sql = 'create table produto('\\\n",
        "'idProduto integer primary key autoincrement,'\\\n",
        "'nome varchar(100) not null,'\\\n",
        "'preco float)'\n",
        "\n",
        "cursor.execute(sql)"
      ],
      "metadata": {
        "id": "RXgVmLWEdhHH",
        "colab": {
          "base_uri": "https://localhost:8080/"
        },
        "outputId": "982e12aa-375e-4862-83b2-268162faa9ad"
      },
      "execution_count": null,
      "outputs": [
        {
          "output_type": "execute_result",
          "data": {
            "text/plain": [
              "<sqlite3.Cursor at 0x7fcbb7539ab0>"
            ]
          },
          "metadata": {},
          "execution_count": 155
        }
      ]
    },
    {
      "cell_type": "code",
      "source": [
        "# Inserir 6 linhas na tabela produto, com os dados definidos por você\n",
        "\n",
        "sql = 'insert into produto (nome, preco) values(?,?)'\n",
        "\n",
        "produtos = [['Nuggets','14'],['Iscas','17'],['Bolinha','55'],['Pipoca','3'],['Arroz','8']]\n",
        "\n",
        "for produto in produtos:\n",
        "    cursor.execute(sql, produto)\n",
        "    print(produto)\n",
        "\n",
        "conexao.commit()"
      ],
      "metadata": {
        "id": "nXfbti0G2sF8",
        "colab": {
          "base_uri": "https://localhost:8080/"
        },
        "outputId": "e6a7684c-9908-49df-d473-23a6f83eed31"
      },
      "execution_count": null,
      "outputs": [
        {
          "output_type": "stream",
          "name": "stdout",
          "text": [
            "['Nuggets', '14']\n",
            "['Iscas', '17']\n",
            "['Bolinha', '55']\n",
            "['Pipoca', '3']\n",
            "['Arroz', '8']\n"
          ]
        }
      ]
    },
    {
      "cell_type": "code",
      "source": [
        "# Inserir uma nova linha contendo somente o idProduto e o nome (o preço do produto será NULL)\n",
        "\n",
        "sql = 'insert into produto (nome) values(?)'\n",
        "cursor.execute(sql, ['Pastel'])\n",
        "conexao.commit()"
      ],
      "metadata": {
        "id": "n2kcB1t42woR"
      },
      "execution_count": null,
      "outputs": []
    },
    {
      "cell_type": "code",
      "source": [
        "# Executar uma instrução SQL para:\n",
        "# - Reajustar o preço de todos os produtos em 20%\n",
        "\n",
        "sql = 'update produto set preco = preco*1.20'\n",
        "cursor.execute(sql)\n",
        "conexao.commit()"
      ],
      "metadata": {
        "id": "T6EM_WnQ2zk0"
      },
      "execution_count": null,
      "outputs": []
    },
    {
      "cell_type": "code",
      "source": [
        "# - Excluir do banco de dados um produto qualquer\n",
        "\n",
        "sql = 'delete from produto where nome = \\'Arroz\\''\n",
        "cursor.execute(sql)\n",
        "conexao.commit()"
      ],
      "metadata": {
        "id": "nAREA4kX23l5"
      },
      "execution_count": null,
      "outputs": []
    },
    {
      "cell_type": "code",
      "source": [
        "# - Listar todos os dados dos produtos cujo preço seja maior ou igual a R$ 50,00\n",
        "\n",
        "sql = 'select * from produto where preco >= 50'\n",
        "produtos = cursor.execute(sql)\n",
        "\n",
        "for produto in produtos:\n",
        "    print(produto)"
      ],
      "metadata": {
        "id": "K0vJTa4z26Kz",
        "colab": {
          "base_uri": "https://localhost:8080/"
        },
        "outputId": "d6a3cf35-cd91-4b2b-e0ba-952c0cc3abe8"
      },
      "execution_count": null,
      "outputs": [
        {
          "output_type": "stream",
          "name": "stdout",
          "text": [
            "(3, 'Bolinha', 66.0)\n"
          ]
        }
      ]
    },
    {
      "cell_type": "code",
      "source": [
        "# - Listar a média dos preços, o maior e o menor preço\n",
        "# Obs.: a listagem deve ser feita exibindo os dados em forma de lista\n",
        "\n",
        "sql = 'select AVG(preco), MAX(preco), MIN(preco) from produto'\n",
        "metricasPrecos = cursor.execute(sql)\n",
        "\n",
        "listaPrecos = list(metricasPrecos)\n",
        "print(listaPrecos)"
      ],
      "metadata": {
        "id": "MqTFSMTU29AV",
        "colab": {
          "base_uri": "https://localhost:8080/"
        },
        "outputId": "e441150f-9424-40ac-9ec7-48d56474b8f9"
      },
      "execution_count": null,
      "outputs": [
        {
          "output_type": "stream",
          "name": "stdout",
          "text": [
            "[(26.7, 66.0, 3.5999999999999996)]\n"
          ]
        }
      ]
    },
    {
      "cell_type": "code",
      "source": [
        "# Criar, no banco de dados DBProdutos, uma tabela chamada listaProdutos, contendo somente as\n",
        "# colunas nome e preco.\n",
        "\n",
        "sql = 'create table listaProdutos('\\\n",
        "'nome varchar(100) not null,'\\\n",
        "'preco float)'\n",
        "\n",
        "cursor.execute(sql)"
      ],
      "metadata": {
        "id": "OV6J6dA03A7y",
        "colab": {
          "base_uri": "https://localhost:8080/"
        },
        "outputId": "de44f851-62ab-41a5-a99e-fddb21b6e492"
      },
      "execution_count": null,
      "outputs": [
        {
          "output_type": "execute_result",
          "data": {
            "text/plain": [
              "<sqlite3.Cursor at 0x7fcbb7539ab0>"
            ]
          },
          "metadata": {},
          "execution_count": 162
        }
      ]
    },
    {
      "cell_type": "code",
      "source": [
        "# Inserir nesta tabela os produtos, da tabela produto, cujo código seja menor ou igual a 4.\n",
        "# Inserir os dados através de comandos SQL insert\n",
        "\n",
        "sql = 'insert into listaProdutos (nome, preco)'\\\n",
        "'select nome, preco from produto WHERE idProduto <= 4'\n",
        "\n",
        "cursor.execute(sql)\n",
        "conexao.commit()"
      ],
      "metadata": {
        "id": "-5wWraXZ3J8m"
      },
      "execution_count": null,
      "outputs": []
    },
    {
      "cell_type": "code",
      "source": [
        "# Executar uma consulta SQL que exiba todos os dados da tabela listaProdutos.\n",
        "\n",
        "sql = 'select * from listaProdutos'\n",
        "listaProdutos = cursor.execute(sql)\n",
        "\n",
        "for produto in listaProdutos:\n",
        "    print(produto)"
      ],
      "metadata": {
        "id": "ceX-W6RB3QTs",
        "colab": {
          "base_uri": "https://localhost:8080/"
        },
        "outputId": "940b100b-b3f7-4827-f188-e0ba36921e7f"
      },
      "execution_count": null,
      "outputs": [
        {
          "output_type": "stream",
          "name": "stdout",
          "text": [
            "('Nuggets', 16.8)\n",
            "('Iscas', 20.4)\n",
            "('Bolinha', 66.0)\n",
            "('Pipoca', 3.5999999999999996)\n"
          ]
        }
      ]
    },
    {
      "cell_type": "code",
      "source": [
        "# Carregar os dados da tabela listaProdutos para um dataframe Pandas, e exibir os dados do\n",
        "# dataframe.\n",
        "\n",
        "df = pd.read_sql_query(\"SELECT * from listaProdutos\", conexao)\n",
        "\n",
        "df"
      ],
      "metadata": {
        "id": "cDaCyPyy3X7I",
        "colab": {
          "base_uri": "https://localhost:8080/",
          "height": 175
        },
        "outputId": "da7fe944-a030-4799-ab3a-43e75093e479"
      },
      "execution_count": null,
      "outputs": [
        {
          "output_type": "execute_result",
          "data": {
            "text/plain": [
              "      nome  preco\n",
              "0  Nuggets   16.8\n",
              "1    Iscas   20.4\n",
              "2  Bolinha   66.0\n",
              "3   Pipoca    3.6"
            ],
            "text/html": [
              "\n",
              "  <div id=\"df-26d6ea7b-0ab0-4a07-a4b6-cb327111af7a\">\n",
              "    <div class=\"colab-df-container\">\n",
              "      <div>\n",
              "<style scoped>\n",
              "    .dataframe tbody tr th:only-of-type {\n",
              "        vertical-align: middle;\n",
              "    }\n",
              "\n",
              "    .dataframe tbody tr th {\n",
              "        vertical-align: top;\n",
              "    }\n",
              "\n",
              "    .dataframe thead th {\n",
              "        text-align: right;\n",
              "    }\n",
              "</style>\n",
              "<table border=\"1\" class=\"dataframe\">\n",
              "  <thead>\n",
              "    <tr style=\"text-align: right;\">\n",
              "      <th></th>\n",
              "      <th>nome</th>\n",
              "      <th>preco</th>\n",
              "    </tr>\n",
              "  </thead>\n",
              "  <tbody>\n",
              "    <tr>\n",
              "      <th>0</th>\n",
              "      <td>Nuggets</td>\n",
              "      <td>16.8</td>\n",
              "    </tr>\n",
              "    <tr>\n",
              "      <th>1</th>\n",
              "      <td>Iscas</td>\n",
              "      <td>20.4</td>\n",
              "    </tr>\n",
              "    <tr>\n",
              "      <th>2</th>\n",
              "      <td>Bolinha</td>\n",
              "      <td>66.0</td>\n",
              "    </tr>\n",
              "    <tr>\n",
              "      <th>3</th>\n",
              "      <td>Pipoca</td>\n",
              "      <td>3.6</td>\n",
              "    </tr>\n",
              "  </tbody>\n",
              "</table>\n",
              "</div>\n",
              "      <button class=\"colab-df-convert\" onclick=\"convertToInteractive('df-26d6ea7b-0ab0-4a07-a4b6-cb327111af7a')\"\n",
              "              title=\"Convert this dataframe to an interactive table.\"\n",
              "              style=\"display:none;\">\n",
              "        \n",
              "  <svg xmlns=\"http://www.w3.org/2000/svg\" height=\"24px\"viewBox=\"0 0 24 24\"\n",
              "       width=\"24px\">\n",
              "    <path d=\"M0 0h24v24H0V0z\" fill=\"none\"/>\n",
              "    <path d=\"M18.56 5.44l.94 2.06.94-2.06 2.06-.94-2.06-.94-.94-2.06-.94 2.06-2.06.94zm-11 1L8.5 8.5l.94-2.06 2.06-.94-2.06-.94L8.5 2.5l-.94 2.06-2.06.94zm10 10l.94 2.06.94-2.06 2.06-.94-2.06-.94-.94-2.06-.94 2.06-2.06.94z\"/><path d=\"M17.41 7.96l-1.37-1.37c-.4-.4-.92-.59-1.43-.59-.52 0-1.04.2-1.43.59L10.3 9.45l-7.72 7.72c-.78.78-.78 2.05 0 2.83L4 21.41c.39.39.9.59 1.41.59.51 0 1.02-.2 1.41-.59l7.78-7.78 2.81-2.81c.8-.78.8-2.07 0-2.86zM5.41 20L4 18.59l7.72-7.72 1.47 1.35L5.41 20z\"/>\n",
              "  </svg>\n",
              "      </button>\n",
              "      \n",
              "  <style>\n",
              "    .colab-df-container {\n",
              "      display:flex;\n",
              "      flex-wrap:wrap;\n",
              "      gap: 12px;\n",
              "    }\n",
              "\n",
              "    .colab-df-convert {\n",
              "      background-color: #E8F0FE;\n",
              "      border: none;\n",
              "      border-radius: 50%;\n",
              "      cursor: pointer;\n",
              "      display: none;\n",
              "      fill: #1967D2;\n",
              "      height: 32px;\n",
              "      padding: 0 0 0 0;\n",
              "      width: 32px;\n",
              "    }\n",
              "\n",
              "    .colab-df-convert:hover {\n",
              "      background-color: #E2EBFA;\n",
              "      box-shadow: 0px 1px 2px rgba(60, 64, 67, 0.3), 0px 1px 3px 1px rgba(60, 64, 67, 0.15);\n",
              "      fill: #174EA6;\n",
              "    }\n",
              "\n",
              "    [theme=dark] .colab-df-convert {\n",
              "      background-color: #3B4455;\n",
              "      fill: #D2E3FC;\n",
              "    }\n",
              "\n",
              "    [theme=dark] .colab-df-convert:hover {\n",
              "      background-color: #434B5C;\n",
              "      box-shadow: 0px 1px 3px 1px rgba(0, 0, 0, 0.15);\n",
              "      filter: drop-shadow(0px 1px 2px rgba(0, 0, 0, 0.3));\n",
              "      fill: #FFFFFF;\n",
              "    }\n",
              "  </style>\n",
              "\n",
              "      <script>\n",
              "        const buttonEl =\n",
              "          document.querySelector('#df-26d6ea7b-0ab0-4a07-a4b6-cb327111af7a button.colab-df-convert');\n",
              "        buttonEl.style.display =\n",
              "          google.colab.kernel.accessAllowed ? 'block' : 'none';\n",
              "\n",
              "        async function convertToInteractive(key) {\n",
              "          const element = document.querySelector('#df-26d6ea7b-0ab0-4a07-a4b6-cb327111af7a');\n",
              "          const dataTable =\n",
              "            await google.colab.kernel.invokeFunction('convertToInteractive',\n",
              "                                                     [key], {});\n",
              "          if (!dataTable) return;\n",
              "\n",
              "          const docLinkHtml = 'Like what you see? Visit the ' +\n",
              "            '<a target=\"_blank\" href=https://colab.research.google.com/notebooks/data_table.ipynb>data table notebook</a>'\n",
              "            + ' to learn more about interactive tables.';\n",
              "          element.innerHTML = '';\n",
              "          dataTable['output_type'] = 'display_data';\n",
              "          await google.colab.output.renderOutput(dataTable, element);\n",
              "          const docLink = document.createElement('div');\n",
              "          docLink.innerHTML = docLinkHtml;\n",
              "          element.appendChild(docLink);\n",
              "        }\n",
              "      </script>\n",
              "    </div>\n",
              "  </div>\n",
              "  "
            ]
          },
          "metadata": {},
          "execution_count": 167
        }
      ]
    },
    {
      "cell_type": "code",
      "source": [
        "# Realizar o download do banco de dados DBProdutos.db e abri-lo no site www.sqliteonline.com\n"
      ],
      "metadata": {
        "id": "kn6InHZO3a87"
      },
      "execution_count": null,
      "outputs": []
    },
    {
      "cell_type": "markdown",
      "source": [
        ".\n",
        "\n",
        ".\n",
        "\n",
        ".\n",
        "\n",
        ".\n",
        "\n",
        ".\n",
        "\n",
        ".\n",
        "\n",
        ".\n",
        "\n",
        ".\n",
        "\n",
        ".\n",
        "\n",
        ".\n",
        "\n",
        ".\n",
        "\n",
        ".\n",
        "\n",
        ".\n",
        "\n",
        ".\n",
        "\n",
        ".\n",
        "\n",
        ".\n",
        "\n",
        ".\n",
        "\n",
        ".\n",
        "\n",
        ".\n",
        "\n",
        ".\n",
        "\n",
        ".\n",
        "\n",
        ".\n",
        "\n",
        ".\n",
        "\n",
        ".\n",
        "\n",
        ".\n",
        "\n"
      ],
      "metadata": {
        "id": "kMfogB93vTM2"
      }
    }
  ]
}
