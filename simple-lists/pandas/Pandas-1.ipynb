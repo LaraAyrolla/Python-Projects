{
  "nbformat": 4,
  "nbformat_minor": 0,
  "metadata": {
    "colab": {
      "provenance": [],
      "authorship_tag": "ABX9TyO74bmlBHPUGTHwdJNZLhXN",
      "include_colab_link": true
    },
    "kernelspec": {
      "name": "python3",
      "display_name": "Python 3"
    },
    "language_info": {
      "name": "python"
    }
  },
  "cells": [
    {
      "cell_type": "markdown",
      "metadata": {
        "id": "view-in-github",
        "colab_type": "text"
      },
      "source": [
        "<a href=\"https://colab.research.google.com/github/LaraAyrolla/Python-Projects/blob/main/simple-lists/pandas/Pandas-1.ipynb\" target=\"_parent\"><img src=\"https://colab.research.google.com/assets/colab-badge.svg\" alt=\"Open In Colab\"/></a>"
      ]
    },
    {
      "cell_type": "markdown",
      "source": [
        "**INTELIGÊNCIA ARTIFICIAL - 27/02/2023**"
      ],
      "metadata": {
        "id": "1gSp-48n_I3e"
      }
    },
    {
      "cell_type": "code",
      "source": [
        "# QUESTÃO 1 - Abra o arquivo precodecasas.csv #\n",
        "\n",
        "import pandas as pd\n",
        "\n",
        "url = '/content/Precodecasa.csv'\n",
        "df = pd.read_csv(url, sep=';')\n"
      ],
      "metadata": {
        "id": "7NHYS_52-b7n"
      },
      "execution_count": null,
      "outputs": []
    },
    {
      "cell_type": "code",
      "source": [
        "# QUESTÃO 2 - Liste-o #\n",
        "\n",
        "import pandas as pd\n",
        "\n",
        "url = '/content/Precodecasa.csv'\n",
        "df = pd.read_csv(url, sep=';')\n",
        "\n",
        "df"
      ],
      "metadata": {
        "id": "XvArLNPK-odk"
      },
      "execution_count": null,
      "outputs": []
    },
    {
      "cell_type": "code",
      "execution_count": null,
      "metadata": {
        "id": "8sN_L17rbi1v"
      },
      "outputs": [],
      "source": [
        "# QUESTÃO 3 - a) Quantidade de linhas e de colunas #\n",
        "\n",
        "import pandas as pd\n",
        "\n",
        "url = '/content/Precodecasa.csv'\n",
        "df = pd.read_csv(url, sep=';')\n",
        "\n",
        "rows = df.shape[0]\n",
        "columns = df.shape[1]\n",
        "print(\"{0} linhas e {1} colunas\".format(rows, columns))"
      ]
    },
    {
      "cell_type": "code",
      "source": [
        "# QUESTÃO 3 - b) 10 últimas linhas do arquivo #\n",
        "\n",
        "import pandas as pd\n",
        "\n",
        "url = '/content/Precodecasa.csv'\n",
        "df = pd.read_csv(url, sep=';')\n",
        "\n",
        "df.tail(10)"
      ],
      "metadata": {
        "id": "PGqB9RiAcI8R"
      },
      "execution_count": null,
      "outputs": []
    },
    {
      "cell_type": "code",
      "source": [
        "# QUESTÃO 3 - c) Qual o formato do arquivo?\n",
        "# Tem cabeçalho?\n",
        "# Se não tivesse cabeçalho, como você faria?\n",
        "# É separado por vírgula?\n",
        "# Cite o tipo de dados da data, do preço e da quantidade de banheiros.\n",
        "\n",
        "import pandas as pd\n",
        "url = '/content/Precodecasa.csv'\n",
        "\n",
        "# Formato do arquivo = csv (comma separated values).\n",
        "\n",
        "# Sim, tem cabeçalho.\n",
        "\n",
        "# Se não tivesse cabeçalho, leria o arquivo da seguinte maneira:\n",
        "df = pd.read_csv(url, sep=';', header=None)\n",
        "\n",
        "# Não é separado por vírgula, o arquivo é separado por ponto e vírgula (;).\n",
        "\n",
        "# O tipo de dados da data é 'object', do preço é 'int64' e da quantidade de banheiros é 'float64'.\n",
        "# Pude checar esses valores utilizando o seguinte código:\n",
        "df = pd.read_csv(url, sep=';')\n",
        "df.dtypes"
      ],
      "metadata": {
        "id": "JQdNL0jd_aKF"
      },
      "execution_count": null,
      "outputs": []
    },
    {
      "cell_type": "code",
      "source": [
        "# QUESTÃO 3 - d) Qual a média de quartos? #\n",
        "\n",
        "import pandas as pd\n",
        "\n",
        "url = '/content/Precodecasa.csv'\n",
        "df = pd.read_csv(url, sep=';')\n",
        "\n",
        "sum = df['bedrooms'].sum()\n",
        "rows = df.shape[0]\n",
        "result = sum / rows\n",
        "\n",
        "print(\"A média de quartos é {0}\".format(result))"
      ],
      "metadata": {
        "id": "eAWVSf5h_Qtg"
      },
      "execution_count": null,
      "outputs": []
    },
    {
      "cell_type": "code",
      "source": [
        "# QUESTÃO 3 - e) Qual o desvio padrão do piso? #\n",
        "\n",
        "import pandas as pd\n",
        "\n",
        "url = '/content/Precodecasa.csv'\n",
        "df = pd.read_csv(url, sep=';')\n",
        "\n",
        "deviation = df['floors'].std()\n",
        "print(\"O desvio padrão do piso é {0}\".format(deviation))"
      ],
      "metadata": {
        "id": "trXtdKPrBs5G"
      },
      "execution_count": null,
      "outputs": []
    }
  ]
}