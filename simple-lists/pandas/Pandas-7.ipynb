{
  "nbformat": 4,
  "nbformat_minor": 0,
  "metadata": {
    "colab": {
      "provenance": [],
      "authorship_tag": "ABX9TyMedNAaPaOM/VvhjeeuWKdz",
      "include_colab_link": true
    },
    "kernelspec": {
      "name": "python3",
      "display_name": "Python 3"
    },
    "language_info": {
      "name": "python"
    }
  },
  "cells": [
    {
      "cell_type": "markdown",
      "metadata": {
        "id": "view-in-github",
        "colab_type": "text"
      },
      "source": [
        "<a href=\"https://colab.research.google.com/github/LaraAyrolla/Python-Projects/blob/main/simple-lists/pandas/Pandas-7.ipynb\" target=\"_parent\"><img src=\"https://colab.research.google.com/assets/colab-badge.svg\" alt=\"Open In Colab\"/></a>"
      ]
    },
    {
      "cell_type": "markdown",
      "source": [
        "## **Trabalhando com APIs**\n",
        "\n",
        "##### **Aluna: Lara Luísa Ayrolla Abreu**"
      ],
      "metadata": {
        "id": "fHlklOanbKaR"
      }
    },
    {
      "cell_type": "code",
      "source": [
        "import requests\n",
        "import pandas as pd\n",
        "import datetime\n",
        "import matplotlib.pyplot as plt\n",
        "\n",
        "baseUrl = 'https://viacep.com.br/ws/'"
      ],
      "metadata": {
        "id": "MdRr98WbbD4p"
      },
      "execution_count": null,
      "outputs": []
    },
    {
      "cell_type": "code",
      "source": [
        "# Crie um código Python que solicite ao usuário que informe 5 CEPs.\n",
        "# Armazene os CEPs em uma lista. Em seguida, percorra a lista e,\n",
        "# para cada CEP, liste os seguintes dados (utilizando a API ViaCEP):\n",
        "\n",
        "  # CEP: CEP\n",
        "  # Logradouro: Logradouro\n",
        "  # Complemento: Complemento\n",
        "  # Bairro: Bairro\n",
        "  # Localidade: Localidade\n",
        "  # UF: UF\n",
        "\n",
        "ceps = []\n",
        "format = '/json/'\n",
        "\n",
        "for x in range(1, 6):\n",
        "  print('CEP', x)\n",
        "  ceps.append(input())\n",
        "\n",
        "for cep in ceps:\n",
        "  print()\n",
        "  res = requests.get(baseUrl + cep + format)\n",
        "  if (res.status_code == 200):\n",
        "    res_list = '[' + res.text + ']'\n",
        "    df = pd.read_json(res_list)\n",
        "    print('CEP: %s' % df.loc[0]['cep'])\n",
        "    print('Logradouro: %s' % df.loc[0]['logradouro'])\n",
        "    print('Complemento: %s' % df.loc[0]['complemento'])\n",
        "    print('Bairro: %s' % df.loc[0]['bairro'])\n",
        "    print('Localidade: %s' % df.loc[0]['localidade'])\n",
        "    print('UF: %s' % df.loc[0]['uf'])\n",
        "  else:\n",
        "    print('CEP inválido:', cep)"
      ],
      "metadata": {
        "colab": {
          "base_uri": "https://localhost:8080/"
        },
        "id": "S2dlkwzgaXmz",
        "outputId": "6d2531e6-02c0-45e1-d05e-a0e290b004fc"
      },
      "execution_count": null,
      "outputs": [
        {
          "output_type": "stream",
          "name": "stdout",
          "text": [
            "CEP 1\n",
            "30140071\n",
            "CEP 2\n",
            "blank space\n",
            "CEP 3\n",
            "30642130\n",
            "CEP 4\n",
            "shake it off\n",
            "CEP 5\n",
            "30411262\n",
            "\n",
            "CEP: 30140-071\n",
            "Logradouro: Rua dos Aimorés\n",
            "Complemento: de 971/972 a 1399/1400\n",
            "Bairro: Boa Viagem\n",
            "Localidade: Belo Horizonte\n",
            "UF: MG\n",
            "\n",
            "CEP inválido: blank space\n",
            "\n",
            "CEP: 30642-130\n",
            "Logradouro: Rua Antônio Ferreira Maia\n",
            "Complemento: \n",
            "Bairro: Santa Helena (Barreiro)\n",
            "Localidade: Belo Horizonte\n",
            "UF: MG\n",
            "\n",
            "CEP inválido: shake it off\n",
            "\n",
            "CEP: 30411-262\n",
            "Logradouro: Rua Turquesa\n",
            "Complemento: de 1201/1202 ao fim\n",
            "Bairro: Prado\n",
            "Localidade: Belo Horizonte\n",
            "UF: MG\n"
          ]
        }
      ]
    },
    {
      "cell_type": "code",
      "source": [
        "# Modifique o seguinte código para retornar a resposta da requisição\n",
        "# \"GET\" em formato XML:\n",
        "\n",
        "cep = '30140071'\n",
        "format = '/xml/'\n",
        "res = requests.get(baseUrl + cep + format)\n",
        "if (r.status_code == 200):\n",
        "  print()\n",
        "  print('XML:', res.text)\n",
        "  print()\n",
        "else:\n",
        "  print('Nao houve sucesso na requisicao.')"
      ],
      "metadata": {
        "colab": {
          "base_uri": "https://localhost:8080/"
        },
        "id": "zjE8gUbHZyw8",
        "outputId": "156bb86b-7371-430d-fcd6-a64d90398263"
      },
      "execution_count": null,
      "outputs": [
        {
          "output_type": "stream",
          "name": "stdout",
          "text": [
            "\n",
            "XML: <?xml version=\"1.0\" encoding=\"UTF-8\"?>\n",
            "<xmlcep>\n",
            "  <cep>30140-071</cep>\n",
            "  <logradouro>Rua dos AimorÃ©s</logradouro>\n",
            "  <complemento>de 971/972 a 1399/1400</complemento>\n",
            "  <bairro>Boa Viagem</bairro>\n",
            "  <localidade>Belo Horizonte</localidade>\n",
            "  <uf>MG</uf>\n",
            "  <ibge>3106200</ibge>\n",
            "  <gia></gia>\n",
            "  <ddd>31</ddd>\n",
            "  <siafi>4123</siafi>\n",
            "</xmlcep>\n",
            "\n"
          ]
        }
      ]
    },
    {
      "cell_type": "code",
      "source": [
        "# Modifique o código anterior para que a consulta seja feita com um endereço\n",
        "# (nome de rua), ao invés do CEP\n",
        "\n",
        "state = 'MG'\n",
        "city = 'Belo Horizonte'\n",
        "street = 'Avenida Perimetral Sul'\n",
        "format = '/json/'\n",
        "url = baseUrl + state + '/' + city + '/' + street + format\n",
        "\n",
        "res = requests.get(url)\n",
        "if (res.status_code == 200):\n",
        "  print()\n",
        "  print('JSON:', res.text)\n",
        "  print()\n",
        "else:\n",
        "  print('Nao houve sucesso na requisicao.')"
      ],
      "metadata": {
        "colab": {
          "base_uri": "https://localhost:8080/"
        },
        "id": "6MQs5GVTuBYP",
        "outputId": "df6be3d0-4fa8-4eb0-f110-daaa14c4ef30"
      },
      "execution_count": null,
      "outputs": [
        {
          "output_type": "stream",
          "name": "stdout",
          "text": [
            "\n",
            "JSON: [\n",
            "  {\n",
            "    \"cep\": \"31255-040\",\n",
            "    \"logradouro\": \"Avenida Perimetral Sul\",\n",
            "    \"complemento\": \"\",\n",
            "    \"bairro\": \"São Francisco\",\n",
            "    \"localidade\": \"Belo Horizonte\",\n",
            "    \"uf\": \"MG\",\n",
            "    \"ibge\": \"3106200\",\n",
            "    \"gia\": \"\",\n",
            "    \"ddd\": \"31\",\n",
            "    \"siafi\": \"4123\"\n",
            "  }\n",
            "]\n",
            "\n"
          ]
        }
      ]
    },
    {
      "cell_type": "code",
      "source": [
        "# Solicite ao usuário que informe o estado, a cidade e o nome de uma rua.\n",
        "# Realize uma consulta desses dados através da API ViaCep, e armazene o\n",
        "# resultado da consulta em um DataFrame Pandas.\n",
        "\n",
        "state = input('Digite o estado: ')\n",
        "city = input('Digite a cidade: ')\n",
        "street = input('Digite o nome da rua: ')\n",
        "format = '/json/'\n",
        "url = baseUrl + state + '/' + city + '/' + street + format\n",
        "\n",
        "res = requests.get(url)\n",
        "if (res.status_code == 200):\n",
        "  df = pd.read_json(res.text)\n",
        "else:\n",
        "  print('Nao houve sucesso na requisicao.')"
      ],
      "metadata": {
        "id": "fngdGBQYxQ6d",
        "colab": {
          "base_uri": "https://localhost:8080/"
        },
        "outputId": "d2a55362-6276-4557-fc6a-e56c6035f2a5"
      },
      "execution_count": null,
      "outputs": [
        {
          "name": "stdout",
          "output_type": "stream",
          "text": [
            "Digite o estado: MG\n",
            "Digite a cidade: Belo Horizonte\n",
            "Digite o nome da rua: Mario Werneck\n"
          ]
        }
      ]
    },
    {
      "cell_type": "code",
      "source": [
        "# Mostre em seguida o conteúdo do DataFrame criado.\n",
        "\n",
        "print(df)"
      ],
      "metadata": {
        "id": "pIKTKVOUzKBl",
        "colab": {
          "base_uri": "https://localhost:8080/"
        },
        "outputId": "83c51e02-6980-4c7f-ac55-8531550fcc46"
      },
      "execution_count": null,
      "outputs": [
        {
          "output_type": "stream",
          "name": "stdout",
          "text": [
            "         cep                       logradouro          complemento   bairro  \\\n",
            "0  30575-180  Avenida Professor Mário Werneck  de 1925/1926 ao fim  Buritis   \n",
            "1  30455-610  Avenida Professor Mário Werneck        até 1923/1924  Estoril   \n",
            "\n",
            "       localidade  uf     ibge gia  ddd  siafi  \n",
            "0  Belo Horizonte  MG  3106200       31   4123  \n",
            "1  Belo Horizonte  MG  3106200       31   4123  \n"
          ]
        }
      ]
    },
    {
      "cell_type": "code",
      "source": [
        "# Solicite ao usuário que informe o código de duas moedas.\n",
        "# Códigos possíveis em https://economia.awesomeapi.com.br/xml/available/uniq\n",
        "# Solicite também que informe uma quantidade de dias.\n",
        "# Faça uma consulta na API AwsomeAPI (https://docs.awesomeapi.com.br/api-de-moedas)\n",
        "# que retorne a cotação das duas moedas, em Reais, nos últimos dias de acordo\n",
        "# com a quantidade de dias informados.\n",
        "\n",
        "currency1 = input('Digite uma moeda: ')\n",
        "currency2 = input('Digite outra moeda: ')\n",
        "days = input('Digite a quantidade de dias: ')\n",
        "\n",
        "dateToday = datetime.date.today()\n",
        "endDate = dateToday.strftime(\"%Y%m%d\")\n",
        "\n",
        "daysTimeDelta = datetime.timedelta(days = int(days))\n",
        "startDate = dateToday - daysTimeDelta\n",
        "startDate = startDate.strftime(\"%Y%m%d\")\n",
        "\n",
        "baseUrl = 'https://economia.awesomeapi.com.br/'\n",
        "endUrl = '/' + '100' + '?start_date=' + startDate + '&end_date=' + endDate\n",
        "url = baseUrl + 'json/daily/' + currency1 + '-' + currency2 + endUrl\n",
        "\n",
        "res = requests.get(url)\n",
        "if (res.status_code == 200):\n",
        "  df = pd.read_json(res.text)\n",
        "  print('Sucesso na requisicao!')\n",
        "else:\n",
        "  print('\\nNao houve sucesso na requisicao.')\n",
        "  print('Resposta da API: %s' % res.text)"
      ],
      "metadata": {
        "id": "WdV3kvqu0Rt7",
        "colab": {
          "base_uri": "https://localhost:8080/"
        },
        "outputId": "1cb6508b-bbee-4c95-e6c1-b5bb7312068e"
      },
      "execution_count": null,
      "outputs": [
        {
          "output_type": "stream",
          "name": "stdout",
          "text": [
            "Digite uma moeda: ARS\n",
            "Digite outra moeda: BRL\n",
            "Digite a quantidade de dias: 10\n",
            "Sucesso na requisicao!\n"
          ]
        }
      ]
    },
    {
      "cell_type": "code",
      "source": [
        "print(df)"
      ],
      "metadata": {
        "id": "Pox8Bj8X7liM",
        "colab": {
          "base_uri": "https://localhost:8080/"
        },
        "outputId": "bc6e520d-a997-4fcb-edac-0524775941e5"
      },
      "execution_count": null,
      "outputs": [
        {
          "output_type": "stream",
          "name": "stdout",
          "text": [
            "  code codein                            name    high     low  varBid  \\\n",
            "0  ARS    BRL  Peso Argentino/Real Brasileiro  0.0195  0.0193  0.0000   \n",
            "1  NaN    NaN                             NaN  0.0195  0.0193  0.0000   \n",
            "2  NaN    NaN                             NaN  0.0194  0.0194  0.0000   \n",
            "3  NaN    NaN                             NaN  0.0194  0.0194  0.0000   \n",
            "4  NaN    NaN                             NaN  0.0197  0.0197  0.0000   \n",
            "5  NaN    NaN                             NaN  0.0197  0.0197  0.0000   \n",
            "6  NaN    NaN                             NaN  0.0201  0.0201  0.0000   \n",
            "7  NaN    NaN                             NaN  0.0202  0.0198 -0.0002   \n",
            "8  NaN    NaN                             NaN  0.0202  0.0201  0.0000   \n",
            "\n",
            "   pctChange     bid     ask           timestamp          create_date  \n",
            "0       0.00  0.0193  0.0194 2023-06-16 20:59:37  2023-06-16 17:59:37  \n",
            "1       0.00  0.0194  0.0194 2023-06-16 20:59:17                  NaN  \n",
            "2       0.00  0.0194  0.0194 2023-06-15 23:59:37                  NaN  \n",
            "3       0.00  0.0194  0.0194 2023-06-14 23:58:34                  NaN  \n",
            "4       0.00  0.0197  0.0197 2023-06-13 23:59:42                  NaN  \n",
            "5       0.00  0.0197  0.0197 2023-06-12 23:59:26                  NaN  \n",
            "6       0.00  0.0201  0.0202 2023-06-11 23:59:02                  NaN  \n",
            "7      -0.99  0.0199  0.0199 2023-06-09 20:59:45                  NaN  \n",
            "8       0.00  0.0201  0.0201 2023-06-08 23:59:26                  NaN  \n"
          ]
        }
      ]
    },
    {
      "cell_type": "code",
      "source": [
        "# Em seguida, plote um gráfico sobreposto, mostrando a variação da cotação\n",
        "# das duas moedas de acordo com os dados retornados pela API.\n",
        "\n",
        "xDays = []\n",
        "for x in range(1, len(df.index)+1):\n",
        "  xDays.append(x)\n",
        "\n",
        "plt.rcdefaults()\n",
        "\n",
        "plt.plot(xDays, df['high'], label = \"Altas\", marker = 'o')\n",
        "plt.plot(xDays, df['low'], label = \"Baixas\", marker = 'o')\n",
        "\n",
        "plt.title('Cotação entre as moedas ' + currency1 + ' e ' + currency2)\n",
        "plt.ylabel(\"Cotação\")\n",
        "plt.xlabel(\"Dias\")\n",
        "plt.grid()\n",
        "plt.legend();"
      ],
      "metadata": {
        "id": "AVBWQcjF0hNE",
        "colab": {
          "base_uri": "https://localhost:8080/",
          "height": 472
        },
        "outputId": "d8f455ad-1d3c-4b10-d980-a8d7b1ad2169"
      },
      "execution_count": null,
      "outputs": [
        {
          "output_type": "display_data",
          "data": {
            "text/plain": [
              "<Figure size 640x480 with 1 Axes>"
            ],
            "image/png": "[encoded data removed]"
          },
          "metadata": {}
        }
      ]
    }
  ]
}