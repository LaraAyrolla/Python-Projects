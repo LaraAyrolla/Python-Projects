{
  "nbformat": 4,
  "nbformat_minor": 0,
  "metadata": {
    "colab": {
      "provenance": [],
      "authorship_tag": "ABX9TyPaKEfIaorIytqN1nuFCweQ",
      "include_colab_link": true
    },
    "kernelspec": {
      "name": "python3",
      "display_name": "Python 3"
    },
    "language_info": {
      "name": "python"
    }
  },
  "cells": [
    {
      "cell_type": "markdown",
      "metadata": {
        "id": "view-in-github",
        "colab_type": "text"
      },
      "source": [
        "<a href=\"https://colab.research.google.com/github/LaraAyrolla/Python-Projects/blob/main/simple-lists/Python-List-3.ipynb\" target=\"_parent\"><img src=\"https://colab.research.google.com/assets/colab-badge.svg\" alt=\"Open In Colab\"/></a>"
      ]
    },
    {
      "cell_type": "markdown",
      "source": [
        "**Programação de Soluções Computacionais**\n",
        "\n",
        "\n",
        "3ª LISTA DE EXERCÍCIOS - PYTHON"
      ],
      "metadata": {
        "id": "NnTNS831quES"
      }
    },
    {
      "cell_type": "code",
      "source": [
        "# 1\n",
        "# Desenha moldura.\n",
        "# Construa uma função que desenhe um retângulo usando os caracteres '+' , '−' e '| '.\n",
        "# Esta função deve receber dois parâmetros, linhas e colunas,\n",
        "# sendo que o valor por omissão é o valor mínimo igual a 1 e o valor máximo é 20.\n",
        "# Se valores fora da faixa forem informados, eles devem ser modificados\n",
        "# para valores dentro da faixa de forma elegante.\n",
        "\n",
        "# 3\n",
        "# Desenha moldura. Construa uma função que desenhe um retângulo usando os caracteres\n",
        "# '+' , '−' e '|'. Esta função deve receber dois parâmetros, linhas e colunas,\n",
        "# sendo que o valor por omissão é o valor mínimo igual a 1 e o valor máximo é 20.\n",
        "# Se valores fora da faixa forem informados, eles devem ser modificados para valores\n",
        "# dentro da faixa de forma elegante.\n",
        "\n",
        "def make_rectangle(lines, columns):\n",
        "  def normalize_parameter_size(parameter):\n",
        "    if parameter < 1:\n",
        "      return 1\n",
        "    elif parameter > 20:\n",
        "      return 20\n",
        "    else:\n",
        "      return parameter\n",
        "\n",
        "  def print_border_line(columns):\n",
        "    print(\"+\", end=\"\")\n",
        "    for i in range(columns):\n",
        "      print(\"−\", end=\"\")\n",
        "    print(\"+\")\n",
        "\n",
        "  def print_side_lines(lines, columns):\n",
        "    for j in range(lines):\n",
        "      print(\"|\", end=\"\")\n",
        "      for k in range(columns):\n",
        "        print(\" \", end=\"\")\n",
        "      print(\"|\")\n",
        "\n",
        "  print(\"\\n\")\n",
        "  lines  = normalize_parameter_size(lines)\n",
        "  columns = normalize_parameter_size(columns)\n",
        "  print_border_line(columns)\n",
        "  print_side_lines(lines, columns)\n",
        "  print_border_line(columns)\n",
        "\n",
        "lines = int(input(\"Número de linhas: \"))\n",
        "columns = int(input(\"Número de colunas: \"))\n",
        "\n",
        "make_rectangle(lines, columns)"
      ],
      "metadata": {
        "colab": {
          "base_uri": "https://localhost:8080/"
        },
        "id": "oLznOwhI4tse",
        "outputId": "93295d9a-c952-4c96-e2d2-04eaa71537e0"
      },
      "execution_count": null,
      "outputs": [
        {
          "output_type": "stream",
          "name": "stdout",
          "text": [
            "Número de linhas: -5\n",
            "Número de colunas: 45\n",
            "\n",
            "\n",
            "+−−−−−−−−−−−−−−−−−−−−+\n",
            "|                    |\n",
            "+−−−−−−−−−−−−−−−−−−−−+\n"
          ]
        }
      ]
    },
    {
      "cell_type": "code",
      "source": [
        "# 2\n",
        "# Escreva uma função que receba uma string e uma lista.\n",
        "# A função deve comparar a string passada com os elementos da lista,\n",
        "# também passada como parâmetro. Retorne verdadeiro se a string for\n",
        "# encontrada dentro da lista, e falso, caso contrário.\n",
        "\n",
        "def is_text_in_the_list(text, list):\n",
        "  return text in list\n",
        "\n",
        "text = input(\"Insira uma string: \")\n",
        "\n",
        "n = int(input(\"Insira a quantidade de elementos da lista: \"))\n",
        "list = []\n",
        "for i in range(0, n):\n",
        "    list.append(input(\"Elemento {0}: \".format(i+1)))\n",
        "\n",
        "if is_text_in_the_list(text, list):\n",
        "  print(\"\\nA string faz parte da lista.\")\n",
        "else:\n",
        "  print(\"\\nA string não faz parte da lista.\")"
      ],
      "metadata": {
        "colab": {
          "base_uri": "https://localhost:8080/"
        },
        "id": "9tshSqQU6PIB",
        "outputId": "acfa8631-22b9-48ac-d13f-46b30e2075f3"
      },
      "execution_count": null,
      "outputs": [
        {
          "output_type": "stream",
          "name": "stdout",
          "text": [
            "Insira uma string: abacate\n",
            "Insira a quantidade de elementos da lista: 5\n",
            "Elemento 1: mamão\n",
            "Elemento 2: banana\n",
            "Elemento 3: laranja\n",
            "Elemento 4: abacate\n",
            "Elemento 5: uva\n",
            "\n",
            "A string faz parte da lista.\n"
          ]
        }
      ]
    },
    {
      "cell_type": "code",
      "source": [
        "# 3\n",
        "# Crie um programa que transfome o real em dólar\n",
        "\n",
        "option = int(input(\"Digite: \\\n",
        "\\n 1 - para inserir o valor do real em dólar\\\n",
        "\\n 2 - para inserir o valor do dólar em real\\n\"))\n",
        "\n",
        "if option == 1:\n",
        "  conversion = float(input(\"\\nValor do real em dólar: \"))\n",
        "  dollar = float(input(\"Valor em dólar: \"))\n",
        "  print(\"\\nValor em real = R$ {:.2f}\".format(dollar/conversion))\n",
        "else:\n",
        "  conversion = float(input(\"\\nValor do dólar em real: \"))\n",
        "  brl = float(input(\"Valor em real: \"))\n",
        "  print(\"\\nValor em dólar = R$ {:.2f}\".format(brl/conversion).replace(\".\", \",\"))\n"
      ],
      "metadata": {
        "colab": {
          "base_uri": "https://localhost:8080/"
        },
        "id": "YB_u-LkQ6yiY",
        "outputId": "22fd950f-fe69-43e9-f530-1d8007138f76"
      },
      "execution_count": null,
      "outputs": [
        {
          "output_type": "stream",
          "name": "stdout",
          "text": [
            "Digite: \n",
            " 1 - para inserir o valor do real em dólar\n",
            " 2 - para inserir o valor do dólar em real\n",
            "1\n",
            "\n",
            "Valor do real em dólar: 0.20\n",
            "Valor em dólar: 100\n",
            "\n",
            "Valor em real = R$ 500.00\n"
          ]
        }
      ]
    },
    {
      "cell_type": "code",
      "source": [
        "# 4\n",
        "# Crie um programa que calcule 25% de aumento no salário\n",
        "\n",
        "def list_multiplication(numbers):\n",
        "  multiplication = numbers[0]\n",
        "  for i in range(1, len(numbers)):\n",
        "    multiplication *= numbers[i]\n",
        "  return multiplication\n",
        "\n",
        "salary = float(input(\"Insira um salário: \"))\n",
        "\n",
        "print(\"\\nSalário com aumento de 25% = R$ {:.2f}\".format(salary*1.25).replace(\".\", \",\"))"
      ],
      "metadata": {
        "colab": {
          "base_uri": "https://localhost:8080/"
        },
        "id": "Ax4vru-eCNFs",
        "outputId": "a6ee6d5c-03c8-493f-c3ba-d59bbcc210e8"
      },
      "execution_count": null,
      "outputs": [
        {
          "output_type": "stream",
          "name": "stdout",
          "text": [
            "Insira um salário: 1000\n",
            "\n",
            "Salário com aumento de 25% = R$ 1250,00\n"
          ]
        }
      ]
    },
    {
      "cell_type": "code",
      "source": [
        "# 5\n",
        "# Crie um programa que transfome a letra Maiuscula em Minuscula\n",
        "\n",
        "text = input(\"Insira um texto: \")\n",
        "print(\"\\nTexto em letras minúsculas: {0}\".format(text.lower()))"
      ],
      "metadata": {
        "colab": {
          "base_uri": "https://localhost:8080/"
        },
        "id": "aGEFOvxYEFMd",
        "outputId": "fe9d83e5-1647-45bf-91b3-f30767a0bf7b"
      },
      "execution_count": null,
      "outputs": [
        {
          "output_type": "stream",
          "name": "stdout",
          "text": [
            "Insira um texto: MINÚSCULA\n",
            "\n",
            "Texto em letras minúsculas: minúscula\n"
          ]
        }
      ]
    },
    {
      "cell_type": "code",
      "source": [
        "# 6\n",
        "# Crie um programa que verifica se a pessoa está apta ou não para votar nas eleições.\n",
        "# Critérios:\n",
        "# Idade menor que 16: Não pode votar\n",
        "# 16 <= Idade < 18: Opcional\n",
        "# 18 <=Idade <= 65: Obrigatório\n",
        "# Idade maior que 65: Opcional\n",
        "\n",
        "age = int(input(\"Insira uma idade: \"))\n",
        "\n",
        "if age < 16:\n",
        "  print(\"\\nNão está apto a votar.\")\n",
        "elif age < 18 or age > 65:\n",
        "  print(\"\\nVoto opcional.\")\n",
        "else:\n",
        "  print(\"\\nVoto obrigatório\")"
      ],
      "metadata": {
        "colab": {
          "base_uri": "https://localhost:8080/"
        },
        "id": "Bmp0OX5mF5OH",
        "outputId": "db0a3864-516f-46b8-8b03-c632b5245d77"
      },
      "execution_count": null,
      "outputs": [
        {
          "output_type": "stream",
          "name": "stdout",
          "text": [
            "Insira uma idade: 80\n",
            "\n",
            "Voto opcional.\n"
          ]
        }
      ]
    },
    {
      "cell_type": "code",
      "source": [
        "# 7\n",
        "# Crie um programa que leia o seu nome completo e que apresente\n",
        "# somente o seu primeiro e último nomes\n",
        "\n",
        "name = input(\"Insira seu nome completo \")\n",
        "\n",
        "print(\"Primeiro e último nome: {0}\".format())"
      ],
      "metadata": {
        "id": "oVmnejj7IGq-"
      },
      "execution_count": null,
      "outputs": []
    },
    {
      "cell_type": "code",
      "source": [
        "# 8\n",
        "# Crie um programa que leia um número qualquer e informe se ele é par ou ímpar\n",
        "\n",
        "number = float(input(\"Insira um número: \"))\n",
        "\n",
        "if number % 2 == 0:\n",
        "  print(\"\\nO número é par.\\n\")\n",
        "else:\n",
        "  print(\"\\nO número é ímpar.\\n\")"
      ],
      "metadata": {
        "colab": {
          "base_uri": "https://localhost:8080/"
        },
        "id": "7C-RTlBuIVCt",
        "outputId": "10eefd2d-414d-452e-8459-15768187dbf9"
      },
      "execution_count": null,
      "outputs": [
        {
          "output_type": "stream",
          "name": "stdout",
          "text": [
            "Insira um número: 7\n",
            "\n",
            "O número é ímpar.\n",
            "\n"
          ]
        }
      ]
    },
    {
      "cell_type": "code",
      "source": [
        "# 9\n",
        "# Crie um programa que apresente o maior e o menor valores da sequência\n",
        "# [54, 10, 29, 87, 7, 64]\n",
        "\n",
        "n = int(input(\"Insira a quantidade de números da lista: \"))\n",
        "numbers = []\n",
        "for i in range(0, n):\n",
        "    numbers.append(int(input(\"Número {0}: \".format(i+1))))\n",
        "\n",
        "biggest_number = numbers[0]\n",
        "smallest_number = numbers[0]\n",
        "for i in range(1, len(numbers)):\n",
        "  if numbers[i] > biggest_number:\n",
        "    biggest_number = numbers[i]\n",
        "  if numbers[i] < smallest_number:\n",
        "    smallest_number = numbers[i]\n",
        "\n",
        "print(\n",
        "  \"O menor número da lista é '{0}' e o maior número da lista é '{1}'.\"\n",
        "  .format(smallest_number, biggest_number)\n",
        ")"
      ],
      "metadata": {
        "colab": {
          "base_uri": "https://localhost:8080/"
        },
        "id": "eBIemxrxrLqo",
        "outputId": "4178fb31-9dce-4347-9dad-22b33d5fcefc"
      },
      "execution_count": null,
      "outputs": [
        {
          "output_type": "stream",
          "name": "stdout",
          "text": [
            "Insira a quantidade de números da lista: 6\n",
            "Número 1: 54\n",
            "Número 2: 10\n",
            "Número 3: 29\n",
            "Número 4: 87\n",
            "Número 5: 7\n",
            "Número 6: 64\n",
            "O menor número da lista é '7' e o maior número da lista é '87'.\n"
          ]
        }
      ]
    }
  ]
}