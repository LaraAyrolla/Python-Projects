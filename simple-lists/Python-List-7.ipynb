{
  "nbformat": 4,
  "nbformat_minor": 0,
  "metadata": {
    "colab": {
      "provenance": [],
      "authorship_tag": "ABX9TyM7Q0zY6TcYu0uUopcDk8zH",
      "include_colab_link": true
    },
    "kernelspec": {
      "name": "python3",
      "display_name": "Python 3"
    },
    "language_info": {
      "name": "python"
    }
  },
  "cells": [
    {
      "cell_type": "markdown",
      "metadata": {
        "id": "view-in-github",
        "colab_type": "text"
      },
      "source": [
        "<a href=\"https://colab.research.google.com/github/LaraAyrolla/Python-Projects/blob/main/simple-lists/Python-List-7.ipynb\" target=\"_parent\"><img src=\"https://colab.research.google.com/assets/colab-badge.svg\" alt=\"Open In Colab\"/></a>"
      ]
    },
    {
      "cell_type": "markdown",
      "source": [
        "**Programação de Soluções Computacionais**\n",
        "\n",
        "\n",
        "PROVA A1 - PYTHON"
      ],
      "metadata": {
        "id": "uN0mxitVD-H_"
      }
    },
    {
      "cell_type": "code",
      "source": [
        "## QUESTÃO 1 ##\n",
        "\n",
        "# No sistema binário, cada dígito binário é uma potência de 2 maior que o dígito\n",
        "# binário precedente. O dígito mais à direita tem um peso de 20, que em decimal\n",
        "# corresponde a 1, o próximo bit à esquerda tem um peso de 21 (em decimal, é\n",
        "# igual a 2), logo próximo bit à esquerda tem um peso de 22 (que em decimal, é\n",
        "# igual a 4), e assim por diante.\n",
        "\n",
        "# Por exemplo, o número binário 1101 tem um valor decimal igual a 13, porque:\n",
        "\n",
        "# 1101(2) = (1 * 23) + (1 * 2²) + (0 * 2¹) + (1 * 20) = (1 * 8 ) + (1 * 4 ) +\n",
        "# (0 * 2 ) + (1 * 1)  = 13(10)\n",
        "\n",
        "# Visto isso, escreva um código (em Python ou Java) que receba um valor em\n",
        "# binário como entrada e imprima o valor correspondente em decimal.\n",
        "\n",
        "## RESPOSTA: ##\n",
        "import sys\n",
        "\n",
        "binario = input(\"Insira um número na base 2 (binário): \")\n",
        "tamanho = len(binario)\n",
        "\n",
        "digitos_permitidos = [\"0\", \"1\"]\n",
        "for i in range(tamanho):\n",
        "  if binario[i] not in digitos_permitidos:\n",
        "    print(\"\\nO número não é um binário válido. \\\n",
        "      Números binários somente contêm os dígitos '0' e '1'. \\n\"\n",
        "    )\n",
        "    sys.exit()\n",
        "\n",
        "decimal = 0\n",
        "for i in range(tamanho):\n",
        "  decimal += int(binario[tamanho - i - 1]) * 2**i\n",
        "\n",
        "print(\"\\nA conversão do número para base 10 (decimal) é '{0}'\".format(decimal))"
      ],
      "metadata": {
        "colab": {
          "base_uri": "https://localhost:8080/"
        },
        "id": "OnepiqzPG9lE",
        "outputId": "3e2be40d-9ee0-4989-db9f-0508a1d1134f"
      },
      "execution_count": null,
      "outputs": [
        {
          "output_type": "stream",
          "name": "stdout",
          "text": [
            "Insira um número na base 2 (binário): 1101\n",
            "\n",
            "A conversão do número para base 10 (decimal) é '13'\n"
          ]
        }
      ]
    },
    {
      "cell_type": "code",
      "execution_count": null,
      "metadata": {
        "colab": {
          "base_uri": "https://localhost:8080/"
        },
        "id": "3_Z5v54gD844",
        "outputId": "ac375932-c7bd-49d5-eb1b-1c362b50450a"
      },
      "outputs": [
        {
          "output_type": "stream",
          "name": "stdout",
          "text": [
            "Opção 2 selecionada.\n"
          ]
        }
      ],
      "source": [
        "## QUESTÃO 2 ##\n",
        "\n",
        "# Em várias linguagens de programação, como C, Java e PHP, existe uma estrutura\n",
        "# de código \"switch-case\" para lidar com múltiplas condições.\n",
        "\n",
        "# A sintaxe básica do \"switch-case\" em Java é a seguinte:\n",
        "\n",
        "# switch (expressão) {\n",
        "#   case valor1:\n",
        "#     // instruções caso o valor da expressão seja igual a valor1\n",
        "#     break;\n",
        "#   case valor2:\n",
        "#     // instruções caso o valor da expressão seja igual a valor2\n",
        "#     break;\n",
        "#   // mais opções aqui, se necessário\n",
        "#   default:\n",
        "#     // instruções caso nenhum dos valores seja igual ao valor da expressão\n",
        "# }\n",
        "\n",
        "# Observe o código em Java a seguir e reescreva-o em Python. Use a estrutura de\n",
        "# código disponível em Python para tratar múltiplas condições.\n",
        "\n",
        "# int opcao = 2;\n",
        "# switch (opcao) {\n",
        "#   case 1:\n",
        "#     System.out.println(\"Opção 1 selecionada.\");\n",
        "#     break;\n",
        "#   case 2:\n",
        "#     System.out.println(\"Opção 2 selecionada.\");\n",
        "#     break;\n",
        "#   case 3:\n",
        "#     System.out.println(\"Opção 3 selecionada.\");\n",
        "#     break;\n",
        "#   default:\n",
        "#     System.out.println(\"Opção inválida.\");\n",
        "#     break;\n",
        "# }\n",
        "\n",
        "## RESPOSTA: ##\n",
        "# Utilizando \"match\":\n",
        "opcao = 2\n",
        "\n",
        "match opcao:\n",
        "  case 1:\n",
        "    print(\"Opção 1 selecionada.\")\n",
        "  case 2:\n",
        "    print(\"Opção 2 selecionada.\")\n",
        "  case 3:\n",
        "    print(\"Opção 3 selecionada.\")\n",
        "  case _:\n",
        "    print(\"Opção inválida.\")"
      ]
    },
    {
      "cell_type": "code",
      "source": [
        "# Utilizando \"if, else, elif\":\n",
        "opcao = 2\n",
        "\n",
        "if opcao == 1:\n",
        "  print(\"Opção 1 selecionada.\")\n",
        "elif opcao == 2:\n",
        "    print(\"Opção 2 selecionada.\")\n",
        "elif opcao == 3:\n",
        "    print(\"Opção 3 selecionada.\")\n",
        "else:\n",
        "    print(\"Opção inválida.\")"
      ],
      "metadata": {
        "colab": {
          "base_uri": "https://localhost:8080/"
        },
        "id": "ldar9BXUF3AX",
        "outputId": "038cdccb-c80f-497e-de10-77fce5252830"
      },
      "execution_count": null,
      "outputs": [
        {
          "output_type": "stream",
          "name": "stdout",
          "text": [
            "Opção 2 selecionada.\n"
          ]
        }
      ]
    }
  ]
}