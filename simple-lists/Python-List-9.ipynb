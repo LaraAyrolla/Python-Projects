{
  "nbformat": 4,
  "nbformat_minor": 0,
  "metadata": {
    "colab": {
      "provenance": [],
      "authorship_tag": "ABX9TyPw0WowFES+oni9e4Ihe0Bs",
      "include_colab_link": true
    },
    "kernelspec": {
      "name": "python3",
      "display_name": "Python 3"
    },
    "language_info": {
      "name": "python"
    }
  },
  "cells": [
    {
      "cell_type": "markdown",
      "metadata": {
        "id": "view-in-github",
        "colab_type": "text"
      },
      "source": [
        "<a href=\"https://colab.research.google.com/github/LaraAyrolla/Python-Projects/blob/main/simple-lists/Python-List-9.ipynb\" target=\"_parent\"><img src=\"https://colab.research.google.com/assets/colab-badge.svg\" alt=\"Open In Colab\"/></a>"
      ]
    },
    {
      "cell_type": "markdown",
      "source": [
        "**Programação de Soluções Computacionais**\n",
        "\n",
        "\n",
        "9ª LISTA DE EXERCÍCIOS - RegEx - PYTHON"
      ],
      "metadata": {
        "id": "uN0mxitVD-H_"
      }
    },
    {
      "cell_type": "markdown",
      "source": [
        "**(1) - Escreva uma expressão regular que:**\n",
        "\n",
        "  **a.** Reconheça as palavras-chave da linguagem Python: if, else, for, while, def.\n",
        "\n",
        "  **\\b(if|else|for|while|def)\\b**\n",
        "\n",
        "\n",
        "  **b.** Reconheça identificadores de variáveis válidos. Um identificador válido começa com uma letra (maiúscula ou minúscula) ou um sublinhado, seguido por letras, dígitos ou sublinhados.\n",
        "\n",
        "  **\\b[a-zA-Z_][a-zA-Z0-9_]*\\b**\n",
        "\n",
        "\n",
        "  **c.** Identifique números inteiros e de ponto flutuante válidos. Um número válido pode ser positivo ou negativo e pode conter parte decimal.\n",
        "\n",
        "  **\\b-?\\d+(\\.\\d+)?\\b**\n",
        "\n",
        "\n",
        "  **d.** Reconheça datas no formato \"dd/mm/aaaa\". As datas devem estar dentro de um intervalo específico (por exemplo, entre 01/01/1900 e 31/12/2099).\n",
        "\n",
        "  **\\b(0[1-9]|[12]\\d|3[01])\\/(0[1-9]|1[0-2])\\/(19\\d{2}|20\\d{2})\\b**\n",
        "\n",
        "\n",
        "  **e.** Corresponda a endereços de e-mail válidos.\n",
        "  \n",
        "  **\\b[A-Za-z0-9._%+-]+@[A-Za-z0-9.-]+\\.[A-Z|a-z]{2,}\\b**\n",
        "\n",
        "\n",
        "  **f.** Reconheça URLs válidas. A URL deve incluir o protocolo (por exemplo, \"http\" ou \"https\"), o domínio e pode incluir caminhos e parâmetros opcionais.\n",
        "\n",
        "  **\\bhttps?:\\/\\/[A-Za-z0-9-]+(\\.[A-Za-z]{2,})+(\\/[A-Za-z0-9\\/?=%&-]*)?\\b**"
      ],
      "metadata": {
        "id": "KDUp8E8_mH3I"
      }
    },
    {
      "cell_type": "code",
      "source": [
        "import re"
      ],
      "metadata": {
        "id": "vPK6i93YmY62"
      },
      "execution_count": null,
      "outputs": []
    },
    {
      "cell_type": "code",
      "source": [
        "# 2 - Faça um código em Python usando regEx para extrair todos e-mails encontrados em uma string\n",
        "\n",
        "string = \"Os e-mails são email@email.com e teste@teste.com.\"\n",
        "\n",
        "emailRegex = r'\\b[A-Za-z0-9._%+-]+@[A-Za-z0-9.-]+.[A-Z|a-z]{2,}\\b'\n",
        "emails = re.findall(emailRegex, string)\n",
        "\n",
        "for email in emails:\n",
        "    print(email)"
      ],
      "metadata": {
        "colab": {
          "base_uri": "https://localhost:8080/"
        },
        "id": "OPHqCiFHhDnG",
        "outputId": "59513943-291b-45ba-b216-96278687e621"
      },
      "execution_count": null,
      "outputs": [
        {
          "output_type": "stream",
          "name": "stdout",
          "text": [
            "email@email.com\n",
            "teste@teste.com\n"
          ]
        }
      ]
    },
    {
      "cell_type": "code",
      "source": [
        "# 3 - Altere a regex ^\\w+@\\w+\\.\\w+$ para que aceite e-mails com subdomínio(s)\n",
        "\n",
        "# ^\\w+@\\w+[\\.\\w+]+$\n",
        "\n",
        "string = \"Os e-mails são email@email.com, teste@teste.com e email@teste.com.br\"\n",
        "\n",
        "emailRegex = r'\\b\\w+@\\w+[\\.\\w+]+\\b'\n",
        "emails = re.findall(emailRegex, string)\n",
        "\n",
        "for email in emails:\n",
        "    print(email)"
      ],
      "metadata": {
        "colab": {
          "base_uri": "https://localhost:8080/"
        },
        "id": "NsHqezmdh1hO",
        "outputId": "0319ab67-6a8a-4b7e-d29e-bcfc4e772e98"
      },
      "execution_count": null,
      "outputs": [
        {
          "output_type": "stream",
          "name": "stdout",
          "text": [
            "email@email.com\n",
            "teste@teste.com\n",
            "email@teste.com.br\n"
          ]
        }
      ]
    },
    {
      "cell_type": "code",
      "source": [
        "# 4 - Faça uma regex para validar um endereço IPv4. Lembrando que são 4 octetos\n",
        "# que podem variar de 0 a 255, separados por ponto. Exemplo: 200.229.33.56\n",
        "\n",
        "# \\b((?:25[0-5]|2[0-4][0-9]|[01]?[0-9][0-9]?)(?:\\.(?!$)|$)){4}\\b\n",
        "\n",
        "string = \"200.229.33.56\"\n",
        "\n",
        "ipv4Regex = r'\\b((?:25[0-5]|2[0-4][0-9]|[01]?[0-9][0-9]?)(?:\\.(?!$)|$)){4}\\b'\n",
        "\n",
        "if re.fullmatch(ipv4Regex, string):\n",
        "    print(\"É um IPv4 válido.\")\n",
        "else:\n",
        "  print(\"Não é um IPv4 válido.\")"
      ],
      "metadata": {
        "colab": {
          "base_uri": "https://localhost:8080/"
        },
        "id": "ogl8CV0jigy4",
        "outputId": "84e87a60-24d5-45cf-83a5-2b9ce5070b88"
      },
      "execution_count": null,
      "outputs": [
        {
          "output_type": "stream",
          "name": "stdout",
          "text": [
            "É um IPv4 válido.\n"
          ]
        }
      ]
    },
    {
      "cell_type": "code",
      "source": [
        "# 5 - Faça uma regex para validar um endereço IPv6. Lembrando que são 8\n",
        "# hexadecatetos onde cada um tem de 1 a 4 dígitos em hexadecimal que podem\n",
        "# variar de 0 a F, separados por dois pontos.\n",
        "# Exemplo: 1050:0:12:100:A005:F6:300c:326b\n",
        "\n",
        "# \\b(?:[0-9a-fA-F]{1,4}:){7}[0-9a-fA-F]{1,4}\\b\n",
        "\n",
        "\n",
        "string = \"1050:0:12:100:A005:F6:300c:326b\"\n",
        "\n",
        "ipv6Regex = r'\\b(?:[0-9a-fA-F]{1,4}:){7}[0-9a-fA-F]{1,4}\\b'\n",
        "\n",
        "if re.fullmatch(ipv6Regex, string):\n",
        "    print(\"É um IPv6 válido.\")\n",
        "else:\n",
        "  print(\"Não é um IPv6 válido.\")"
      ],
      "metadata": {
        "colab": {
          "base_uri": "https://localhost:8080/"
        },
        "id": "KrsuGZMojJeL",
        "outputId": "d5de194a-4547-45c0-ef9c-0da6e79432ba"
      },
      "execution_count": null,
      "outputs": [
        {
          "output_type": "stream",
          "name": "stdout",
          "text": [
            "É um IPv6 válido.\n"
          ]
        }
      ]
    }
  ]
}