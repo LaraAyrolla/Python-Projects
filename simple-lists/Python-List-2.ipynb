{
  "nbformat": 4,
  "nbformat_minor": 0,
  "metadata": {
    "colab": {
      "provenance": [],
      "authorship_tag": "ABX9TyP/pYpSJhrxkGLlKbFvcijp",
      "include_colab_link": true
    },
    "kernelspec": {
      "name": "python3",
      "display_name": "Python 3"
    },
    "language_info": {
      "name": "python"
    }
  },
  "cells": [
    {
      "cell_type": "markdown",
      "metadata": {
        "id": "view-in-github",
        "colab_type": "text"
      },
      "source": [
        "<a href=\"https://colab.research.google.com/github/LaraAyrolla/Python-Projects/blob/main/simple-lists/Python-List-2.ipynb\" target=\"_parent\"><img src=\"https://colab.research.google.com/assets/colab-badge.svg\" alt=\"Open In Colab\"/></a>"
      ]
    },
    {
      "cell_type": "markdown",
      "source": [
        "**Programação de Soluções Computacionais**\n",
        "\n",
        "\n",
        "2ª LISTA DE EXERCÍCIOS - PYTHON"
      ],
      "metadata": {
        "id": "NnTNS831quES"
      }
    },
    {
      "cell_type": "code",
      "source": [
        "# 1\n",
        "# Imprimir seu nome com uma letra por linha\n",
        "\n",
        "name = input(\"Digite seu nome: \")\n",
        "\n",
        "print(\"\\n\")\n",
        "\n",
        "for character in name:\n",
        "  print(character)"
      ],
      "metadata": {
        "colab": {
          "base_uri": "https://localhost:8080/"
        },
        "id": "oLznOwhI4tse",
        "outputId": "b6db3ea9-5d92-471e-adf8-7def04adb683"
      },
      "execution_count": 12,
      "outputs": [
        {
          "output_type": "stream",
          "name": "stdout",
          "text": [
            "Digite seu nome: Lara\n",
            "\n",
            "\n",
            "L\n",
            "a\n",
            "r\n",
            "a\n"
          ]
        }
      ]
    },
    {
      "cell_type": "code",
      "source": [
        "# 2\n",
        "# Escreva uma função que receba uma string e conte o número de vogais dentro dela,\n",
        "# por exemplo: entrada: 'Ciência de Dados'\n",
        "\n",
        "import unicodedata\n",
        "\n",
        "def count_vowels(text):\n",
        "  vowels = [\"a\", \"e\", \"i\", \"o\", \"u\"]\n",
        "  counter = 0\n",
        "  for i in range(len(text)):\n",
        "    if text[i] in vowels:\n",
        "      counter += 1\n",
        "  return counter\n",
        "\n",
        "text = input(\"Insira um texto: \").lower()\n",
        "text = unicodedata.normalize('NFD', text).encode('ascii', 'ignore').decode(\"utf-8\")\n",
        "\n",
        "vowels_counter = count_vowels(text)\n",
        "\n",
        "print(\"\\nO texto tem {0} vogais\".format(vowels_counter))"
      ],
      "metadata": {
        "colab": {
          "base_uri": "https://localhost:8080/"
        },
        "id": "9tshSqQU6PIB",
        "outputId": "63becc82-5803-4cd9-c6bf-d0dcf9c21300"
      },
      "execution_count": 78,
      "outputs": [
        {
          "output_type": "stream",
          "name": "stdout",
          "text": [
            "Insira um texto: Ciência de Dados\n",
            "\n",
            "O texto tem 7 vogais\n"
          ]
        }
      ]
    },
    {
      "cell_type": "code",
      "source": [
        "# 3\n",
        "# Desenha moldura. Construa uma função que desenhe um retângulo usando os caracteres\n",
        "# '+' , '−' e '|'. Esta função deve receber dois parâmetros, linhas e colunas,\n",
        "# sendo que o valor por omissão é o valor mínimo igual a 1 e o valor máximo é 20.\n",
        "# Se valores fora da faixa forem informados, eles devem ser modificados para valores\n",
        "# dentro da faixa de forma elegante.\n",
        "\n",
        "def normalize_parameter_size(parameter):\n",
        "  if parameter < 1:\n",
        "    return 1\n",
        "  elif parameter > 20:\n",
        "    return 20\n",
        "  else:\n",
        "    return parameter\n",
        "\n",
        "def print_border_line(columns):\n",
        "  print(\"+\", end=\"\")\n",
        "  for i in range(columns):\n",
        "    print(\"−\", end=\"\")\n",
        "  print(\"+\")\n",
        "\n",
        "def print_side_lines(lines, columns):\n",
        "  for j in range(lines):\n",
        "    print(\"|\", end=\"\")\n",
        "    for k in range(columns):\n",
        "      print(\" \", end=\"\")\n",
        "    print(\"|\")\n",
        "\n",
        "def print_rectangle(lines, columns):\n",
        "  print(\"\\n\")\n",
        "  print_border_line(columns)\n",
        "  print_side_lines(lines, columns)\n",
        "  print_border_line(columns)\n",
        "\n",
        "lines = normalize_parameter_size(int(input(\"Número de linhas: \")))\n",
        "columns = normalize_parameter_size(int(input(\"Número de colunas: \")))\n",
        "\n",
        "print_rectangle(lines, columns)"
      ],
      "metadata": {
        "colab": {
          "base_uri": "https://localhost:8080/"
        },
        "id": "YB_u-LkQ6yiY",
        "outputId": "f19c58a1-6789-43de-fa23-36c4d677970c"
      },
      "execution_count": 35,
      "outputs": [
        {
          "output_type": "stream",
          "name": "stdout",
          "text": [
            "Número de linhas: -5\n",
            "Número de colunas: 45\n",
            "\n",
            "\n",
            "+−−−−−−−−−−−−−−−−−−−−+\n",
            "|                    |\n",
            "+−−−−−−−−−−−−−−−−−−−−+\n"
          ]
        }
      ]
    },
    {
      "cell_type": "code",
      "source": [
        "# 4\n",
        "# Crie um função que retorna o resto de uma divisão\n",
        "\n",
        "def division_rest(dividend, divisor):\n",
        "  counter = 0\n",
        "  while counter < dividend:\n",
        "      counter += divisor\n",
        "  if counter > dividend:\n",
        "      counter -= divisor\n",
        "  return dividend - counter\n",
        "\n",
        "dividend = int(input(\"Dividendo: \"))\n",
        "divisor = int(input(\"Divisor: \"))\n",
        "\n",
        "rest = division_rest(dividend, divisor)\n",
        "\n",
        "print(\"\\nO resto da divisão é \", rest)"
      ],
      "metadata": {
        "colab": {
          "base_uri": "https://localhost:8080/"
        },
        "id": "Ax4vru-eCNFs",
        "outputId": "ecada983-029a-419f-8ff2-855f1dca75a6"
      },
      "execution_count": 53,
      "outputs": [
        {
          "output_type": "stream",
          "name": "stdout",
          "text": [
            "Dividendo: 200\n",
            "Divisor: 3\n",
            "\n",
            "O resto da divisão é  2\n"
          ]
        }
      ]
    },
    {
      "cell_type": "code",
      "source": [
        "# 5\n",
        "# Escreva um programa que pergunte a quantidade de km percorridos por um carro alugado\n",
        "# pelo usuário, assim como a quantidade de dias pelos quais o carro foi alugado.\n",
        "# Calcule o preço a pagar, sabendo que o carro custa R$ 60,00 por dia e R$ 0,15 por km rodado.\n",
        "\n",
        "print(\"Quais foram as condições do aluguel do carro?\")\n",
        "days = int(input(\"Dias: \"))\n",
        "kilometers = int(input(\"Quilômetros percorridos: \"))\n",
        "\n",
        "total = days*60 + kilometers*0.15\n",
        "\n",
        "print(\"\\nO preço a pagar é R$ {:.2f}\".format(total).replace(\".\", \",\"))"
      ],
      "metadata": {
        "colab": {
          "base_uri": "https://localhost:8080/"
        },
        "id": "aGEFOvxYEFMd",
        "outputId": "f82b71e8-1d28-4c37-a38c-96d84542608e"
      },
      "execution_count": 46,
      "outputs": [
        {
          "output_type": "stream",
          "name": "stdout",
          "text": [
            "Quais foram as condições do aluguel do carro?\n",
            "Dias: 10\n",
            "Quilômetros percorridos: 4\n",
            "\n",
            "O preço a pagar é R$ 600,60\n"
          ]
        }
      ]
    },
    {
      "cell_type": "code",
      "source": [
        "# 6\n",
        "# Escreva um programa para calcular a redução do tempo de vida de um fumante.\n",
        "# Pergunte a quantidade de cigarros fumados por dia e quantos anos ele já fumou.\n",
        "# Considere que um fumante perde 10 minutos de vida a cada cigarro, e calcule quantos\n",
        "# dias de vida um fumante perderá. Exiba o total em dias.\n",
        "\n",
        "cigarettes = int(input(\"Qual a quantidade de cigarros fumados por dia? \"))\n",
        "years = int(input(\"Quantos anos você já fumou? \"))\n",
        "\n",
        "total_cigarettes = 365*years*cigarettes\n",
        "minutes_lost = (365 * years) * (cigarettes * 10)\n",
        "days_lost = minutes_lost/1440\n",
        "\n",
        "print(\"\\nVocê já perdeu {0} dias de vida.\".format(days_lost))"
      ],
      "metadata": {
        "colab": {
          "base_uri": "https://localhost:8080/"
        },
        "id": "Bmp0OX5mF5OH",
        "outputId": "4bf2b026-1600-41da-d74a-741ee827a416"
      },
      "execution_count": 52,
      "outputs": [
        {
          "output_type": "stream",
          "name": "stdout",
          "text": [
            "Qual a quantidade de cigarros fumados por dia? 1\n",
            "Quantos anos você já fumou? 1\n",
            "\n",
            "Você já perdeu 2.5347222222222223 dias de vida.\n"
          ]
        }
      ]
    },
    {
      "cell_type": "code",
      "source": [
        "# 7\n",
        "# Validar e corrigir número de telefone.\n",
        "# Faça um programa que leia um número de telefone, e corrija o número no caso deste\n",
        "# conter somente 7 dígitos, acrescentando o '3' na frente.\n",
        "# O usuário pode informar o número com ou sem o traço separador\n",
        "\n",
        "phone_number = input(\"Informar número de telefone: \").replace(\"-\", \"\")\n",
        "length = len(phone_number)\n",
        "\n",
        "if phone_number.isdigit() == False or (length != 7 and length != 8):\n",
        "  print(\"\\nO formato do número de telefone é inválido!\")\n",
        "else:\n",
        "  if len(phone_number) == 7:\n",
        "    phone_number = \"3\" + phone_number\n",
        "    phone_number = phone_number[:4] + '-' + phone_number[4:]\n",
        "    print(\"\\nTelefone corrigido: \", phone_number)\n",
        "  else:\n",
        "    print(\"\\nTelefone já está no formato correto!\")\n"
      ],
      "metadata": {
        "colab": {
          "base_uri": "https://localhost:8080/"
        },
        "id": "oVmnejj7IGq-",
        "outputId": "b5ed7ee1-8f3d-4b13-bbdb-ce20e235e5c2"
      },
      "execution_count": 77,
      "outputs": [
        {
          "output_type": "stream",
          "name": "stdout",
          "text": [
            "Informar número de telefone: 1234567\n",
            "\n",
            "Telefone corrigido:  3123-4567\n"
          ]
        }
      ]
    },
    {
      "cell_type": "code",
      "source": [
        "# 8\n",
        "# Faça uma função Calculadora que recebe uma expressão matemática e retorna o resultado\n",
        "# Ex:\n",
        "# Entrada: Digite uma expressão matemática: 4+5\n",
        "# Saída: O resultado é 9\n",
        "\n",
        "math_expression = input(\"Digite uma expressão matemática: \")\n",
        "\n",
        "result = eval(math_expression)\n",
        "\n",
        "print(\"\\nO resultado é \", result)"
      ],
      "metadata": {
        "colab": {
          "base_uri": "https://localhost:8080/"
        },
        "id": "7C-RTlBuIVCt",
        "outputId": "059169bf-6d03-4d70-9a16-6d88fd61d926"
      },
      "execution_count": 83,
      "outputs": [
        {
          "output_type": "stream",
          "name": "stdout",
          "text": [
            "Digite uma expressão matemática: (4 + 5) * 2 / 3\n",
            "\n",
            "O resultado é  6.0\n"
          ]
        }
      ]
    }
  ]
}