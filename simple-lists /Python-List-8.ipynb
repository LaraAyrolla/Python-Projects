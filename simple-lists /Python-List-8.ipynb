{
  "nbformat": 4,
  "nbformat_minor": 0,
  "metadata": {
    "colab": {
      "provenance": [],
      "authorship_tag": "ABX9TyOTdgkLGFJ2MaW7ax/fqeDQ",
      "include_colab_link": true
    },
    "kernelspec": {
      "name": "python3",
      "display_name": "Python 3"
    },
    "language_info": {
      "name": "python"
    }
  },
  "cells": [
    {
      "cell_type": "markdown",
      "metadata": {
        "id": "view-in-github",
        "colab_type": "text"
      },
      "source": [
        "<a href=\"https://colab.research.google.com/github/LaraAyrolla/Python-Projects/blob/main/simple-lists%20/Python-List-8.ipynb\" target=\"_parent\"><img src=\"https://colab.research.google.com/assets/colab-badge.svg\" alt=\"Open In Colab\"/></a>"
      ]
    },
    {
      "cell_type": "markdown",
      "source": [
        "**Programação de Soluções Computacionais**\n",
        "\n",
        "\n",
        "8ª LISTA DE EXERCÍCIOS - SQL - PYTHON"
      ],
      "metadata": {
        "id": "uN0mxitVD-H_"
      }
    },
    {
      "cell_type": "code",
      "source": [
        "import sqlite3"
      ],
      "metadata": {
        "id": "vPK6i93YmY62"
      },
      "execution_count": 1,
      "outputs": []
    },
    {
      "cell_type": "code",
      "source": [
        "# 1 - Crie um banco de dados chamado exercicio1.db\n",
        "\n",
        "conn = sqlite3.connect('exercicio.db')\n",
        "cursor = conn.cursor()"
      ],
      "metadata": {
        "id": "MkoS0iwOeqG1"
      },
      "execution_count": 2,
      "outputs": []
    },
    {
      "cell_type": "code",
      "source": [
        "# 2 - Crie uma tabela chamada 'cursos' para armazenar informações sobre os cursos.\n",
        "# A tabela deve ter uma coluna id que será a chave primária e outra com o nome do curso.\n",
        "\n",
        "sql = 'CREATE TABLE cursos(\\\n",
        "  id INTEGER PRIMARY KEY AUTOINCREMENT, \\\n",
        "  nome VARCHAR(100) NOT NULL\\\n",
        ")'\n",
        "\n",
        "cursor.execute(sql)"
      ],
      "metadata": {
        "colab": {
          "base_uri": "https://localhost:8080/"
        },
        "id": "OPHqCiFHhDnG",
        "outputId": "3c030ec6-582f-48aa-bf6e-db57f7c2c209"
      },
      "execution_count": 3,
      "outputs": [
        {
          "output_type": "execute_result",
          "data": {
            "text/plain": [
              "<sqlite3.Cursor at 0x7d968d5212c0>"
            ]
          },
          "metadata": {},
          "execution_count": 3
        }
      ]
    },
    {
      "cell_type": "code",
      "source": [
        "# 3 - Crie uma tabela chamada 'alunos' com as seguintes colunas:\n",
        "# id, nome, nota e curso_id\n",
        "\n",
        "sql = 'CREATE TABLE alunos(\\\n",
        "  id INTEGER PRIMARY KEY AUTOINCREMENT, \\\n",
        "  nome VARCHAR(100) NOT NULL,\\\n",
        "  nota FLOAT NOT NULL,\\\n",
        "  curso_id INTEGER,\\\n",
        "  FOREIGN KEY(curso_id) REFERENCES cursos(id)\\\n",
        ")'\n",
        "\n",
        "cursor.execute(sql)"
      ],
      "metadata": {
        "colab": {
          "base_uri": "https://localhost:8080/"
        },
        "id": "NsHqezmdh1hO",
        "outputId": "75e2d132-c5b9-4cb0-ccf7-73dae8a218e2"
      },
      "execution_count": 4,
      "outputs": [
        {
          "output_type": "execute_result",
          "data": {
            "text/plain": [
              "<sqlite3.Cursor at 0x7d968d5212c0>"
            ]
          },
          "metadata": {},
          "execution_count": 4
        }
      ]
    },
    {
      "cell_type": "code",
      "source": [
        "# 4 - Insira os cursos:\n",
        "# (1, 'Matemática'),\n",
        "# (2, 'História'),\n",
        "# (3, 'Ciências'),\n",
        "# (4, 'Inglês'),\n",
        "# (5, 'Programação')\n",
        "\n",
        "sql = 'insert into cursos (nome) values(?)'\n",
        "\n",
        "cursos = [['Matemática'],['História'],['Ciências'],['Inglês'],['Programação']]\n",
        "\n",
        "for curso in cursos:\n",
        "    cursor.execute(sql, curso)\n",
        "    print(curso)\n",
        "\n",
        "conn.commit()"
      ],
      "metadata": {
        "colab": {
          "base_uri": "https://localhost:8080/"
        },
        "id": "ogl8CV0jigy4",
        "outputId": "ac7d8211-4db1-4bcd-b939-e32f99e39bbb"
      },
      "execution_count": 5,
      "outputs": [
        {
          "output_type": "stream",
          "name": "stdout",
          "text": [
            "['Matemática']\n",
            "['História']\n",
            "['Ciências']\n",
            "['Inglês']\n",
            "['Programação']\n"
          ]
        }
      ]
    },
    {
      "cell_type": "code",
      "source": [
        "# 5 - Insira alguns registros na tabela 'alunos' com referência aos cursos\n",
        "\n",
        "# (1, 'Alice', 20, 9.5, 1), # Matemática\n",
        "# (2, 'Bob', 22, 8.0, 2), # História\n",
        "# (3, 'Carol', 21, 7.5, 1), # Matemática\n",
        "# (4, 'David', 23, 8.8, 3), # Ciências\n",
        "# (5, 'Eve', 19, 9.0, 2) # História\n",
        "# (6, 'Frank', 24, 8.7, 1), # Matemática\n",
        "# (6, 'Frank', 24, 8.7, 4) # Inglês\n",
        "\n",
        "sql = 'insert into alunos (nome, nota, curso_id) values(?,?,?)'\n",
        "\n",
        "alunos = [\n",
        "  ['Alice', '9.5', '1'],['Bob', '8', '2'],['Carol', '7.5', '1'],['David', '8.8', '3'],\\\n",
        "  ['Eve', '9', '2'],['Frank', '8.7', '1'],['Frank', '8.7', '4']\\\n",
        "]\n",
        "\n",
        "for aluno in alunos:\n",
        "    cursor.execute(sql, aluno)\n",
        "    print(aluno)\n",
        "\n",
        "conn.commit()"
      ],
      "metadata": {
        "colab": {
          "base_uri": "https://localhost:8080/"
        },
        "id": "KrsuGZMojJeL",
        "outputId": "981b37a7-8468-48c4-d037-6b5c5780860f"
      },
      "execution_count": 6,
      "outputs": [
        {
          "output_type": "stream",
          "name": "stdout",
          "text": [
            "['Alice', '9.5', '1']\n",
            "['Bob', '8', '2']\n",
            "['Carol', '7.5', '1']\n",
            "['David', '8.8', '3']\n",
            "['Eve', '9', '2']\n",
            "['Frank', '8.7', '1']\n",
            "['Frank', '8.7', '4']\n"
          ]
        }
      ]
    },
    {
      "cell_type": "code",
      "source": [
        "# 6 - Faça consultas SQL para recuperar informações dos alunos e seus cursos\n",
        "\n",
        "# a. Selecione todos os alunos e seus cursos\n",
        "\n",
        "sql = 'SELECT\\\n",
        "    a.id,\\\n",
        "    a.nome,\\\n",
        "    a.nota,\\\n",
        "    c.nome as curso,\\\n",
        "    c.id as curso_id\\\n",
        "  FROM alunos a\\\n",
        "  INNER JOIN cursos c ON c.id = a.curso_id\\\n",
        "'\n",
        "alunos = cursor.execute(sql)\n",
        "\n",
        "for aluno in alunos:\n",
        "    print(aluno)"
      ],
      "metadata": {
        "colab": {
          "base_uri": "https://localhost:8080/"
        },
        "id": "Z5fctDQ_kg5d",
        "outputId": "58285a40-7ad4-40f5-b210-eb3028b78f03"
      },
      "execution_count": 7,
      "outputs": [
        {
          "output_type": "stream",
          "name": "stdout",
          "text": [
            "(1, 'Alice', 9.5, 'Matemática', 1)\n",
            "(2, 'Bob', 8.0, 'História', 2)\n",
            "(3, 'Carol', 7.5, 'Matemática', 1)\n",
            "(4, 'David', 8.8, 'Ciências', 3)\n",
            "(5, 'Eve', 9.0, 'História', 2)\n",
            "(6, 'Frank', 8.7, 'Matemática', 1)\n",
            "(7, 'Frank', 8.7, 'Inglês', 4)\n"
          ]
        }
      ]
    },
    {
      "cell_type": "code",
      "source": [
        "# b. Selecione os alunos com notas acima de 7\n",
        "\n",
        "sql = 'SELECT\\\n",
        "    a.id,\\\n",
        "    a.nome,\\\n",
        "    a.nota\\\n",
        "  FROM alunos a\\\n",
        "  WHERE a.nota > 7\\\n",
        "'\n",
        "alunos = cursor.execute(sql)\n",
        "\n",
        "for aluno in alunos:\n",
        "    print(aluno)"
      ],
      "metadata": {
        "colab": {
          "base_uri": "https://localhost:8080/"
        },
        "id": "u_qBLv6ZlzAJ",
        "outputId": "ce7361e9-375d-4e34-e21c-585ea6581610"
      },
      "execution_count": 8,
      "outputs": [
        {
          "output_type": "stream",
          "name": "stdout",
          "text": [
            "(1, 'Alice', 9.5)\n",
            "(2, 'Bob', 8.0)\n",
            "(3, 'Carol', 7.5)\n",
            "(4, 'David', 8.8)\n",
            "(5, 'Eve', 9.0)\n",
            "(6, 'Frank', 8.7)\n",
            "(7, 'Frank', 8.7)\n"
          ]
        }
      ]
    },
    {
      "cell_type": "code",
      "source": [
        "# c. Selecione os alunos com nota acima de 7 e seus respectivos cursos\n",
        "\n",
        "sql = 'SELECT\\\n",
        "    a.id,\\\n",
        "    a.nome,\\\n",
        "    a.nota,\\\n",
        "    c.nome as curso,\\\n",
        "    c.id as curso_id\\\n",
        "  FROM alunos a\\\n",
        "  INNER JOIN cursos c ON c.id = a.curso_id\\\n",
        "  WHERE a.nota > 7\\\n",
        "'\n",
        "alunos = cursor.execute(sql)\n",
        "\n",
        "for aluno in alunos:\n",
        "    print(aluno)"
      ],
      "metadata": {
        "colab": {
          "base_uri": "https://localhost:8080/"
        },
        "id": "lQx75rHHmCPm",
        "outputId": "085698e3-6735-4961-a0c3-c15ebc2a04fb"
      },
      "execution_count": 9,
      "outputs": [
        {
          "output_type": "stream",
          "name": "stdout",
          "text": [
            "(1, 'Alice', 9.5, 'Matemática', 1)\n",
            "(2, 'Bob', 8.0, 'História', 2)\n",
            "(3, 'Carol', 7.5, 'Matemática', 1)\n",
            "(4, 'David', 8.8, 'Ciências', 3)\n",
            "(5, 'Eve', 9.0, 'História', 2)\n",
            "(6, 'Frank', 8.7, 'Matemática', 1)\n",
            "(7, 'Frank', 8.7, 'Inglês', 4)\n"
          ]
        }
      ]
    }
  ]
}